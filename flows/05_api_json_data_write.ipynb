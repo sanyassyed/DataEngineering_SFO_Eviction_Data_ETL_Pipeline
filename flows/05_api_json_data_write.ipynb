{
 "cells": [
  {
   "cell_type": "markdown",
   "id": "9fef7dcc",
   "metadata": {},
   "source": [
    "## Downloading data as json"
   ]
  },
  {
   "cell_type": "code",
   "execution_count": 5,
   "id": "9290d112",
   "metadata": {},
   "outputs": [],
   "source": [
    "from decouple import config, AutoConfig\n",
    "from datetime import datetime, timedelta\n",
    "import os\n",
    "import requests\n",
    "from pathlib import Path"
   ]
  },
  {
   "cell_type": "code",
   "execution_count": 6,
   "id": "8ec929fe",
   "metadata": {},
   "outputs": [],
   "source": [
    "config = AutoConfig(search_path='.env') # <-- .env file located next to manage.py"
   ]
  },
  {
   "cell_type": "code",
   "execution_count": 7,
   "id": "873e922f",
   "metadata": {},
   "outputs": [],
   "source": [
    "# download the json by supplying the api token in the header\n",
    "def get_json(endpoint, headers):\n",
    "    \"\"\"download the json by supplying the api token in the header\"\"\"\n",
    "    headers['Accept'] = 'application/json' # csv?\n",
    "    # pull_date = (datetime.now() - timedelta(days=180)).strftime(\"%Y-%m-%dT%H:%M:%S\") # year, month, day, hour, minute, seconds, microseconds\n",
    "    combined = []\n",
    "    offset, counter = 0, 1\n",
    "    error = False\n",
    "    params = f\"\"\"$query=SELECT:*,* ORDER BY :id LIMIT 2000\"\"\"\n",
    "    # response has two parts .json() and .headers https://www.w3schools.com/python/ref_requests_response.asp\n",
    "    response = requests.get(endpoint, headers=headers, params=params)\n",
    "    captured = response.json()\n",
    "    combined.extend(captured)\n",
    "    print('get_json complete')\n",
    "    return combined"
   ]
  },
  {
   "cell_type": "code",
   "execution_count": 8,
   "id": "4ed2747b",
   "metadata": {},
   "outputs": [
    {
     "name": "stdout",
     "output_type": "stream",
     "text": [
      "get_json complete\n"
     ]
    }
   ],
   "source": [
    "# Sodu API Credentials\n",
    "API_TOKEN = config(\"API_TOKEN\")\n",
    "API_KEY_ID = config(\"API_KEY_ID\")\n",
    "API_KEY_SECRET = config(\"API_KEY_SECRET\")\n",
    "\n",
    "source_path_json = '/home/sanyashireen/sf_eviction/data_eviction/2023/3/26/api_raw_eviction_2023-03-26.json'\n",
    "data_dir = Path('/home/sanyashireen/sf_eviction/data_eviction/2023/3/26')\n",
    "data_dir.mkdir(parents=True, exist_ok=True)\n",
    "\n",
    "SODA_url = 'https://data.sfgov.org/resource/5cei-gny5'\n",
    "SODA_headers = {\n",
    "    'keyId': API_KEY_ID,\n",
    "    'keySecret': API_KEY_SECRET\n",
    "}\n",
    "content = get_json(SODA_url, SODA_headers)\n"
   ]
  },
  {
   "cell_type": "code",
   "execution_count": 3,
   "id": "7fc63364",
   "metadata": {},
   "outputs": [],
   "source": [
    "source_path_json = '/home/sanyashireen/sf_eviction/data_eviction/2023/3/26/api_raw_eviction_2023-03-26.json'"
   ]
  },
  {
   "cell_type": "code",
   "execution_count": 6,
   "id": "fefd3ce3",
   "metadata": {},
   "outputs": [
    {
     "data": {
      "text/plain": [
       "list"
      ]
     },
     "execution_count": 6,
     "metadata": {},
     "output_type": "execute_result"
    }
   ],
   "source": [
    "type(content)"
   ]
  },
  {
   "cell_type": "code",
   "execution_count": 138,
   "id": "f9d4dd15",
   "metadata": {},
   "outputs": [
    {
     "name": "stdout",
     "output_type": "stream",
     "text": [
      "<class 'dict'>\n"
     ]
    }
   ],
   "source": [
    "print(type(content[1]))"
   ]
  },
  {
   "cell_type": "markdown",
   "id": "45029f8e",
   "metadata": {},
   "source": [
    "## TESTING: Csv is corrupting the data so trying to write the data to pyspark directly"
   ]
  },
  {
   "cell_type": "code",
   "execution_count": 9,
   "id": "fc2f1193",
   "metadata": {},
   "outputs": [],
   "source": [
    "# testing writing the list of dictionaries (response.json()) returned by the API to a file locally as json file\n",
    "# using json.dump\n",
    "import json\n",
    "out_file = open(source_path_json,\"w\", encoding='utf8')\n",
    "json.dump(content, out_file, indent=4)\n",
    "out_file.close()\n"
   ]
  },
  {
   "cell_type": "markdown",
   "id": "aec9f50a",
   "metadata": {},
   "source": [
    "## TESTING: If Pyspark can read the json data stored locally without corropting it"
   ]
  },
  {
   "cell_type": "code",
   "execution_count": 16,
   "id": "4eb984cc",
   "metadata": {},
   "outputs": [],
   "source": [
    "#spark.stop()"
   ]
  },
  {
   "cell_type": "code",
   "execution_count": 17,
   "id": "278329f0",
   "metadata": {},
   "outputs": [],
   "source": [
    "# Creating and testing script to clean and transform csv data using pyspark\n",
    "# spark related packages\n",
    "\n",
    "import pyspark\n",
    "from pyspark.sql import SparkSession\n",
    "\n",
    "spark = SparkSession.builder.master(\"local[*]\") \\\n",
    "    .appName('test') \\\n",
    "    .getOrCreate()\n"
   ]
  },
  {
   "cell_type": "code",
   "execution_count": 10,
   "id": "ed65b098",
   "metadata": {},
   "outputs": [
    {
     "name": "stderr",
     "output_type": "stream",
     "text": [
      "                                                                                \r"
     ]
    }
   ],
   "source": [
    "source_path_json = '/home/sanyashireen/sf_eviction/data_eviction/2023/3/26/raw_eviction_2023-03-26.json'\n",
    "df = spark.read.option(\"multiline\",\"true\").json(str(source_path_json))"
   ]
  },
  {
   "cell_type": "code",
   "execution_count": null,
   "id": "756a4e4b",
   "metadata": {},
   "outputs": [],
   "source": [
    "# resting if pyspark can directly read the json data\n",
    "source_path_json = '/home/sanyashireen/sf_eviction/data_eviction/2023/3/26/raw_eviction_2023-03-26.json'\n",
    "df = spark.read.option(\"multiline\",\"true\").json(str(source_path_json))"
   ]
  },
  {
   "cell_type": "code",
   "execution_count": 11,
   "id": "240c9f37",
   "metadata": {},
   "outputs": [
    {
     "name": "stderr",
     "output_type": "stream",
     "text": [
      "                                                                                \r"
     ]
    },
    {
     "data": {
      "text/plain": [
       "177578"
      ]
     },
     "execution_count": 11,
     "metadata": {},
     "output_type": "execute_result"
    }
   ],
   "source": [
    "df.count()"
   ]
  },
  {
   "cell_type": "code",
   "execution_count": 12,
   "id": "f80b5e5c",
   "metadata": {},
   "outputs": [
    {
     "name": "stdout",
     "output_type": "stream",
     "text": [
      "root\n",
      " |-- :@computed_region_26cr_cadq: string (nullable = true)\n",
      " |-- :@computed_region_6ezc_tdp2: string (nullable = true)\n",
      " |-- :@computed_region_6pnf_4xz7: string (nullable = true)\n",
      " |-- :@computed_region_6qbp_sg9q: string (nullable = true)\n",
      " |-- :@computed_region_9jxd_iqea: string (nullable = true)\n",
      " |-- :@computed_region_ajp5_b2md: string (nullable = true)\n",
      " |-- :@computed_region_bh8s_q3mv: string (nullable = true)\n",
      " |-- :@computed_region_fyvs_ahh9: string (nullable = true)\n",
      " |-- :@computed_region_h4ep_8xdi: string (nullable = true)\n",
      " |-- :@computed_region_jwn9_ihcz: string (nullable = true)\n",
      " |-- :@computed_region_p5aj_wyqh: string (nullable = true)\n",
      " |-- :@computed_region_pigm_ib2e: string (nullable = true)\n",
      " |-- :@computed_region_qgnn_b9vv: string (nullable = true)\n",
      " |-- :@computed_region_rxqg_mtj9: string (nullable = true)\n",
      " |-- :@computed_region_yftq_j783: string (nullable = true)\n",
      " |-- :created_at: string (nullable = true)\n",
      " |-- :id: string (nullable = true)\n",
      " |-- :updated_at: string (nullable = true)\n",
      " |-- :version: string (nullable = true)\n",
      " |-- access_denial: boolean (nullable = true)\n",
      " |-- address: string (nullable = true)\n",
      " |-- breach: boolean (nullable = true)\n",
      " |-- capital_improvement: boolean (nullable = true)\n",
      " |-- city: string (nullable = true)\n",
      " |-- client_location: struct (nullable = true)\n",
      " |    |-- human_address: string (nullable = true)\n",
      " |    |-- latitude: string (nullable = true)\n",
      " |    |-- longitude: string (nullable = true)\n",
      " |-- condo_conversion: boolean (nullable = true)\n",
      " |-- constraints_date: string (nullable = true)\n",
      " |-- demolition: boolean (nullable = true)\n",
      " |-- development: boolean (nullable = true)\n",
      " |-- ellis_act_withdrawal: boolean (nullable = true)\n",
      " |-- eviction_id: string (nullable = true)\n",
      " |-- failure_to_sign_renewal: boolean (nullable = true)\n",
      " |-- file_date: string (nullable = true)\n",
      " |-- good_samaritan_ends: boolean (nullable = true)\n",
      " |-- illegal_use: boolean (nullable = true)\n",
      " |-- late_payments: boolean (nullable = true)\n",
      " |-- lead_remediation: boolean (nullable = true)\n",
      " |-- neighborhood: string (nullable = true)\n",
      " |-- non_payment: boolean (nullable = true)\n",
      " |-- nuisance: boolean (nullable = true)\n",
      " |-- other_cause: boolean (nullable = true)\n",
      " |-- owner_move_in: boolean (nullable = true)\n",
      " |-- roommate_same_unit: boolean (nullable = true)\n",
      " |-- shape: struct (nullable = true)\n",
      " |    |-- coordinates: array (nullable = true)\n",
      " |    |    |-- element: double (containsNull = true)\n",
      " |    |-- type: string (nullable = true)\n",
      " |-- state: string (nullable = true)\n",
      " |-- substantial_rehab: boolean (nullable = true)\n",
      " |-- supervisor_district: string (nullable = true)\n",
      " |-- unapproved_subtenant: boolean (nullable = true)\n",
      " |-- zip: string (nullable = true)\n",
      "\n"
     ]
    }
   ],
   "source": [
    "df.printSchema()"
   ]
  },
  {
   "cell_type": "code",
   "execution_count": 13,
   "id": "e5484a36",
   "metadata": {},
   "outputs": [
    {
     "name": "stdout",
     "output_type": "stream",
     "text": [
      "23/03/27 14:34:00 WARN package: Truncated the string representation of a plan since it was too large. This behavior can be adjusted by setting 'spark.sql.debug.maxToStringFields'.\n"
     ]
    },
    {
     "name": "stderr",
     "output_type": "stream",
     "text": [
      "                                                                                \r"
     ]
    },
    {
     "data": {
      "text/plain": [
       "[Row(:@computed_region_26cr_cadq='2', :@computed_region_6ezc_tdp2=None, :@computed_region_6pnf_4xz7='2', :@computed_region_6qbp_sg9q='53', :@computed_region_9jxd_iqea=None, :@computed_region_ajp5_b2md='20', :@computed_region_bh8s_q3mv='28859', :@computed_region_fyvs_ahh9='19', :@computed_region_h4ep_8xdi=None, :@computed_region_jwn9_ihcz='53', :@computed_region_p5aj_wyqh='4', :@computed_region_pigm_ib2e=None, :@computed_region_qgnn_b9vv='3', :@computed_region_rxqg_mtj9='7', :@computed_region_yftq_j783='2', :created_at='2023-01-23T23:46:16.858Z', :id='row-ufzj_22gk~drek', :updated_at='2023-01-23T23:46:33.925Z', :version='rv-wryr~aezj~xte7', access_denial=False, address='2500 Block Of Folsom  Street', breach=False, capital_improvement=False, city='San Francisco', client_location=Row(human_address='{\"address\": \"\", \"city\": \"\", \"state\": \"\", \"zip\": \"\"}', latitude='37.75649855484188', longitude='-122.41446453496935'), condo_conversion=False, constraints_date=None, demolition=False, development=False, ellis_act_withdrawal=False, eviction_id='M221207', failure_to_sign_renewal=False, file_date='2022-12-23T00:00:00.000', good_samaritan_ends=False, illegal_use=False, late_payments=False, lead_remediation=False, neighborhood='Mission', non_payment=True, nuisance=False, other_cause=False, owner_move_in=False, roommate_same_unit=False, shape=Row(coordinates=[-122.41447, 37.7565], type='Point'), state='CA', substantial_rehab=False, supervisor_district='9', unapproved_subtenant=False, zip='94110'),\n",
       " Row(:@computed_region_26cr_cadq='9', :@computed_region_6ezc_tdp2=None, :@computed_region_6pnf_4xz7='1', :@computed_region_6qbp_sg9q='55', :@computed_region_9jxd_iqea='14', :@computed_region_ajp5_b2md='26', :@computed_region_bh8s_q3mv='28856', :@computed_region_fyvs_ahh9='29', :@computed_region_h4ep_8xdi=None, :@computed_region_jwn9_ihcz='55', :@computed_region_p5aj_wyqh='3', :@computed_region_pigm_ib2e=None, :@computed_region_qgnn_b9vv='2', :@computed_region_rxqg_mtj9='8', :@computed_region_yftq_j783='14', :created_at='2023-01-23T23:46:16.858Z', :id='row-k4ar_jqfk~qf9p', :updated_at='2023-01-23T23:46:33.925Z', :version='rv-jrf5.m8q7.bb2j', access_denial=False, address='2000 Block Of 03rd  Street', breach=False, capital_improvement=False, city='San Francisco', client_location=Row(human_address='{\"address\": \"\", \"city\": \"\", \"state\": \"\", \"zip\": \"\"}', latitude='37.7636861675663', longitude='-122.38873210572237'), condo_conversion=False, constraints_date=None, demolition=False, development=False, ellis_act_withdrawal=False, eviction_id='M221222', failure_to_sign_renewal=False, file_date='2022-12-23T00:00:00.000', good_samaritan_ends=False, illegal_use=False, late_payments=False, lead_remediation=False, neighborhood='Potrero Hill', non_payment=True, nuisance=False, other_cause=False, owner_move_in=False, roommate_same_unit=False, shape=Row(coordinates=[-122.38873, 37.763687], type='Point'), state='CA', substantial_rehab=False, supervisor_district='10', unapproved_subtenant=False, zip='94107'),\n",
       " Row(:@computed_region_26cr_cadq='10', :@computed_region_6ezc_tdp2=None, :@computed_region_6pnf_4xz7='2', :@computed_region_6qbp_sg9q='20', :@computed_region_9jxd_iqea=None, :@computed_region_ajp5_b2md='36', :@computed_region_bh8s_q3mv='28858', :@computed_region_fyvs_ahh9='36', :@computed_region_h4ep_8xdi=None, :@computed_region_jwn9_ihcz='20', :@computed_region_p5aj_wyqh='1', :@computed_region_pigm_ib2e=None, :@computed_region_qgnn_b9vv='6', :@computed_region_rxqg_mtj9='9', :@computed_region_yftq_j783='13', :created_at='2023-01-23T23:46:16.858Z', :id='row-g7er.wz7c~98am', :updated_at='2023-01-23T23:46:33.925Z', :version='rv-kub4-qfcm-vv5s', access_denial=False, address='800 Block Of Geary  Street', breach=False, capital_improvement=False, city='San Francisco', client_location=Row(human_address='{\"address\": \"\", \"city\": \"\", \"state\": \"\", \"zip\": \"\"}', latitude='37.78620563104688', longitude='-122.41726861276132'), condo_conversion=False, constraints_date=None, demolition=False, development=False, ellis_act_withdrawal=False, eviction_id='M220927', failure_to_sign_renewal=False, file_date='2022-12-22T00:00:00.000', good_samaritan_ends=False, illegal_use=False, late_payments=False, lead_remediation=False, neighborhood='Tenderloin', non_payment=False, nuisance=True, other_cause=False, owner_move_in=False, roommate_same_unit=False, shape=Row(coordinates=[-122.41727, 37.786205], type='Point'), state='CA', substantial_rehab=False, supervisor_district='3', unapproved_subtenant=False, zip='94109')]"
      ]
     },
     "execution_count": 13,
     "metadata": {},
     "output_type": "execute_result"
    }
   ],
   "source": [
    "df.head(3)"
   ]
  },
  {
   "cell_type": "code",
   "execution_count": 156,
   "id": "ca95ebdb",
   "metadata": {},
   "outputs": [
    {
     "name": "stderr",
     "output_type": "stream",
     "text": [
      "\r",
      "[Stage 9:>                                                          (0 + 1) / 1]\r"
     ]
    },
    {
     "name": "stdout",
     "output_type": "stream",
     "text": [
      "+---------------------------+---------------------------+---------------------------+---------------------------+---------------------------+---------------------------+---------------------------+---------------------------+---------------------------+---------------------------+---------------------------+---------------------------+---------------------------+---------------------------+---------------------------+--------------------+------------------+--------------------+-----------------+-------------+--------------------+------+-------------------+-------------+--------------------+----------------+----------------+----------+-----------+--------------------+-----------+-----------------------+--------------------+-------------------+-----------+-------------+----------------+--------------------+-----------+--------+-----------+-------------+------------------+--------------------+-----+-----------------+-------------------+--------------------+-----+\n",
      "|:@computed_region_26cr_cadq|:@computed_region_6ezc_tdp2|:@computed_region_6pnf_4xz7|:@computed_region_6qbp_sg9q|:@computed_region_9jxd_iqea|:@computed_region_ajp5_b2md|:@computed_region_bh8s_q3mv|:@computed_region_fyvs_ahh9|:@computed_region_h4ep_8xdi|:@computed_region_jwn9_ihcz|:@computed_region_p5aj_wyqh|:@computed_region_pigm_ib2e|:@computed_region_qgnn_b9vv|:@computed_region_rxqg_mtj9|:@computed_region_yftq_j783|         :created_at|               :id|         :updated_at|         :version|access_denial|             address|breach|capital_improvement|         city|     client_location|condo_conversion|constraints_date|demolition|development|ellis_act_withdrawal|eviction_id|failure_to_sign_renewal|           file_date|good_samaritan_ends|illegal_use|late_payments|lead_remediation|        neighborhood|non_payment|nuisance|other_cause|owner_move_in|roommate_same_unit|               shape|state|substantial_rehab|supervisor_district|unapproved_subtenant|  zip|\n",
      "+---------------------------+---------------------------+---------------------------+---------------------------+---------------------------+---------------------------+---------------------------+---------------------------+---------------------------+---------------------------+---------------------------+---------------------------+---------------------------+---------------------------+---------------------------+--------------------+------------------+--------------------+-----------------+-------------+--------------------+------+-------------------+-------------+--------------------+----------------+----------------+----------+-----------+--------------------+-----------+-----------------------+--------------------+-------------------+-----------+-------------+----------------+--------------------+-----------+--------+-----------+-------------+------------------+--------------------+-----+-----------------+-------------------+--------------------+-----+\n",
      "|                          2|                       null|                          2|                         53|                       null|                         20|                      28859|                         19|                       null|                         53|                          4|                       null|                          3|                          7|                          2|2023-01-23T23:46:...|row-ufzj_22gk~drek|2023-01-23T23:46:...|rv-wryr~aezj~xte7|        false|2500 Block Of Fol...| false|              false|San Francisco|{{\"address\": \"\", ...|           false|            null|     false|      false|               false|    M221207|                  false|2022-12-23T00:00:...|              false|      false|        false|           false|             Mission|       true|   false|      false|        false|             false|{[-122.41447, 37....|   CA|            false|                  9|               false|94110|\n",
      "|                          9|                       null|                          1|                         55|                         14|                         26|                      28856|                         29|                       null|                         55|                          3|                       null|                          2|                          8|                         14|2023-01-23T23:46:...|row-k4ar_jqfk~qf9p|2023-01-23T23:46:...|rv-jrf5.m8q7.bb2j|        false|2000 Block Of 03r...| false|              false|San Francisco|{{\"address\": \"\", ...|           false|            null|     false|      false|               false|    M221222|                  false|2022-12-23T00:00:...|              false|      false|        false|           false|        Potrero Hill|       true|   false|      false|        false|             false|{[-122.38873, 37....|   CA|            false|                 10|               false|94107|\n",
      "|                         10|                       null|                          2|                         20|                       null|                         36|                      28858|                         36|                       null|                         20|                          1|                       null|                          6|                          9|                         13|2023-01-23T23:46:...|row-g7er.wz7c~98am|2023-01-23T23:46:...|rv-kub4-qfcm-vv5s|        false|800 Block Of Gear...| false|              false|San Francisco|{{\"address\": \"\", ...|           false|            null|     false|      false|               false|    M220927|                  false|2022-12-22T00:00:...|              false|      false|        false|           false|          Tenderloin|      false|    true|      false|        false|             false|{[-122.41727, 37....|   CA|            false|                  3|               false|94109|\n",
      "|                          9|                       null|                          1|                         55|                         14|                         26|                      28856|                         29|                       null|                         55|                          3|                       null|                          2|                          8|                         14|2023-01-23T23:46:...|row-jvdz~8ne5_agq5|2023-01-23T23:46:...|rv-t6vv~sqbg.fcxv|        false|2000 Block Of 03r...| false|              false|San Francisco|{{\"address\": \"\", ...|           false|            null|     false|      false|               false|    M221154|                  false|2022-12-22T00:00:...|              false|      false|        false|           false|        Potrero Hill|       true|   false|      false|        false|             false|{[-122.38873, 37....|   CA|            false|                 10|               false|94107|\n",
      "|                          7|                       null|                          1|                         39|                       null|                         35|                      29491|                         35|                       null|                         39|                          8|                       null|                         10|                          3|                          1|2023-01-23T23:46:...|row-er7z~7fk9~55mx|2023-01-23T23:46:...|rv-8f6e~9dpn.id6z|        false|2000 Block Of 44t...| false|              false|San Francisco|{{\"address\": \"\", ...|           false|            null|     false|      false|               false|    M221155|                  false|2022-12-22T00:00:...|              false|      false|        false|           false|     Sunset/Parkside|      false|    true|      false|        false|             false|{[-122.50294, 37....|   CA|            false|                  4|               false|94116|\n",
      "|                          2|                       null|                          2|                         91|                       null|                         25|                        309|                         28|                       null|                         91|                          3|                       null|                          2|                          7|                         10|2023-01-23T23:46:...|row-gr32-umab-fxqu|2023-01-23T23:46:...|rv-d76w-xwwa~2fpx|        false|100 Block Of Gira...| false|              false|San Francisco|{{\"address\": \"\", ...|           false|            null|     false|      false|                true|    M222201|                  false|2022-12-22T00:00:...|              false|      false|        false|           false|             Portola|      false|   false|      false|        false|             false|{[-122.40584, 37....|   CA|            false|                  9|               false|94134|\n",
      "|                          8|                       null|                          1|                         44|                       null|                         41|                      29491|                         40|                       null|                         46|                          8|                       null|                         10|                          4|                          1|2023-01-23T23:46:...|row-5jy6_s62c~m2g4|2023-01-23T23:46:...|rv-pbei~25pq-sufa|         true|500 Block Of Tara...| false|              false|San Francisco|{{\"address\": \"\", ...|           false|            null|     false|      false|               false|    M221156|                  false|2022-12-22T00:00:...|              false|      false|        false|           false|  West of Twin Peaks|      false|   false|      false|        false|             false|{[-122.47192, 37....|   CA|            false|                  7|               false|94116|\n",
      "|                         10|                          1|                          2|                         20|                          6|                         36|                      28852|                         36|                          1|                         20|                         10|                         18|                          5|                          9|                         14|2023-01-23T23:46:...|row-vzi9_7svc~98jq|2023-01-23T23:46:...|rv-md38~jqdr~y94e|        false|0 Block Of Turk  ...| false|              false|San Francisco|{{\"address\": \"\", ...|           false|            null|     false|      false|               false|    M221025|                  false|2022-12-21T00:00:...|              false|      false|        false|           false|          Tenderloin|      false|    true|      false|        false|             false|{[-122.40984, 37....|   CA|            false|                  5|               false|94102|\n",
      "|                         10|                          1|                          2|                         20|                          6|                         36|                      28852|                         36|                          1|                         20|                         10|                         18|                          5|                          9|                          7|2023-01-23T23:46:...|row-hin8.uhzw.rh2d|2023-01-23T23:46:...|rv-r87s.ubap-ypha|        false|400 Block Of Eddy...| false|              false|San Francisco|{{\"address\": \"\", ...|           false|            null|     false|      false|               false|    M221024|                  false|2022-12-21T00:00:...|              false|      false|        false|           false|          Tenderloin|      false|    true|      false|        false|             false|{[-122.41506, 37....|   CA|            false|                  5|               false|94109|\n",
      "|                         10|                          1|                          2|                         20|                          6|                         36|                      28852|                         36|                          1|                         20|                         10|                         18|                          5|                          9|                          7|2023-01-23T23:46:...|row-c8et.y7q5~zf5a|2023-01-23T23:46:...|rv-hhns.jcpx_zh4i|        false|400 Block Of Eddy...| false|              false|San Francisco|{{\"address\": \"\", ...|           false|            null|     false|      false|               false|    M221023|                  false|2022-12-21T00:00:...|              false|      false|        false|           false|          Tenderloin|      false|    true|      false|        false|             false|{[-122.41506, 37....|   CA|            false|                  5|               false|94109|\n",
      "|                          1|                       null|                          2|                         66|                       null|                         28|                      28861|                         25|                       null|                         58|                          7|                       null|                          9|                          6|                          9|2023-01-23T23:46:...|row-nmbc.3tuz-iiid|2023-01-23T23:46:...|rv-9uxf-a7fa-pxdj|        false|5500 Block Of Mis...| false|              false|San Francisco|{{\"address\": \"\", ...|           false|            null|     false|      false|               false|    M220918|                  false|2022-12-20T00:00:...|              false|      false|        false|           false|       Outer Mission|      false|    true|      false|        false|             false|{[-122.44535, 37....|   CA|            false|                 11|               false|94112|\n",
      "|                         10|                          1|                          2|                         20|                          6|                         36|                      28852|                         36|                          1|                         20|                         10|                         18|                          5|                          9|                         14|2023-01-23T23:46:...|row-4tbe-8w98.9pv7|2023-01-23T23:46:...|rv-bmaz-epwh~xmyb|        false|0 Block Of Turk  ...| false|              false|San Francisco|{{\"address\": \"\", ...|           false|            null|     false|      false|               false|    M220917|                  false|2022-12-20T00:00:...|              false|      false|        false|           false|          Tenderloin|      false|    true|      false|        false|             false|{[-122.40984, 37....|   CA|            false|                  5|               false|94102|\n",
      "|                         10|                       null|                          1|                         30|                          3|                          8|                      28855|                          6|                       null|                         30|                          2|                       null|                          1|                          9|                          6|2023-01-23T23:46:...|row-q9z3.hksj~buci|2023-01-23T23:46:...|rv-u7ss~juiu-q22s|        false|400 Block Of Harr...| false|              false|San Francisco|{{\"address\": \"\", ...|           false|            null|     false|      false|               false|    M220817|                  false|2022-12-19T00:00:...|              false|      false|         true|           false|Financial Distric...|      false|   false|      false|        false|             false|{[-122.392494, 37...|   CA|            false|                  6|               false|94105|\n",
      "|                          2|                       null|                          2|                         53|                       null|                         20|                      28859|                         19|                       null|                         53|                          4|                         15|                          3|                          7|                          2|2023-01-23T23:46:...|row-xzpa_5gqk_tkaa|2023-01-23T23:46:...|rv-54mz-m79f~ka2u|        false|2300 Block Of Mis...| false|              false|San Francisco|{{\"address\": \"\", ...|           false|            null|     false|      false|               false|    M220807|                  false|2022-12-15T00:00:...|              false|      false|        false|           false|             Mission|      false|    true|      false|        false|             false|{[-122.41913, 37....|   CA|            false|                  9|               false|94110|\n",
      "|                         10|                       null|                          1|                         30|                          3|                          8|                      28855|                          6|                       null|                         30|                          2|                       null|                          1|                          9|                          6|2023-01-23T23:46:...|row-dbnj~pgmw~9psn|2023-01-23T23:46:...|rv-avj4~ti4q.umve|        false|400 Block Of Harr...|  true|              false|San Francisco|{{\"address\": \"\", ...|           false|            null|     false|      false|               false|    M220730|                  false|2022-12-15T00:00:...|              false|      false|        false|           false|Financial Distric...|      false|   false|      false|        false|             false|{[-122.392494, 37...|   CA|            false|                  6|               false|94105|\n",
      "|                          4|                       null|                          1|                          8|                       null|                         29|                         55|                         26|                       null|                          8|                          6|                       null|                          8|                          2|                         11|2023-01-23T23:46:...|row-8z8h.ufhb-gfi2|2023-01-23T23:46:...|rv-btrk~v8zb~gte7|        false|4400 Block Of Cab...| false|              false|San Francisco|{{\"address\": \"\", ...|           false|            null|     false|      false|               false|    M220700|                  false|2022-12-14T00:00:...|              false|      false|        false|           false|      Outer Richmond|      false|    true|      false|        false|             false|{[-122.50629, 37....|   CA|            false|                  1|               false|94121|\n",
      "|                         10|                          1|                          2|                         20|                          6|                         36|                      28852|                         36|                          1|                         20|                          9|                         18|                          5|                          9|                          7|2023-01-23T23:46:...|row-qaa9.jdir~57ak|2023-01-23T23:46:...|rv-83i6~54kg~sg9k|        false|500 Block Of Lark...| false|              false|San Francisco|{{\"address\": \"\", ...|           false|            null|     false|      false|               false|    M221307|                  false|2022-12-13T00:00:...|              false|      false|        false|           false|          Tenderloin|       true|   false|      false|        false|             false|{[-122.417435, 37...|   CA|            false|                  5|               false|94102|\n",
      "|                         10|                       null|                          1|                         34|                       null|                          4|                        310|                         20|                       null|                         34|                          3|                       null|                          1|                          9|                         14|2023-01-23T23:46:...|row-dvbm~dwx5.pkw2|2023-01-23T23:46:...|rv-b4ew-r2v4.5p8r|        false|400 Block Of Chin...| false|              false|San Francisco|{{\"address\": \"\", ...|           false|            null|     false|      false|               false|    M221306|                  false|2022-12-13T00:00:...|              false|      false|        false|           false|         Mission Bay|      false|    true|      false|        false|             false|{[-122.388245, 37...|   CA|            false|                  6|               false|94158|\n",
      "|                         10|                       null|                          2|                         32|                       null|                         20|                      28853|                         19|                       null|                         32|                          2|                       null|                          1|                          9|                          8|2023-01-23T23:46:...|row-gi9x-ueyq.jh22|2023-01-23T23:46:...|rv-b337.3dm3~j89f|        false|1600 Block Of Mar...| false|              false|San Francisco|{{\"address\": \"\", ...|           false|            null|     false|      false|               false|    M221308|                  false|2022-12-13T00:00:...|              false|      false|        false|           false|             Mission|      false|    true|      false|        false|             false|{[-122.42223, 37....|   CA|            false|                  6|               false|94103|\n",
      "|                          7|                       null|                          1|                         39|                       null|                         35|                         56|                         35|                       null|                         39|                          8|                       null|                         10|                          3|                          1|2023-01-23T23:46:...|row-b8gi_67ir_wxsf|2023-01-23T23:46:...|rv-87zc-yxgg-ugxv|        false|1200 Block Of 22n...| false|               true|San Francisco|{{\"address\": \"\", ...|           false|            null|     false|      false|               false|    M220845|                  false|2022-12-12T00:00:...|              false|      false|        false|           false|     Sunset/Parkside|      false|   false|      false|        false|             false|{[-122.4804, 37.7...|   CA|            false|                  4|               false|94122|\n",
      "+---------------------------+---------------------------+---------------------------+---------------------------+---------------------------+---------------------------+---------------------------+---------------------------+---------------------------+---------------------------+---------------------------+---------------------------+---------------------------+---------------------------+---------------------------+--------------------+------------------+--------------------+-----------------+-------------+--------------------+------+-------------------+-------------+--------------------+----------------+----------------+----------+-----------+--------------------+-----------+-----------------------+--------------------+-------------------+-----------+-------------+----------------+--------------------+-----------+--------+-----------+-------------+------------------+--------------------+-----+-----------------+-------------------+--------------------+-----+\n",
      "only showing top 20 rows\n",
      "\n"
     ]
    },
    {
     "name": "stderr",
     "output_type": "stream",
     "text": [
      "\r",
      "                                                                                \r"
     ]
    }
   ],
   "source": [
    "df.show()"
   ]
  },
  {
   "cell_type": "code",
   "execution_count": 31,
   "id": "50bf9449",
   "metadata": {},
   "outputs": [
    {
     "data": {
      "text/plain": [
       "[':@computed_region_26cr_cadq',\n",
       " ':@computed_region_6ezc_tdp2',\n",
       " ':@computed_region_6pnf_4xz7',\n",
       " ':@computed_region_6qbp_sg9q',\n",
       " ':@computed_region_9jxd_iqea',\n",
       " ':@computed_region_ajp5_b2md',\n",
       " ':@computed_region_bh8s_q3mv',\n",
       " ':@computed_region_fyvs_ahh9',\n",
       " ':@computed_region_h4ep_8xdi',\n",
       " ':@computed_region_jwn9_ihcz',\n",
       " ':@computed_region_p5aj_wyqh',\n",
       " ':@computed_region_pigm_ib2e',\n",
       " ':@computed_region_qgnn_b9vv',\n",
       " ':@computed_region_rxqg_mtj9',\n",
       " ':@computed_region_yftq_j783',\n",
       " ':created_at',\n",
       " ':id',\n",
       " ':updated_at',\n",
       " ':version',\n",
       " 'access_denial',\n",
       " 'address',\n",
       " 'breach',\n",
       " 'capital_improvement',\n",
       " 'city',\n",
       " 'client_location',\n",
       " 'condo_conversion',\n",
       " 'constraints_date',\n",
       " 'demolition',\n",
       " 'development',\n",
       " 'ellis_act_withdrawal',\n",
       " 'eviction_id',\n",
       " 'failure_to_sign_renewal',\n",
       " 'file_date',\n",
       " 'good_samaritan_ends',\n",
       " 'illegal_use',\n",
       " 'late_payments',\n",
       " 'lead_remediation',\n",
       " 'neighborhood',\n",
       " 'non_payment',\n",
       " 'nuisance',\n",
       " 'other_cause',\n",
       " 'owner_move_in',\n",
       " 'roommate_same_unit',\n",
       " 'shape',\n",
       " 'state',\n",
       " 'substantial_rehab',\n",
       " 'supervisor_district',\n",
       " 'unapproved_subtenant',\n",
       " 'zip']"
      ]
     },
     "execution_count": 31,
     "metadata": {},
     "output_type": "execute_result"
    }
   ],
   "source": [
    "df.columns"
   ]
  },
  {
   "cell_type": "code",
   "execution_count": 14,
   "id": "55a399e6",
   "metadata": {},
   "outputs": [
    {
     "data": {
      "text/plain": [
       "49"
      ]
     },
     "execution_count": 14,
     "metadata": {},
     "output_type": "execute_result"
    }
   ],
   "source": [
    "len(df.columns)"
   ]
  },
  {
   "cell_type": "code",
   "execution_count": 157,
   "id": "982a37f5",
   "metadata": {},
   "outputs": [
    {
     "name": "stderr",
     "output_type": "stream",
     "text": [
      "[Stage 11:>                                                         (0 + 1) / 1]\r"
     ]
    },
    {
     "name": "stdout",
     "output_type": "stream",
     "text": [
      "The pyspark df is a list of records where each record is of type <class 'pyspark.sql.types.Row'> \n",
      "\n",
      " Row(:@computed_region_26cr_cadq='2', :@computed_region_6ezc_tdp2=None, :@computed_region_6pnf_4xz7='2', :@computed_region_6qbp_sg9q='53', :@computed_region_9jxd_iqea=None, :@computed_region_ajp5_b2md='20', :@computed_region_bh8s_q3mv='28859', :@computed_region_fyvs_ahh9='19', :@computed_region_h4ep_8xdi=None, :@computed_region_jwn9_ihcz='53', :@computed_region_p5aj_wyqh='4', :@computed_region_pigm_ib2e=None, :@computed_region_qgnn_b9vv='3', :@computed_region_rxqg_mtj9='7', :@computed_region_yftq_j783='2', :created_at='2023-01-23T23:46:16.858Z', :id='row-ufzj_22gk~drek', :updated_at='2023-01-23T23:46:33.925Z', :version='rv-wryr~aezj~xte7', access_denial=False, address='2500 Block Of Folsom  Street', breach=False, capital_improvement=False, city='San Francisco', client_location=Row(human_address='{\"address\": \"\", \"city\": \"\", \"state\": \"\", \"zip\": \"\"}', latitude='37.75649855484188', longitude='-122.41446453496935'), condo_conversion=False, constraints_date=None, demolition=False, development=False, ellis_act_withdrawal=False, eviction_id='M221207', failure_to_sign_renewal=False, file_date='2022-12-23T00:00:00.000', good_samaritan_ends=False, illegal_use=False, late_payments=False, lead_remediation=False, neighborhood='Mission', non_payment=True, nuisance=False, other_cause=False, owner_move_in=False, roommate_same_unit=False, shape=Row(coordinates=[-122.41447, 37.7565], type='Point'), state='CA', substantial_rehab=False, supervisor_district='9', unapproved_subtenant=False, zip='94110')\n"
     ]
    },
    {
     "name": "stderr",
     "output_type": "stream",
     "text": [
      "\r",
      "                                                                                \r"
     ]
    }
   ],
   "source": [
    "print(f'The pyspark df is a list of records where each record is of type {type(df.head(1)[0])} \\n\\n {df.head(1)[0]}')"
   ]
  },
  {
   "cell_type": "code",
   "execution_count": 15,
   "id": "5813fd3f",
   "metadata": {},
   "outputs": [
    {
     "name": "stderr",
     "output_type": "stream",
     "text": [
      "[Stage 6:>                                                          (0 + 1) / 1]\r"
     ]
    },
    {
     "name": "stdout",
     "output_type": "stream",
     "text": [
      "The pyspark df is a list of records where each record is of type <class 'pyspark.sql.types.Row'> \n",
      "\n",
      " Row(:@computed_region_26cr_cadq='2', :@computed_region_6ezc_tdp2=None, :@computed_region_6pnf_4xz7='2', :@computed_region_6qbp_sg9q='53', :@computed_region_9jxd_iqea=None, :@computed_region_ajp5_b2md='20', :@computed_region_bh8s_q3mv='28859', :@computed_region_fyvs_ahh9='19', :@computed_region_h4ep_8xdi=None, :@computed_region_jwn9_ihcz='53', :@computed_region_p5aj_wyqh='4', :@computed_region_pigm_ib2e=None, :@computed_region_qgnn_b9vv='3', :@computed_region_rxqg_mtj9='7', :@computed_region_yftq_j783='2', :created_at='2023-01-23T23:46:16.858Z', :id='row-ufzj_22gk~drek', :updated_at='2023-01-23T23:46:33.925Z', :version='rv-wryr~aezj~xte7', access_denial=False, address='2500 Block Of Folsom  Street', breach=False, capital_improvement=False, city='San Francisco', client_location=Row(human_address='{\"address\": \"\", \"city\": \"\", \"state\": \"\", \"zip\": \"\"}', latitude='37.75649855484188', longitude='-122.41446453496935'), condo_conversion=False, constraints_date=None, demolition=False, development=False, ellis_act_withdrawal=False, eviction_id='M221207', failure_to_sign_renewal=False, file_date='2022-12-23T00:00:00.000', good_samaritan_ends=False, illegal_use=False, late_payments=False, lead_remediation=False, neighborhood='Mission', non_payment=True, nuisance=False, other_cause=False, owner_move_in=False, roommate_same_unit=False, shape=Row(coordinates=[-122.41447, 37.7565], type='Point'), state='CA', substantial_rehab=False, supervisor_district='9', unapproved_subtenant=False, zip='94110')\n"
     ]
    },
    {
     "name": "stderr",
     "output_type": "stream",
     "text": [
      "\r",
      "                                                                                \r"
     ]
    }
   ],
   "source": [
    "print(f'The pyspark df is a list of records where each record is of type {type(df.head(1)[0])} \\n\\n {df.head(1)[0]}')"
   ]
  },
  {
   "cell_type": "code",
   "execution_count": 7,
   "id": "acd96086",
   "metadata": {},
   "outputs": [
    {
     "name": "stdout",
     "output_type": "stream",
     "text": [
      "['eviction_id', 'address', 'city', 'state', 'zip', 'file_date', 'non_payment', 'breach', 'nuisance', 'illegal_use', 'failure_to_sign_renewal', 'access_denial', 'unapproved_subtenant', 'owner_move_in', 'demolition', 'capital_improvement', 'substantial_rehab', 'ellis_act_withdrawal', 'condo_conversion', 'roommate_same_unit', 'other_cause', 'late_payments', 'lead_remediation', 'development', 'good_samaritan_ends', 'constraints_date', 'supervisor_district', 'neighborhood', 'client_location', 'shape', ':@computed_region_6qbp_sg9q', ':@computed_region_qgnn_b9vv', ':@computed_region_26cr_cadq', ':@computed_region_ajp5_b2md', ':@computed_region_fyvs_ahh9', ':@computed_region_p5aj_wyqh', ':@computed_region_rxqg_mtj9', ':@computed_region_yftq_j783', ':@computed_region_bh8s_q3mv', ':@computed_region_9jxd_iqea', ':@computed_region_6ezc_tdp2', ':@computed_region_6pnf_4xz7', ':@computed_region_h4ep_8xdi', ':@computed_region_pigm_ib2e', ':@computed_region_jwn9_ihcz']\n",
      "eviction_id=M222138\n",
      "address=400 Block Of Eddy  Street\n",
      "city=San Francisco\n",
      "state=CA\n",
      "zip=94102\n",
      "file_date=2022-12-12T00:00:00.000\n",
      "non_payment=false\n",
      "breach=false\n",
      "nuisance=true\n",
      "illegal_use=false\n",
      "failure_to_sign_renewal=false\n",
      "access_denial=false\n",
      "unapproved_subtenant=false\n",
      "owner_move_in=false\n",
      "demolition=false\n",
      "capital_improvement=false\n",
      "substantial_rehab=false\n",
      "ellis_act_withdrawal=false\n",
      "condo_conversion=false\n",
      "roommate_same_unit=false\n",
      "other_cause=false\n",
      "late_payments=false\n",
      "lead_remediation=false\n",
      "development=false\n",
      "good_samaritan_ends=false\n",
      "constraints_date=None\n",
      "supervisor_district=5\n",
      "neighborhood=Tenderloin\n",
      "client_location=None\n",
      "shape=POINT (-122.41508 37.783627)\n",
      ":@computed_region_6qbp_sg9q=None\n",
      ":@computed_region_qgnn_b9vv=None\n",
      ":@computed_region_26cr_cadq=None\n",
      ":@computed_region_ajp5_b2md=None\n",
      ":@computed_region_fyvs_ahh9=None\n",
      ":@computed_region_p5aj_wyqh=None\n",
      ":@computed_region_rxqg_mtj9=None\n",
      ":@computed_region_yftq_j783=None\n",
      ":@computed_region_bh8s_q3mv=None\n",
      ":@computed_region_9jxd_iqea=None\n",
      ":@computed_region_6ezc_tdp2=None\n",
      ":@computed_region_6pnf_4xz7=None\n",
      ":@computed_region_h4ep_8xdi=None\n",
      ":@computed_region_pigm_ib2e=None\n",
      ":@computed_region_jwn9_ihcz=20\n"
     ]
    }
   ],
   "source": [
    "# from web data\n",
    "# Extracting column names to decide which ones are of interest\n",
    "# Convert type row to dictionary\n",
    "#row_as_dict = df.head(1)[0].asDict()\n",
    "\n",
    "# Column Names\n",
    "#print(list(row_as_dict.keys()))\n",
    "\n",
    "# Sample Column and Value\n",
    "#for key, value in row_as_dict.items():\n",
    "    #print(f'{key}={value}')\n"
   ]
  },
  {
   "cell_type": "code",
   "execution_count": 36,
   "id": "2941d674",
   "metadata": {},
   "outputs": [
    {
     "name": "stderr",
     "output_type": "stream",
     "text": [
      "\r",
      "[Stage 16:>                                                         (0 + 1) / 1]\r"
     ]
    },
    {
     "name": "stdout",
     "output_type": "stream",
     "text": [
      "[':@computed_region_26cr_cadq', ':@computed_region_6ezc_tdp2', ':@computed_region_6pnf_4xz7', ':@computed_region_6qbp_sg9q', ':@computed_region_9jxd_iqea', ':@computed_region_ajp5_b2md', ':@computed_region_bh8s_q3mv', ':@computed_region_fyvs_ahh9', ':@computed_region_h4ep_8xdi', ':@computed_region_jwn9_ihcz', ':@computed_region_p5aj_wyqh', ':@computed_region_pigm_ib2e', ':@computed_region_qgnn_b9vv', ':@computed_region_rxqg_mtj9', ':@computed_region_yftq_j783', ':created_at', ':id', ':updated_at', ':version', 'access_denial', 'address', 'breach', 'capital_improvement', 'city', 'client_location', 'condo_conversion', 'constraints_date', 'demolition', 'development', 'ellis_act_withdrawal', 'eviction_id', 'failure_to_sign_renewal', 'file_date', 'good_samaritan_ends', 'illegal_use', 'late_payments', 'lead_remediation', 'neighborhood', 'non_payment', 'nuisance', 'other_cause', 'owner_move_in', 'roommate_same_unit', 'shape', 'state', 'substantial_rehab', 'supervisor_district', 'unapproved_subtenant', 'zip']\n",
      ":@computed_region_26cr_cadq=2\n",
      ":@computed_region_6ezc_tdp2=None\n",
      ":@computed_region_6pnf_4xz7=2\n",
      ":@computed_region_6qbp_sg9q=53\n",
      ":@computed_region_9jxd_iqea=None\n",
      ":@computed_region_ajp5_b2md=20\n",
      ":@computed_region_bh8s_q3mv=28859\n",
      ":@computed_region_fyvs_ahh9=19\n",
      ":@computed_region_h4ep_8xdi=None\n",
      ":@computed_region_jwn9_ihcz=53\n",
      ":@computed_region_p5aj_wyqh=4\n",
      ":@computed_region_pigm_ib2e=None\n",
      ":@computed_region_qgnn_b9vv=3\n",
      ":@computed_region_rxqg_mtj9=7\n",
      ":@computed_region_yftq_j783=2\n",
      ":created_at=2023-01-23T23:46:16.858Z\n",
      ":id=row-ufzj_22gk~drek\n",
      ":updated_at=2023-01-23T23:46:33.925Z\n",
      ":version=rv-wryr~aezj~xte7\n",
      "access_denial=False\n",
      "address=2500 Block Of Folsom  Street\n",
      "breach=False\n",
      "capital_improvement=False\n",
      "city=San Francisco\n",
      "client_location=Row(human_address='{\"address\": \"\", \"city\": \"\", \"state\": \"\", \"zip\": \"\"}', latitude='37.75649855484188', longitude='-122.41446453496935')\n",
      "condo_conversion=False\n",
      "constraints_date=None\n",
      "demolition=False\n",
      "development=False\n",
      "ellis_act_withdrawal=False\n",
      "eviction_id=M221207\n",
      "failure_to_sign_renewal=False\n",
      "file_date=2022-12-23T00:00:00.000\n",
      "good_samaritan_ends=False\n",
      "illegal_use=False\n",
      "late_payments=False\n",
      "lead_remediation=False\n",
      "neighborhood=Mission\n",
      "non_payment=True\n",
      "nuisance=False\n",
      "other_cause=False\n",
      "owner_move_in=False\n",
      "roommate_same_unit=False\n",
      "shape=Row(coordinates=[-122.41447, 37.7565], type='Point')\n",
      "state=CA\n",
      "substantial_rehab=False\n",
      "supervisor_district=9\n",
      "unapproved_subtenant=False\n",
      "zip=94110\n"
     ]
    },
    {
     "name": "stderr",
     "output_type": "stream",
     "text": [
      "\r",
      "                                                                                \r"
     ]
    }
   ],
   "source": [
    "# Extracting column names to decide which ones are of interest\n",
    "# Convert type row to dictionary\n",
    "row_as_dict = df.head(1)[0].asDict()\n",
    "\n",
    "# Column Names\n",
    "print(list(row_as_dict.keys()))\n",
    "\n",
    "# Sample Column and Value\n",
    "for key, value in row_as_dict.items():\n",
    "    print(f'{key}={value}')\n",
    "    \n",
    "# new cols updated_at, id, created_at, version  missing when extracting from the URL"
   ]
  },
  {
   "cell_type": "markdown",
   "id": "05df4d41",
   "metadata": {},
   "source": [
    "### Analysis\n",
    "* As we can see the columns of interest are not all columns.\n",
    "* The last columns name `@computed_region*` is not of interest so we will ignore those columns.\n",
    "* And will extract only those columns from the raw dataset\n",
    "* Column `client_location` and `shape` hold the same data \n",
    "* `:id` and `:version` are in a corropted state, hence will be ignored"
   ]
  },
  {
   "cell_type": "code",
   "execution_count": 37,
   "id": "beb58aa6",
   "metadata": {},
   "outputs": [],
   "source": [
    "imp_cols = ['eviction_id', 'address', 'city', 'state', 'zip', 'file_date', 'non_payment', 'breach', 'nuisance', 'illegal_use', 'failure_to_sign_renewal', 'access_denial', 'unapproved_subtenant', 'owner_move_in', 'demolition', 'capital_improvement', 'substantial_rehab', 'ellis_act_withdrawal', 'condo_conversion', 'roommate_same_unit', 'other_cause', 'late_payments', 'lead_remediation', 'development', 'good_samaritan_ends', 'constraints_date', 'supervisor_district', 'neighborhood', 'client_location', ':created_at', ':updated_at']\n"
   ]
  },
  {
   "cell_type": "code",
   "execution_count": 38,
   "id": "d12457ca",
   "metadata": {},
   "outputs": [
    {
     "name": "stderr",
     "output_type": "stream",
     "text": [
      "\r",
      "[Stage 17:>                                                         (0 + 1) / 1]\r"
     ]
    },
    {
     "name": "stdout",
     "output_type": "stream",
     "text": [
      "+-----------+--------------------+-------------+-----+-----+--------------------+-----------+------+--------+-----------+-----------------------+-------------+--------------------+-------------+----------+-------------------+-----------------+--------------------+----------------+------------------+-----------+-------------+----------------+-----------+-------------------+----------------+-------------------+---------------+--------------------+--------------------+--------------------+\n",
      "|eviction_id|             address|         city|state|  zip|           file_date|non_payment|breach|nuisance|illegal_use|failure_to_sign_renewal|access_denial|unapproved_subtenant|owner_move_in|demolition|capital_improvement|substantial_rehab|ellis_act_withdrawal|condo_conversion|roommate_same_unit|other_cause|late_payments|lead_remediation|development|good_samaritan_ends|constraints_date|supervisor_district|   neighborhood|     client_location|         :created_at|         :updated_at|\n",
      "+-----------+--------------------+-------------+-----+-----+--------------------+-----------+------+--------+-----------+-----------------------+-------------+--------------------+-------------+----------+-------------------+-----------------+--------------------+----------------+------------------+-----------+-------------+----------------+-----------+-------------------+----------------+-------------------+---------------+--------------------+--------------------+--------------------+\n",
      "|    M221207|2500 Block Of Fol...|San Francisco|   CA|94110|2022-12-23T00:00:...|       true| false|   false|      false|                  false|        false|               false|        false|     false|              false|            false|               false|           false|             false|      false|        false|           false|      false|              false|            null|                  9|        Mission|{{\"address\": \"\", ...|2023-01-23T23:46:...|2023-01-23T23:46:...|\n",
      "|    M221222|2000 Block Of 03r...|San Francisco|   CA|94107|2022-12-23T00:00:...|       true| false|   false|      false|                  false|        false|               false|        false|     false|              false|            false|               false|           false|             false|      false|        false|           false|      false|              false|            null|                 10|   Potrero Hill|{{\"address\": \"\", ...|2023-01-23T23:46:...|2023-01-23T23:46:...|\n",
      "|    M220927|800 Block Of Gear...|San Francisco|   CA|94109|2022-12-22T00:00:...|      false| false|    true|      false|                  false|        false|               false|        false|     false|              false|            false|               false|           false|             false|      false|        false|           false|      false|              false|            null|                  3|     Tenderloin|{{\"address\": \"\", ...|2023-01-23T23:46:...|2023-01-23T23:46:...|\n",
      "|    M221154|2000 Block Of 03r...|San Francisco|   CA|94107|2022-12-22T00:00:...|       true| false|   false|      false|                  false|        false|               false|        false|     false|              false|            false|               false|           false|             false|      false|        false|           false|      false|              false|            null|                 10|   Potrero Hill|{{\"address\": \"\", ...|2023-01-23T23:46:...|2023-01-23T23:46:...|\n",
      "|    M221155|2000 Block Of 44t...|San Francisco|   CA|94116|2022-12-22T00:00:...|      false| false|    true|      false|                  false|        false|               false|        false|     false|              false|            false|               false|           false|             false|      false|        false|           false|      false|              false|            null|                  4|Sunset/Parkside|{{\"address\": \"\", ...|2023-01-23T23:46:...|2023-01-23T23:46:...|\n",
      "+-----------+--------------------+-------------+-----+-----+--------------------+-----------+------+--------+-----------+-----------------------+-------------+--------------------+-------------+----------+-------------------+-----------------+--------------------+----------------+------------------+-----------+-------------+----------------+-----------+-------------------+----------------+-------------------+---------------+--------------------+--------------------+--------------------+\n",
      "only showing top 5 rows\n",
      "\n"
     ]
    },
    {
     "name": "stderr",
     "output_type": "stream",
     "text": [
      "\r",
      "                                                                                \r"
     ]
    }
   ],
   "source": [
    "# new df with only selected columns \n",
    "df_clean = df.select(imp_cols)\n",
    "df_clean.show(5)"
   ]
  },
  {
   "cell_type": "code",
   "execution_count": 39,
   "id": "21bfc036",
   "metadata": {},
   "outputs": [
    {
     "name": "stdout",
     "output_type": "stream",
     "text": [
      "root\n",
      " |-- eviction_id: string (nullable = true)\n",
      " |-- address: string (nullable = true)\n",
      " |-- city: string (nullable = true)\n",
      " |-- state: string (nullable = true)\n",
      " |-- zip: string (nullable = true)\n",
      " |-- file_date: string (nullable = true)\n",
      " |-- non_payment: boolean (nullable = true)\n",
      " |-- breach: boolean (nullable = true)\n",
      " |-- nuisance: boolean (nullable = true)\n",
      " |-- illegal_use: boolean (nullable = true)\n",
      " |-- failure_to_sign_renewal: boolean (nullable = true)\n",
      " |-- access_denial: boolean (nullable = true)\n",
      " |-- unapproved_subtenant: boolean (nullable = true)\n",
      " |-- owner_move_in: boolean (nullable = true)\n",
      " |-- demolition: boolean (nullable = true)\n",
      " |-- capital_improvement: boolean (nullable = true)\n",
      " |-- substantial_rehab: boolean (nullable = true)\n",
      " |-- ellis_act_withdrawal: boolean (nullable = true)\n",
      " |-- condo_conversion: boolean (nullable = true)\n",
      " |-- roommate_same_unit: boolean (nullable = true)\n",
      " |-- other_cause: boolean (nullable = true)\n",
      " |-- late_payments: boolean (nullable = true)\n",
      " |-- lead_remediation: boolean (nullable = true)\n",
      " |-- development: boolean (nullable = true)\n",
      " |-- good_samaritan_ends: boolean (nullable = true)\n",
      " |-- constraints_date: string (nullable = true)\n",
      " |-- supervisor_district: string (nullable = true)\n",
      " |-- neighborhood: string (nullable = true)\n",
      " |-- client_location: struct (nullable = true)\n",
      " |    |-- human_address: string (nullable = true)\n",
      " |    |-- latitude: string (nullable = true)\n",
      " |    |-- longitude: string (nullable = true)\n",
      " |-- :created_at: string (nullable = true)\n",
      " |-- :updated_at: string (nullable = true)\n",
      "\n"
     ]
    }
   ],
   "source": [
    "df_clean.printSchema()"
   ]
  },
  {
   "cell_type": "code",
   "execution_count": 45,
   "id": "5bd359f7",
   "metadata": {},
   "outputs": [
    {
     "data": {
      "text/plain": [
       "StructType([StructField('eviction_id', StringType(), True), StructField('address', StringType(), True), StructField('city', StringType(), True), StructField('state', StringType(), True), StructField('zip', StringType(), True), StructField('file_date', StringType(), True), StructField('non_payment', BooleanType(), True), StructField('breach', BooleanType(), True), StructField('nuisance', BooleanType(), True), StructField('illegal_use', BooleanType(), True), StructField('failure_to_sign_renewal', BooleanType(), True), StructField('access_denial', BooleanType(), True), StructField('unapproved_subtenant', BooleanType(), True), StructField('owner_move_in', BooleanType(), True), StructField('demolition', BooleanType(), True), StructField('capital_improvement', BooleanType(), True), StructField('substantial_rehab', BooleanType(), True), StructField('ellis_act_withdrawal', BooleanType(), True), StructField('condo_conversion', BooleanType(), True), StructField('roommate_same_unit', BooleanType(), True), StructField('other_cause', BooleanType(), True), StructField('late_payments', BooleanType(), True), StructField('lead_remediation', BooleanType(), True), StructField('development', BooleanType(), True), StructField('good_samaritan_ends', BooleanType(), True), StructField('constraints_date', StringType(), True), StructField('supervisor_district', StringType(), True), StructField('neighborhood', StringType(), True), StructField('client_location', StructType([StructField('human_address', StringType(), True), StructField('latitude', StringType(), True), StructField('longitude', StringType(), True)]), True), StructField(':created_at', StringType(), True), StructField(':updated_at', StringType(), True)])"
      ]
     },
     "execution_count": 45,
     "metadata": {},
     "output_type": "execute_result"
    }
   ],
   "source": [
    "df_clean.schema"
   ]
  },
  {
   "cell_type": "markdown",
   "id": "1cf95696",
   "metadata": {},
   "source": [
    "## TESTING: Convert few rows to pandas df and extract the schema"
   ]
  },
  {
   "cell_type": "code",
   "execution_count": 2,
   "id": "83b362cf",
   "metadata": {},
   "outputs": [],
   "source": [
    "import pandas as p\n",
    "source_path_json = '/home/sanyashireen/sf_eviction/data_eviction/2023/3/26/raw_eviction_2023-03-26.json'\n",
    "pandas_df = p.read_json(source_path_json)"
   ]
  },
  {
   "cell_type": "code",
   "execution_count": 3,
   "id": "0963ab8c",
   "metadata": {},
   "outputs": [
    {
     "data": {
      "text/plain": [
       "(177578, 49)"
      ]
     },
     "execution_count": 3,
     "metadata": {},
     "output_type": "execute_result"
    }
   ],
   "source": [
    "pandas_df.shape"
   ]
  },
  {
   "cell_type": "code",
   "execution_count": 7,
   "id": "86758ba9",
   "metadata": {},
   "outputs": [
    {
     "name": "stdout",
     "output_type": "stream",
     "text": [
      "<class 'pandas.core.frame.DataFrame'>\n",
      "RangeIndex: 177578 entries, 0 to 177577\n",
      "Data columns (total 49 columns):\n",
      " #   Column                       Non-Null Count   Dtype              \n",
      "---  ------                       --------------   -----              \n",
      " 0   :id                          177578 non-null  object             \n",
      " 1   :created_at                  177578 non-null  datetime64[ns, UTC]\n",
      " 2   :updated_at                  177578 non-null  datetime64[ns, UTC]\n",
      " 3   :version                     177578 non-null  object             \n",
      " 4   :@computed_region_6qbp_sg9q  170478 non-null  float64            \n",
      " 5   :@computed_region_qgnn_b9vv  171975 non-null  float64            \n",
      " 6   :@computed_region_26cr_cadq  172007 non-null  float64            \n",
      " 7   :@computed_region_ajp5_b2md  172007 non-null  float64            \n",
      " 8   :@computed_region_fyvs_ahh9  172007 non-null  float64            \n",
      " 9   :@computed_region_p5aj_wyqh  171963 non-null  float64            \n",
      " 10  :@computed_region_rxqg_mtj9  172007 non-null  float64            \n",
      " 11  :@computed_region_yftq_j783  171775 non-null  float64            \n",
      " 12  :@computed_region_bh8s_q3mv  172059 non-null  float64            \n",
      " 13  :@computed_region_6pnf_4xz7  172007 non-null  float64            \n",
      " 14  :@computed_region_jwn9_ihcz  176686 non-null  float64            \n",
      " 15  eviction_id                  177578 non-null  object             \n",
      " 16  address                      177578 non-null  object             \n",
      " 17  city                         177566 non-null  object             \n",
      " 18  state                        177566 non-null  object             \n",
      " 19  zip                          175042 non-null  float64            \n",
      " 20  file_date                    177578 non-null  object             \n",
      " 21  non_payment                  177578 non-null  bool               \n",
      " 22  breach                       177578 non-null  bool               \n",
      " 23  nuisance                     177578 non-null  bool               \n",
      " 24  illegal_use                  177578 non-null  bool               \n",
      " 25  failure_to_sign_renewal      177578 non-null  bool               \n",
      " 26  access_denial                177578 non-null  bool               \n",
      " 27  unapproved_subtenant         177578 non-null  bool               \n",
      " 28  owner_move_in                177578 non-null  bool               \n",
      " 29  demolition                   177578 non-null  bool               \n",
      " 30  capital_improvement          177578 non-null  bool               \n",
      " 31  substantial_rehab            177578 non-null  bool               \n",
      " 32  ellis_act_withdrawal         177578 non-null  bool               \n",
      " 33  condo_conversion             177578 non-null  bool               \n",
      " 34  roommate_same_unit           177578 non-null  bool               \n",
      " 35  other_cause                  177578 non-null  bool               \n",
      " 36  late_payments                177578 non-null  bool               \n",
      " 37  lead_remediation             177578 non-null  bool               \n",
      " 38  development                  177578 non-null  bool               \n",
      " 39  good_samaritan_ends          177578 non-null  bool               \n",
      " 40  supervisor_district          177274 non-null  float64            \n",
      " 41  neighborhood                 177278 non-null  object             \n",
      " 42  client_location              172059 non-null  object             \n",
      " 43  shape                        177330 non-null  object             \n",
      " 44  :@computed_region_9jxd_iqea  17985 non-null   float64            \n",
      " 45  :@computed_region_6ezc_tdp2  14744 non-null   float64            \n",
      " 46  :@computed_region_h4ep_8xdi  15112 non-null   float64            \n",
      " 47  :@computed_region_pigm_ib2e  23518 non-null   float64            \n",
      " 48  constraints_date             16918 non-null   object             \n",
      "dtypes: bool(19), datetime64[ns, UTC](2), float64(17), object(11)\n",
      "memory usage: 43.9+ MB\n"
     ]
    }
   ],
   "source": [
    "pandas_df.info()"
   ]
  },
  {
   "cell_type": "code",
   "execution_count": 9,
   "id": "4667c27a",
   "metadata": {},
   "outputs": [
    {
     "data": {
      "text/html": [
       "<div>\n",
       "<style scoped>\n",
       "    .dataframe tbody tr th:only-of-type {\n",
       "        vertical-align: middle;\n",
       "    }\n",
       "\n",
       "    .dataframe tbody tr th {\n",
       "        vertical-align: top;\n",
       "    }\n",
       "\n",
       "    .dataframe thead th {\n",
       "        text-align: right;\n",
       "    }\n",
       "</style>\n",
       "<table border=\"1\" class=\"dataframe\">\n",
       "  <thead>\n",
       "    <tr style=\"text-align: right;\">\n",
       "      <th></th>\n",
       "      <th>count</th>\n",
       "      <th>mean</th>\n",
       "      <th>std</th>\n",
       "      <th>min</th>\n",
       "      <th>25%</th>\n",
       "      <th>50%</th>\n",
       "      <th>75%</th>\n",
       "      <th>max</th>\n",
       "    </tr>\n",
       "  </thead>\n",
       "  <tbody>\n",
       "    <tr>\n",
       "      <th>:@computed_region_6qbp_sg9q</th>\n",
       "      <td>170478.0</td>\n",
       "      <td>53.222721</td>\n",
       "      <td>33.097547</td>\n",
       "      <td>1.0</td>\n",
       "      <td>25.0</td>\n",
       "      <td>49.0</td>\n",
       "      <td>84.0</td>\n",
       "      <td>117.0</td>\n",
       "    </tr>\n",
       "    <tr>\n",
       "      <th>:@computed_region_qgnn_b9vv</th>\n",
       "      <td>171975.0</td>\n",
       "      <td>6.073156</td>\n",
       "      <td>2.814950</td>\n",
       "      <td>1.0</td>\n",
       "      <td>3.0</td>\n",
       "      <td>6.0</td>\n",
       "      <td>9.0</td>\n",
       "      <td>10.0</td>\n",
       "    </tr>\n",
       "    <tr>\n",
       "      <th>:@computed_region_26cr_cadq</th>\n",
       "      <td>172007.0</td>\n",
       "      <td>6.118373</td>\n",
       "      <td>3.222694</td>\n",
       "      <td>1.0</td>\n",
       "      <td>3.0</td>\n",
       "      <td>6.0</td>\n",
       "      <td>9.0</td>\n",
       "      <td>11.0</td>\n",
       "    </tr>\n",
       "    <tr>\n",
       "      <th>:@computed_region_ajp5_b2md</th>\n",
       "      <td>172007.0</td>\n",
       "      <td>21.027487</td>\n",
       "      <td>11.610458</td>\n",
       "      <td>1.0</td>\n",
       "      <td>11.0</td>\n",
       "      <td>20.0</td>\n",
       "      <td>32.0</td>\n",
       "      <td>41.0</td>\n",
       "    </tr>\n",
       "    <tr>\n",
       "      <th>:@computed_region_fyvs_ahh9</th>\n",
       "      <td>172007.0</td>\n",
       "      <td>20.653311</td>\n",
       "      <td>11.547800</td>\n",
       "      <td>1.0</td>\n",
       "      <td>11.0</td>\n",
       "      <td>19.0</td>\n",
       "      <td>32.0</td>\n",
       "      <td>41.0</td>\n",
       "    </tr>\n",
       "    <tr>\n",
       "      <th>:@computed_region_p5aj_wyqh</th>\n",
       "      <td>171963.0</td>\n",
       "      <td>5.666736</td>\n",
       "      <td>2.613061</td>\n",
       "      <td>1.0</td>\n",
       "      <td>4.0</td>\n",
       "      <td>6.0</td>\n",
       "      <td>8.0</td>\n",
       "      <td>10.0</td>\n",
       "    </tr>\n",
       "    <tr>\n",
       "      <th>:@computed_region_rxqg_mtj9</th>\n",
       "      <td>172007.0</td>\n",
       "      <td>6.306575</td>\n",
       "      <td>3.172408</td>\n",
       "      <td>1.0</td>\n",
       "      <td>4.0</td>\n",
       "      <td>7.0</td>\n",
       "      <td>9.0</td>\n",
       "      <td>11.0</td>\n",
       "    </tr>\n",
       "    <tr>\n",
       "      <th>:@computed_region_yftq_j783</th>\n",
       "      <td>171775.0</td>\n",
       "      <td>7.649280</td>\n",
       "      <td>4.847770</td>\n",
       "      <td>1.0</td>\n",
       "      <td>2.0</td>\n",
       "      <td>8.0</td>\n",
       "      <td>11.0</td>\n",
       "      <td>15.0</td>\n",
       "    </tr>\n",
       "    <tr>\n",
       "      <th>:@computed_region_bh8s_q3mv</th>\n",
       "      <td>172059.0</td>\n",
       "      <td>18243.866424</td>\n",
       "      <td>13968.876520</td>\n",
       "      <td>54.0</td>\n",
       "      <td>64.0</td>\n",
       "      <td>28853.0</td>\n",
       "      <td>28861.0</td>\n",
       "      <td>29492.0</td>\n",
       "    </tr>\n",
       "    <tr>\n",
       "      <th>:@computed_region_6pnf_4xz7</th>\n",
       "      <td>172007.0</td>\n",
       "      <td>1.412443</td>\n",
       "      <td>0.492275</td>\n",
       "      <td>1.0</td>\n",
       "      <td>1.0</td>\n",
       "      <td>1.0</td>\n",
       "      <td>2.0</td>\n",
       "      <td>2.0</td>\n",
       "    </tr>\n",
       "    <tr>\n",
       "      <th>:@computed_region_jwn9_ihcz</th>\n",
       "      <td>176686.0</td>\n",
       "      <td>53.134108</td>\n",
       "      <td>33.108153</td>\n",
       "      <td>1.0</td>\n",
       "      <td>25.0</td>\n",
       "      <td>49.0</td>\n",
       "      <td>84.0</td>\n",
       "      <td>117.0</td>\n",
       "    </tr>\n",
       "    <tr>\n",
       "      <th>zip</th>\n",
       "      <td>175042.0</td>\n",
       "      <td>93932.499469</td>\n",
       "      <td>4093.056550</td>\n",
       "      <td>941.0</td>\n",
       "      <td>94110.0</td>\n",
       "      <td>94115.0</td>\n",
       "      <td>94122.0</td>\n",
       "      <td>95103.0</td>\n",
       "    </tr>\n",
       "    <tr>\n",
       "      <th>supervisor_district</th>\n",
       "      <td>177274.0</td>\n",
       "      <td>5.965968</td>\n",
       "      <td>3.026293</td>\n",
       "      <td>1.0</td>\n",
       "      <td>3.0</td>\n",
       "      <td>6.0</td>\n",
       "      <td>9.0</td>\n",
       "      <td>11.0</td>\n",
       "    </tr>\n",
       "    <tr>\n",
       "      <th>:@computed_region_9jxd_iqea</th>\n",
       "      <td>17985.0</td>\n",
       "      <td>6.886961</td>\n",
       "      <td>2.263419</td>\n",
       "      <td>1.0</td>\n",
       "      <td>6.0</td>\n",
       "      <td>6.0</td>\n",
       "      <td>7.0</td>\n",
       "      <td>15.0</td>\n",
       "    </tr>\n",
       "    <tr>\n",
       "      <th>:@computed_region_6ezc_tdp2</th>\n",
       "      <td>14744.0</td>\n",
       "      <td>1.000000</td>\n",
       "      <td>0.000000</td>\n",
       "      <td>1.0</td>\n",
       "      <td>1.0</td>\n",
       "      <td>1.0</td>\n",
       "      <td>1.0</td>\n",
       "      <td>1.0</td>\n",
       "    </tr>\n",
       "    <tr>\n",
       "      <th>:@computed_region_h4ep_8xdi</th>\n",
       "      <td>15112.0</td>\n",
       "      <td>1.000000</td>\n",
       "      <td>0.000000</td>\n",
       "      <td>1.0</td>\n",
       "      <td>1.0</td>\n",
       "      <td>1.0</td>\n",
       "      <td>1.0</td>\n",
       "      <td>1.0</td>\n",
       "    </tr>\n",
       "    <tr>\n",
       "      <th>:@computed_region_pigm_ib2e</th>\n",
       "      <td>23518.0</td>\n",
       "      <td>14.143550</td>\n",
       "      <td>7.519360</td>\n",
       "      <td>1.0</td>\n",
       "      <td>6.0</td>\n",
       "      <td>17.0</td>\n",
       "      <td>19.0</td>\n",
       "      <td>25.0</td>\n",
       "    </tr>\n",
       "  </tbody>\n",
       "</table>\n",
       "</div>"
      ],
      "text/plain": [
       "                                count          mean           std    min  \\\n",
       ":@computed_region_6qbp_sg9q  170478.0     53.222721     33.097547    1.0   \n",
       ":@computed_region_qgnn_b9vv  171975.0      6.073156      2.814950    1.0   \n",
       ":@computed_region_26cr_cadq  172007.0      6.118373      3.222694    1.0   \n",
       ":@computed_region_ajp5_b2md  172007.0     21.027487     11.610458    1.0   \n",
       ":@computed_region_fyvs_ahh9  172007.0     20.653311     11.547800    1.0   \n",
       ":@computed_region_p5aj_wyqh  171963.0      5.666736      2.613061    1.0   \n",
       ":@computed_region_rxqg_mtj9  172007.0      6.306575      3.172408    1.0   \n",
       ":@computed_region_yftq_j783  171775.0      7.649280      4.847770    1.0   \n",
       ":@computed_region_bh8s_q3mv  172059.0  18243.866424  13968.876520   54.0   \n",
       ":@computed_region_6pnf_4xz7  172007.0      1.412443      0.492275    1.0   \n",
       ":@computed_region_jwn9_ihcz  176686.0     53.134108     33.108153    1.0   \n",
       "zip                          175042.0  93932.499469   4093.056550  941.0   \n",
       "supervisor_district          177274.0      5.965968      3.026293    1.0   \n",
       ":@computed_region_9jxd_iqea   17985.0      6.886961      2.263419    1.0   \n",
       ":@computed_region_6ezc_tdp2   14744.0      1.000000      0.000000    1.0   \n",
       ":@computed_region_h4ep_8xdi   15112.0      1.000000      0.000000    1.0   \n",
       ":@computed_region_pigm_ib2e   23518.0     14.143550      7.519360    1.0   \n",
       "\n",
       "                                 25%      50%      75%      max  \n",
       ":@computed_region_6qbp_sg9q     25.0     49.0     84.0    117.0  \n",
       ":@computed_region_qgnn_b9vv      3.0      6.0      9.0     10.0  \n",
       ":@computed_region_26cr_cadq      3.0      6.0      9.0     11.0  \n",
       ":@computed_region_ajp5_b2md     11.0     20.0     32.0     41.0  \n",
       ":@computed_region_fyvs_ahh9     11.0     19.0     32.0     41.0  \n",
       ":@computed_region_p5aj_wyqh      4.0      6.0      8.0     10.0  \n",
       ":@computed_region_rxqg_mtj9      4.0      7.0      9.0     11.0  \n",
       ":@computed_region_yftq_j783      2.0      8.0     11.0     15.0  \n",
       ":@computed_region_bh8s_q3mv     64.0  28853.0  28861.0  29492.0  \n",
       ":@computed_region_6pnf_4xz7      1.0      1.0      2.0      2.0  \n",
       ":@computed_region_jwn9_ihcz     25.0     49.0     84.0    117.0  \n",
       "zip                          94110.0  94115.0  94122.0  95103.0  \n",
       "supervisor_district              3.0      6.0      9.0     11.0  \n",
       ":@computed_region_9jxd_iqea      6.0      6.0      7.0     15.0  \n",
       ":@computed_region_6ezc_tdp2      1.0      1.0      1.0      1.0  \n",
       ":@computed_region_h4ep_8xdi      1.0      1.0      1.0      1.0  \n",
       ":@computed_region_pigm_ib2e      6.0     17.0     19.0     25.0  "
      ]
     },
     "execution_count": 9,
     "metadata": {},
     "output_type": "execute_result"
    }
   ],
   "source": [
    "pandas_df.describe().T"
   ]
  },
  {
   "cell_type": "code",
   "execution_count": 14,
   "id": "53f804b5",
   "metadata": {},
   "outputs": [
    {
     "data": {
      "text/html": [
       "<div>\n",
       "<style scoped>\n",
       "    .dataframe tbody tr th:only-of-type {\n",
       "        vertical-align: middle;\n",
       "    }\n",
       "\n",
       "    .dataframe tbody tr th {\n",
       "        vertical-align: top;\n",
       "    }\n",
       "\n",
       "    .dataframe thead th {\n",
       "        text-align: right;\n",
       "    }\n",
       "</style>\n",
       "<table border=\"1\" class=\"dataframe\">\n",
       "  <thead>\n",
       "    <tr style=\"text-align: right;\">\n",
       "      <th></th>\n",
       "      <th>:id</th>\n",
       "      <th>:created_at</th>\n",
       "      <th>:updated_at</th>\n",
       "      <th>:version</th>\n",
       "      <th>:@computed_region_6qbp_sg9q</th>\n",
       "      <th>:@computed_region_qgnn_b9vv</th>\n",
       "      <th>:@computed_region_26cr_cadq</th>\n",
       "      <th>:@computed_region_ajp5_b2md</th>\n",
       "      <th>:@computed_region_fyvs_ahh9</th>\n",
       "      <th>:@computed_region_p5aj_wyqh</th>\n",
       "      <th>...</th>\n",
       "      <th>good_samaritan_ends</th>\n",
       "      <th>supervisor_district</th>\n",
       "      <th>neighborhood</th>\n",
       "      <th>client_location</th>\n",
       "      <th>shape</th>\n",
       "      <th>:@computed_region_9jxd_iqea</th>\n",
       "      <th>:@computed_region_6ezc_tdp2</th>\n",
       "      <th>:@computed_region_h4ep_8xdi</th>\n",
       "      <th>:@computed_region_pigm_ib2e</th>\n",
       "      <th>constraints_date</th>\n",
       "    </tr>\n",
       "  </thead>\n",
       "  <tbody>\n",
       "    <tr>\n",
       "      <th>0</th>\n",
       "      <td>row-ufzj_22gk~drek</td>\n",
       "      <td>2023-01-23 23:46:16.858000+00:00</td>\n",
       "      <td>2023-01-23 23:46:33.925000+00:00</td>\n",
       "      <td>rv-wryr~aezj~xte7</td>\n",
       "      <td>53.0</td>\n",
       "      <td>3.0</td>\n",
       "      <td>2.0</td>\n",
       "      <td>20.0</td>\n",
       "      <td>19.0</td>\n",
       "      <td>4.0</td>\n",
       "      <td>...</td>\n",
       "      <td>False</td>\n",
       "      <td>9.0</td>\n",
       "      <td>Mission</td>\n",
       "      <td>{'latitude': '37.75649855484188', 'longitude':...</td>\n",
       "      <td>{'type': 'Point', 'coordinates': [-122.41447, ...</td>\n",
       "      <td>NaN</td>\n",
       "      <td>NaN</td>\n",
       "      <td>NaN</td>\n",
       "      <td>NaN</td>\n",
       "      <td>NaN</td>\n",
       "    </tr>\n",
       "    <tr>\n",
       "      <th>1</th>\n",
       "      <td>row-k4ar_jqfk~qf9p</td>\n",
       "      <td>2023-01-23 23:46:16.858000+00:00</td>\n",
       "      <td>2023-01-23 23:46:33.925000+00:00</td>\n",
       "      <td>rv-jrf5.m8q7.bb2j</td>\n",
       "      <td>55.0</td>\n",
       "      <td>2.0</td>\n",
       "      <td>9.0</td>\n",
       "      <td>26.0</td>\n",
       "      <td>29.0</td>\n",
       "      <td>3.0</td>\n",
       "      <td>...</td>\n",
       "      <td>False</td>\n",
       "      <td>10.0</td>\n",
       "      <td>Potrero Hill</td>\n",
       "      <td>{'latitude': '37.7636861675663', 'longitude': ...</td>\n",
       "      <td>{'type': 'Point', 'coordinates': [-122.38873, ...</td>\n",
       "      <td>14.0</td>\n",
       "      <td>NaN</td>\n",
       "      <td>NaN</td>\n",
       "      <td>NaN</td>\n",
       "      <td>NaN</td>\n",
       "    </tr>\n",
       "    <tr>\n",
       "      <th>2</th>\n",
       "      <td>row-g7er.wz7c~98am</td>\n",
       "      <td>2023-01-23 23:46:16.858000+00:00</td>\n",
       "      <td>2023-01-23 23:46:33.925000+00:00</td>\n",
       "      <td>rv-kub4-qfcm-vv5s</td>\n",
       "      <td>20.0</td>\n",
       "      <td>6.0</td>\n",
       "      <td>10.0</td>\n",
       "      <td>36.0</td>\n",
       "      <td>36.0</td>\n",
       "      <td>1.0</td>\n",
       "      <td>...</td>\n",
       "      <td>False</td>\n",
       "      <td>3.0</td>\n",
       "      <td>Tenderloin</td>\n",
       "      <td>{'latitude': '37.78620563104688', 'longitude':...</td>\n",
       "      <td>{'type': 'Point', 'coordinates': [-122.41727, ...</td>\n",
       "      <td>NaN</td>\n",
       "      <td>NaN</td>\n",
       "      <td>NaN</td>\n",
       "      <td>NaN</td>\n",
       "      <td>NaN</td>\n",
       "    </tr>\n",
       "    <tr>\n",
       "      <th>3</th>\n",
       "      <td>row-jvdz~8ne5_agq5</td>\n",
       "      <td>2023-01-23 23:46:16.858000+00:00</td>\n",
       "      <td>2023-01-23 23:46:33.925000+00:00</td>\n",
       "      <td>rv-t6vv~sqbg.fcxv</td>\n",
       "      <td>55.0</td>\n",
       "      <td>2.0</td>\n",
       "      <td>9.0</td>\n",
       "      <td>26.0</td>\n",
       "      <td>29.0</td>\n",
       "      <td>3.0</td>\n",
       "      <td>...</td>\n",
       "      <td>False</td>\n",
       "      <td>10.0</td>\n",
       "      <td>Potrero Hill</td>\n",
       "      <td>{'latitude': '37.7636861675663', 'longitude': ...</td>\n",
       "      <td>{'type': 'Point', 'coordinates': [-122.38873, ...</td>\n",
       "      <td>14.0</td>\n",
       "      <td>NaN</td>\n",
       "      <td>NaN</td>\n",
       "      <td>NaN</td>\n",
       "      <td>NaN</td>\n",
       "    </tr>\n",
       "    <tr>\n",
       "      <th>4</th>\n",
       "      <td>row-er7z~7fk9~55mx</td>\n",
       "      <td>2023-01-23 23:46:16.858000+00:00</td>\n",
       "      <td>2023-01-23 23:46:33.925000+00:00</td>\n",
       "      <td>rv-8f6e~9dpn.id6z</td>\n",
       "      <td>39.0</td>\n",
       "      <td>10.0</td>\n",
       "      <td>7.0</td>\n",
       "      <td>35.0</td>\n",
       "      <td>35.0</td>\n",
       "      <td>8.0</td>\n",
       "      <td>...</td>\n",
       "      <td>False</td>\n",
       "      <td>4.0</td>\n",
       "      <td>Sunset/Parkside</td>\n",
       "      <td>{'latitude': '37.748396041406835', 'longitude'...</td>\n",
       "      <td>{'type': 'Point', 'coordinates': [-122.50294, ...</td>\n",
       "      <td>NaN</td>\n",
       "      <td>NaN</td>\n",
       "      <td>NaN</td>\n",
       "      <td>NaN</td>\n",
       "      <td>NaN</td>\n",
       "    </tr>\n",
       "    <tr>\n",
       "      <th>5</th>\n",
       "      <td>row-gr32-umab-fxqu</td>\n",
       "      <td>2023-01-23 23:46:16.858000+00:00</td>\n",
       "      <td>2023-01-23 23:46:33.925000+00:00</td>\n",
       "      <td>rv-d76w-xwwa~2fpx</td>\n",
       "      <td>91.0</td>\n",
       "      <td>2.0</td>\n",
       "      <td>2.0</td>\n",
       "      <td>25.0</td>\n",
       "      <td>28.0</td>\n",
       "      <td>3.0</td>\n",
       "      <td>...</td>\n",
       "      <td>False</td>\n",
       "      <td>9.0</td>\n",
       "      <td>Portola</td>\n",
       "      <td>{'latitude': '37.730376135010886', 'longitude'...</td>\n",
       "      <td>{'type': 'Point', 'coordinates': [-122.40584, ...</td>\n",
       "      <td>NaN</td>\n",
       "      <td>NaN</td>\n",
       "      <td>NaN</td>\n",
       "      <td>NaN</td>\n",
       "      <td>NaN</td>\n",
       "    </tr>\n",
       "    <tr>\n",
       "      <th>6</th>\n",
       "      <td>row-5jy6_s62c~m2g4</td>\n",
       "      <td>2023-01-23 23:46:16.858000+00:00</td>\n",
       "      <td>2023-01-23 23:46:33.925000+00:00</td>\n",
       "      <td>rv-pbei~25pq-sufa</td>\n",
       "      <td>44.0</td>\n",
       "      <td>10.0</td>\n",
       "      <td>8.0</td>\n",
       "      <td>41.0</td>\n",
       "      <td>40.0</td>\n",
       "      <td>8.0</td>\n",
       "      <td>...</td>\n",
       "      <td>False</td>\n",
       "      <td>7.0</td>\n",
       "      <td>West of Twin Peaks</td>\n",
       "      <td>{'latitude': '37.74321534793589', 'longitude':...</td>\n",
       "      <td>{'type': 'Point', 'coordinates': [-122.47192, ...</td>\n",
       "      <td>NaN</td>\n",
       "      <td>NaN</td>\n",
       "      <td>NaN</td>\n",
       "      <td>NaN</td>\n",
       "      <td>NaN</td>\n",
       "    </tr>\n",
       "    <tr>\n",
       "      <th>7</th>\n",
       "      <td>row-vzi9_7svc~98jq</td>\n",
       "      <td>2023-01-23 23:46:16.858000+00:00</td>\n",
       "      <td>2023-01-23 23:46:33.925000+00:00</td>\n",
       "      <td>rv-md38~jqdr~y94e</td>\n",
       "      <td>20.0</td>\n",
       "      <td>5.0</td>\n",
       "      <td>10.0</td>\n",
       "      <td>36.0</td>\n",
       "      <td>36.0</td>\n",
       "      <td>10.0</td>\n",
       "      <td>...</td>\n",
       "      <td>False</td>\n",
       "      <td>5.0</td>\n",
       "      <td>Tenderloin</td>\n",
       "      <td>{'latitude': '37.78333200817521', 'longitude':...</td>\n",
       "      <td>{'type': 'Point', 'coordinates': [-122.40984, ...</td>\n",
       "      <td>6.0</td>\n",
       "      <td>1.0</td>\n",
       "      <td>1.0</td>\n",
       "      <td>18.0</td>\n",
       "      <td>NaN</td>\n",
       "    </tr>\n",
       "    <tr>\n",
       "      <th>8</th>\n",
       "      <td>row-hin8.uhzw.rh2d</td>\n",
       "      <td>2023-01-23 23:46:16.858000+00:00</td>\n",
       "      <td>2023-01-23 23:46:33.925000+00:00</td>\n",
       "      <td>rv-r87s.ubap-ypha</td>\n",
       "      <td>20.0</td>\n",
       "      <td>5.0</td>\n",
       "      <td>10.0</td>\n",
       "      <td>36.0</td>\n",
       "      <td>36.0</td>\n",
       "      <td>10.0</td>\n",
       "      <td>...</td>\n",
       "      <td>False</td>\n",
       "      <td>5.0</td>\n",
       "      <td>Tenderloin</td>\n",
       "      <td>{'latitude': '37.78361971423206', 'longitude':...</td>\n",
       "      <td>{'type': 'Point', 'coordinates': [-122.41506, ...</td>\n",
       "      <td>6.0</td>\n",
       "      <td>1.0</td>\n",
       "      <td>1.0</td>\n",
       "      <td>18.0</td>\n",
       "      <td>NaN</td>\n",
       "    </tr>\n",
       "    <tr>\n",
       "      <th>9</th>\n",
       "      <td>row-c8et.y7q5~zf5a</td>\n",
       "      <td>2023-01-23 23:46:16.858000+00:00</td>\n",
       "      <td>2023-01-23 23:46:33.925000+00:00</td>\n",
       "      <td>rv-hhns.jcpx_zh4i</td>\n",
       "      <td>20.0</td>\n",
       "      <td>5.0</td>\n",
       "      <td>10.0</td>\n",
       "      <td>36.0</td>\n",
       "      <td>36.0</td>\n",
       "      <td>10.0</td>\n",
       "      <td>...</td>\n",
       "      <td>False</td>\n",
       "      <td>5.0</td>\n",
       "      <td>Tenderloin</td>\n",
       "      <td>{'latitude': '37.78361971423206', 'longitude':...</td>\n",
       "      <td>{'type': 'Point', 'coordinates': [-122.41506, ...</td>\n",
       "      <td>6.0</td>\n",
       "      <td>1.0</td>\n",
       "      <td>1.0</td>\n",
       "      <td>18.0</td>\n",
       "      <td>NaN</td>\n",
       "    </tr>\n",
       "  </tbody>\n",
       "</table>\n",
       "<p>10 rows × 49 columns</p>\n",
       "</div>"
      ],
      "text/plain": [
       "                  :id                      :created_at  \\\n",
       "0  row-ufzj_22gk~drek 2023-01-23 23:46:16.858000+00:00   \n",
       "1  row-k4ar_jqfk~qf9p 2023-01-23 23:46:16.858000+00:00   \n",
       "2  row-g7er.wz7c~98am 2023-01-23 23:46:16.858000+00:00   \n",
       "3  row-jvdz~8ne5_agq5 2023-01-23 23:46:16.858000+00:00   \n",
       "4  row-er7z~7fk9~55mx 2023-01-23 23:46:16.858000+00:00   \n",
       "5  row-gr32-umab-fxqu 2023-01-23 23:46:16.858000+00:00   \n",
       "6  row-5jy6_s62c~m2g4 2023-01-23 23:46:16.858000+00:00   \n",
       "7  row-vzi9_7svc~98jq 2023-01-23 23:46:16.858000+00:00   \n",
       "8  row-hin8.uhzw.rh2d 2023-01-23 23:46:16.858000+00:00   \n",
       "9  row-c8et.y7q5~zf5a 2023-01-23 23:46:16.858000+00:00   \n",
       "\n",
       "                       :updated_at           :version  \\\n",
       "0 2023-01-23 23:46:33.925000+00:00  rv-wryr~aezj~xte7   \n",
       "1 2023-01-23 23:46:33.925000+00:00  rv-jrf5.m8q7.bb2j   \n",
       "2 2023-01-23 23:46:33.925000+00:00  rv-kub4-qfcm-vv5s   \n",
       "3 2023-01-23 23:46:33.925000+00:00  rv-t6vv~sqbg.fcxv   \n",
       "4 2023-01-23 23:46:33.925000+00:00  rv-8f6e~9dpn.id6z   \n",
       "5 2023-01-23 23:46:33.925000+00:00  rv-d76w-xwwa~2fpx   \n",
       "6 2023-01-23 23:46:33.925000+00:00  rv-pbei~25pq-sufa   \n",
       "7 2023-01-23 23:46:33.925000+00:00  rv-md38~jqdr~y94e   \n",
       "8 2023-01-23 23:46:33.925000+00:00  rv-r87s.ubap-ypha   \n",
       "9 2023-01-23 23:46:33.925000+00:00  rv-hhns.jcpx_zh4i   \n",
       "\n",
       "   :@computed_region_6qbp_sg9q  :@computed_region_qgnn_b9vv  \\\n",
       "0                         53.0                          3.0   \n",
       "1                         55.0                          2.0   \n",
       "2                         20.0                          6.0   \n",
       "3                         55.0                          2.0   \n",
       "4                         39.0                         10.0   \n",
       "5                         91.0                          2.0   \n",
       "6                         44.0                         10.0   \n",
       "7                         20.0                          5.0   \n",
       "8                         20.0                          5.0   \n",
       "9                         20.0                          5.0   \n",
       "\n",
       "   :@computed_region_26cr_cadq  :@computed_region_ajp5_b2md  \\\n",
       "0                          2.0                         20.0   \n",
       "1                          9.0                         26.0   \n",
       "2                         10.0                         36.0   \n",
       "3                          9.0                         26.0   \n",
       "4                          7.0                         35.0   \n",
       "5                          2.0                         25.0   \n",
       "6                          8.0                         41.0   \n",
       "7                         10.0                         36.0   \n",
       "8                         10.0                         36.0   \n",
       "9                         10.0                         36.0   \n",
       "\n",
       "   :@computed_region_fyvs_ahh9  :@computed_region_p5aj_wyqh  ...  \\\n",
       "0                         19.0                          4.0  ...   \n",
       "1                         29.0                          3.0  ...   \n",
       "2                         36.0                          1.0  ...   \n",
       "3                         29.0                          3.0  ...   \n",
       "4                         35.0                          8.0  ...   \n",
       "5                         28.0                          3.0  ...   \n",
       "6                         40.0                          8.0  ...   \n",
       "7                         36.0                         10.0  ...   \n",
       "8                         36.0                         10.0  ...   \n",
       "9                         36.0                         10.0  ...   \n",
       "\n",
       "   good_samaritan_ends  supervisor_district        neighborhood  \\\n",
       "0                False                  9.0             Mission   \n",
       "1                False                 10.0        Potrero Hill   \n",
       "2                False                  3.0          Tenderloin   \n",
       "3                False                 10.0        Potrero Hill   \n",
       "4                False                  4.0     Sunset/Parkside   \n",
       "5                False                  9.0             Portola   \n",
       "6                False                  7.0  West of Twin Peaks   \n",
       "7                False                  5.0          Tenderloin   \n",
       "8                False                  5.0          Tenderloin   \n",
       "9                False                  5.0          Tenderloin   \n",
       "\n",
       "                                     client_location  \\\n",
       "0  {'latitude': '37.75649855484188', 'longitude':...   \n",
       "1  {'latitude': '37.7636861675663', 'longitude': ...   \n",
       "2  {'latitude': '37.78620563104688', 'longitude':...   \n",
       "3  {'latitude': '37.7636861675663', 'longitude': ...   \n",
       "4  {'latitude': '37.748396041406835', 'longitude'...   \n",
       "5  {'latitude': '37.730376135010886', 'longitude'...   \n",
       "6  {'latitude': '37.74321534793589', 'longitude':...   \n",
       "7  {'latitude': '37.78333200817521', 'longitude':...   \n",
       "8  {'latitude': '37.78361971423206', 'longitude':...   \n",
       "9  {'latitude': '37.78361971423206', 'longitude':...   \n",
       "\n",
       "                                               shape  \\\n",
       "0  {'type': 'Point', 'coordinates': [-122.41447, ...   \n",
       "1  {'type': 'Point', 'coordinates': [-122.38873, ...   \n",
       "2  {'type': 'Point', 'coordinates': [-122.41727, ...   \n",
       "3  {'type': 'Point', 'coordinates': [-122.38873, ...   \n",
       "4  {'type': 'Point', 'coordinates': [-122.50294, ...   \n",
       "5  {'type': 'Point', 'coordinates': [-122.40584, ...   \n",
       "6  {'type': 'Point', 'coordinates': [-122.47192, ...   \n",
       "7  {'type': 'Point', 'coordinates': [-122.40984, ...   \n",
       "8  {'type': 'Point', 'coordinates': [-122.41506, ...   \n",
       "9  {'type': 'Point', 'coordinates': [-122.41506, ...   \n",
       "\n",
       "  :@computed_region_9jxd_iqea :@computed_region_6ezc_tdp2  \\\n",
       "0                         NaN                         NaN   \n",
       "1                        14.0                         NaN   \n",
       "2                         NaN                         NaN   \n",
       "3                        14.0                         NaN   \n",
       "4                         NaN                         NaN   \n",
       "5                         NaN                         NaN   \n",
       "6                         NaN                         NaN   \n",
       "7                         6.0                         1.0   \n",
       "8                         6.0                         1.0   \n",
       "9                         6.0                         1.0   \n",
       "\n",
       "  :@computed_region_h4ep_8xdi :@computed_region_pigm_ib2e  constraints_date  \n",
       "0                         NaN                         NaN               NaN  \n",
       "1                         NaN                         NaN               NaN  \n",
       "2                         NaN                         NaN               NaN  \n",
       "3                         NaN                         NaN               NaN  \n",
       "4                         NaN                         NaN               NaN  \n",
       "5                         NaN                         NaN               NaN  \n",
       "6                         NaN                         NaN               NaN  \n",
       "7                         1.0                        18.0               NaN  \n",
       "8                         1.0                        18.0               NaN  \n",
       "9                         1.0                        18.0               NaN  \n",
       "\n",
       "[10 rows x 49 columns]"
      ]
     },
     "execution_count": 14,
     "metadata": {},
     "output_type": "execute_result"
    }
   ],
   "source": [
    "pandas_df.head(10)"
   ]
  },
  {
   "cell_type": "code",
   "execution_count": null,
   "id": "0371c79c",
   "metadata": {},
   "outputs": [],
   "source": [
    "### Finding candidates to use as partition column\n",
    "df[]"
   ]
  },
  {
   "cell_type": "code",
   "execution_count": 16,
   "id": "6894d5b5",
   "metadata": {},
   "outputs": [
    {
     "data": {
      "text/plain": [
       "(12, 49)"
      ]
     },
     "execution_count": 16,
     "metadata": {},
     "output_type": "execute_result"
    }
   ],
   "source": [
    "# Removing rows with null data so we can avoid the error when convering to spark df for schema purpose\n",
    "\"\"\"The command pandas_df[pandas_df.notnull().all(1)] is used in Python's pandas library to filter rows from a pandas DataFrame based on whether they contain only non-null values in all columns.\n",
    "\n",
    "Here's how the command works:\n",
    "\n",
    "pandas_df refers to a pandas DataFrame.\n",
    "pandas_df.notnull() returns a DataFrame of the same shape as pandas_df but with boolean values indicating whether each element is null or not.\n",
    "pandas_df.notnull().all(1) returns a Series of boolean values indicating whether all the values in each row of the DataFrame are non-null. The 1 argument specifies that we want to check for non-null values across each row.\n",
    "Finally, pandas_df[pandas_df.notnull().all(1)] returns a new DataFrame that contains only the rows where all the values are non-null. This is achieved by using the boolean Series to select only the rows where all the values are True.\n",
    "In summary, this command can be used to filter out rows with missing values from a pandas DataFrame.\"\"\"\n",
    "pandas_df= pandas_df[pandas_df.notnull().all(1)]\n",
    "pandas_df.shape"
   ]
  },
  {
   "cell_type": "code",
   "execution_count": 17,
   "id": "b55641ef",
   "metadata": {},
   "outputs": [
    {
     "data": {
      "text/plain": [
       "StructType([StructField(':id', StringType(), True), StructField(':created_at', TimestampType(), True), StructField(':updated_at', TimestampType(), True), StructField(':version', StringType(), True), StructField(':@computed_region_6qbp_sg9q', DoubleType(), True), StructField(':@computed_region_qgnn_b9vv', DoubleType(), True), StructField(':@computed_region_26cr_cadq', DoubleType(), True), StructField(':@computed_region_ajp5_b2md', DoubleType(), True), StructField(':@computed_region_fyvs_ahh9', DoubleType(), True), StructField(':@computed_region_p5aj_wyqh', DoubleType(), True), StructField(':@computed_region_rxqg_mtj9', DoubleType(), True), StructField(':@computed_region_yftq_j783', DoubleType(), True), StructField(':@computed_region_bh8s_q3mv', DoubleType(), True), StructField(':@computed_region_6pnf_4xz7', DoubleType(), True), StructField(':@computed_region_jwn9_ihcz', DoubleType(), True), StructField('eviction_id', StringType(), True), StructField('address', StringType(), True), StructField('city', StringType(), True), StructField('state', StringType(), True), StructField('zip', DoubleType(), True), StructField('file_date', StringType(), True), StructField('non_payment', BooleanType(), True), StructField('breach', BooleanType(), True), StructField('nuisance', BooleanType(), True), StructField('illegal_use', BooleanType(), True), StructField('failure_to_sign_renewal', BooleanType(), True), StructField('access_denial', BooleanType(), True), StructField('unapproved_subtenant', BooleanType(), True), StructField('owner_move_in', BooleanType(), True), StructField('demolition', BooleanType(), True), StructField('capital_improvement', BooleanType(), True), StructField('substantial_rehab', BooleanType(), True), StructField('ellis_act_withdrawal', BooleanType(), True), StructField('condo_conversion', BooleanType(), True), StructField('roommate_same_unit', BooleanType(), True), StructField('other_cause', BooleanType(), True), StructField('late_payments', BooleanType(), True), StructField('lead_remediation', BooleanType(), True), StructField('development', BooleanType(), True), StructField('good_samaritan_ends', BooleanType(), True), StructField('supervisor_district', DoubleType(), True), StructField('neighborhood', StringType(), True), StructField('client_location', MapType(StringType(), StringType(), True), True), StructField('shape', MapType(StringType(), StringType(), True), True), StructField(':@computed_region_9jxd_iqea', DoubleType(), True), StructField(':@computed_region_6ezc_tdp2', DoubleType(), True), StructField(':@computed_region_h4ep_8xdi', DoubleType(), True), StructField(':@computed_region_pigm_ib2e', DoubleType(), True), StructField('constraints_date', StringType(), True)])"
      ]
     },
     "execution_count": 17,
     "metadata": {},
     "output_type": "execute_result"
    }
   ],
   "source": [
    "# Extract the schema of the pandas df by converting it to pyspark df\n",
    "spark.createDataFrame(pandas_df).schema\n",
    "# Modify and align the schema in VSCode"
   ]
  },
  {
   "cell_type": "code",
   "execution_count": null,
   "id": "bbb4b88a",
   "metadata": {},
   "outputs": [],
   "source": [
    "pandas_df[pandas_df['illegal_use']==False].shape"
   ]
  },
  {
   "cell_type": "code",
   "execution_count": 53,
   "id": "55f88b79",
   "metadata": {},
   "outputs": [
    {
     "data": {
      "text/plain": [
       "0"
      ]
     },
     "execution_count": 53,
     "metadata": {},
     "output_type": "execute_result"
    }
   ],
   "source": [
    "pandas_df['illegal_use'].isnull().sum()"
   ]
  },
  {
   "cell_type": "code",
   "execution_count": 61,
   "id": "f240ad3f",
   "metadata": {},
   "outputs": [
    {
     "data": {
      "text/plain": [
       "Series([], Name: illegal_use, dtype: bool)"
      ]
     },
     "execution_count": 61,
     "metadata": {},
     "output_type": "execute_result"
    }
   ],
   "source": [
    "pandas_df[pandas_df['illegal_use']==True]['illegal_use']"
   ]
  },
  {
   "cell_type": "code",
   "execution_count": 35,
   "id": "0384e6f7",
   "metadata": {},
   "outputs": [
    {
     "data": {
      "text/html": [
       "<div>\n",
       "<style scoped>\n",
       "    .dataframe tbody tr th:only-of-type {\n",
       "        vertical-align: middle;\n",
       "    }\n",
       "\n",
       "    .dataframe tbody tr th {\n",
       "        vertical-align: top;\n",
       "    }\n",
       "\n",
       "    .dataframe thead th {\n",
       "        text-align: right;\n",
       "    }\n",
       "</style>\n",
       "<table border=\"1\" class=\"dataframe\">\n",
       "  <thead>\n",
       "    <tr style=\"text-align: right;\">\n",
       "      <th></th>\n",
       "      <th>client_location</th>\n",
       "      <th>neighborhood</th>\n",
       "      <th>non_payment</th>\n",
       "      <th>nuisance</th>\n",
       "      <th>breach</th>\n",
       "      <th>city</th>\n",
       "      <th>address</th>\n",
       "      <th>demolition</th>\n",
       "      <th>illegal_use</th>\n",
       "      <th>access_denial</th>\n",
       "      <th>...</th>\n",
       "      <th>good_samaritan_ends</th>\n",
       "      <th>lead_remediation</th>\n",
       "      <th>unapproved_subtenant</th>\n",
       "      <th>capital_improvement</th>\n",
       "      <th>condo_conversion</th>\n",
       "      <th>late_payments</th>\n",
       "      <th>zip</th>\n",
       "      <th>supervisor_district</th>\n",
       "      <th>owner_move_in</th>\n",
       "      <th>failure_to_sign_renewal</th>\n",
       "    </tr>\n",
       "  </thead>\n",
       "  <tbody>\n",
       "  </tbody>\n",
       "</table>\n",
       "<p>0 rows × 29 columns</p>\n",
       "</div>"
      ],
      "text/plain": [
       "Empty DataFrame\n",
       "Columns: [client_location, neighborhood, non_payment, nuisance, breach, city, address, demolition, illegal_use, access_denial, other_cause, eviction_id, state, substantial_rehab, development, constraints_date, roommate_same_unit, file_date, ellis_act_withdrawal, good_samaritan_ends, lead_remediation, unapproved_subtenant, capital_improvement, condo_conversion, late_payments, zip, supervisor_district, owner_move_in, failure_to_sign_renewal]\n",
       "Index: []\n",
       "\n",
       "[0 rows x 29 columns]"
      ]
     },
     "execution_count": 35,
     "metadata": {},
     "output_type": "execute_result"
    }
   ],
   "source": [
    "pandas_df[pandas_df['development']=='M221207']"
   ]
  },
  {
   "cell_type": "code",
   "execution_count": 62,
   "id": "9ba76eb1",
   "metadata": {},
   "outputs": [
    {
     "data": {
      "text/plain": [
       "22026     2011-05-08T00:00:00.000\n",
       "22039     2011-05-06T00:00:00.000\n",
       "25330     2009-07-03T00:00:00.000\n",
       "66403     2011-05-08T00:00:00.000\n",
       "66416     2011-05-06T00:00:00.000\n",
       "69707     2009-07-03T00:00:00.000\n",
       "110783    2011-05-08T00:00:00.000\n",
       "110794    2011-05-06T00:00:00.000\n",
       "114085    2009-07-03T00:00:00.000\n",
       "155227    2011-05-08T00:00:00.000\n",
       "155238    2011-05-06T00:00:00.000\n",
       "158529    2009-07-03T00:00:00.000\n",
       "Name: constraints_date, dtype: object"
      ]
     },
     "execution_count": 62,
     "metadata": {},
     "output_type": "execute_result"
    }
   ],
   "source": [
    "pandas_df['constraints_date']"
   ]
  },
  {
   "cell_type": "markdown",
   "id": "6e848ff1",
   "metadata": {},
   "source": [
    "## Creating PySpark Dataframe by passing the schema\n",
    "* Refer to the dtypes [here](https://data.sfgov.org/Housing-and-Buildings/Eviction-Notices/5cei-gny5)"
   ]
  },
  {
   "cell_type": "code",
   "execution_count": 59,
   "id": "9fd48eb0",
   "metadata": {},
   "outputs": [],
   "source": [
    "from pyspark.sql import types\n",
    "schema = types.StructType([\n",
    "    types.StructField(':@computed_region_26cr_cadq', types.StringType(), True), \n",
    "    types.StructField(':@computed_region_6ezc_tdp2', types.StringType(), True), \n",
    "    types.StructField(':@computed_region_6pnf_4xz7', types.StringType(), True), \n",
    "    types.StructField(':@computed_region_6qbp_sg9q', types.StringType(), True), \n",
    "    types.StructField(':@computed_region_9jxd_iqea', types.StringType(), True), \n",
    "    types.StructField(':@computed_region_ajp5_b2md', types.StringType(), True), \n",
    "    types.StructField(':@computed_region_bh8s_q3mv', types.StringType(), True), \n",
    "    types.StructField(':@computed_region_fyvs_ahh9', types.StringType(), True), \n",
    "    types.StructField(':@computed_region_h4ep_8xdi', types.StringType(), True), \n",
    "    types.StructField(':@computed_region_jwn9_ihcz', types.StringType(), True), \n",
    "    types.StructField(':@computed_region_p5aj_wyqh', types.StringType(), True), \n",
    "    types.StructField(':@computed_region_pigm_ib2e', types.StringType(), True), \n",
    "    types.StructField(':@computed_region_qgnn_b9vv', types.StringType(), True), \n",
    "    types.StructField(':@computed_region_rxqg_mtj9', types.StringType(), True), \n",
    "    types.StructField(':@computed_region_yftq_j783', types.StringType(), True), \n",
    "    types.StructField(':created_at', types.TimestampType(), True), \n",
    "    types.StructField(':id', types.StringType(), True), \n",
    "    types.StructField(':updated_at', types.TimestampType(), True), \n",
    "    types.StructField(':version', types.StringType(), True), \n",
    "    types.StructField('access_denial', types.BooleanType(), True), \n",
    "    types.StructField('address', types.StringType(), True), \n",
    "    types.StructField('breach', types.BooleanType(), True), \n",
    "    types.StructField('capital_improvement', types.BooleanType(), True), \n",
    "    types.StructField('city', types.StringType(), True), \n",
    "    types.StructField('client_location', types.MapType(types.StringType(), types.StringType(), True), True), \n",
    "    types.StructField('condo_conversion', types.BooleanType(), True), \n",
    "    types.StructField('constraints_date', types.StringType(), True), \n",
    "    types.StructField('demolition', types.BooleanType(), True), \n",
    "    types.StructField('development', types.BooleanType(), True), \n",
    "    types.StructField('ellis_act_withdrawal', types.BooleanType(), True), \n",
    "    types.StructField('eviction_id', types.StringType(), True), \n",
    "    types.StructField('failure_to_sign_renewal', types.BooleanType(), True), \n",
    "    types.StructField('file_date', types.DateType(), True), \n",
    "    types.StructField('good_samaritan_ends', types.BooleanType(), True), \n",
    "    types.StructField('illegal_use', types.BooleanType(), True), \n",
    "    types.StructField('late_payments', types.BooleanType(), True), \n",
    "    types.StructField('lead_remediation', types.BooleanType(), True), \n",
    "    types.StructField('neighborhood', types.StringType(), True), \n",
    "    types.StructField('non_payment', types.BooleanType(), True), \n",
    "    types.StructField('nuisance', types.BooleanType(), True), \n",
    "    types.StructField('other_cause', types.BooleanType(), True), \n",
    "    types.StructField('owner_move_in', types.BooleanType(), True), \n",
    "    types.StructField('roommate_same_unit', types.BooleanType(), True), \n",
    "    types.StructField('shape', types.StructType([\n",
    "        types.StructField('coordinates', types.ArrayType(types.DoubleType(), True), True), \n",
    "        types.StructField('type', types.StringType(), True)]), True), \n",
    "    types.StructField('state', types.StringType(), True), \n",
    "    types.StructField('substantial_rehab', types.BooleanType(), True), \n",
    "    types.StructField('supervisor_district', types.StringType(), True), \n",
    "    types.StructField('unapproved_subtenant', types.BooleanType(), True), \n",
    "    types.StructField('zip', types.StringType(), True)])"
   ]
  },
  {
   "cell_type": "code",
   "execution_count": null,
   "id": "bd42d725",
   "metadata": {},
   "outputs": [],
   "source": []
  },
  {
   "cell_type": "code",
   "execution_count": 60,
   "id": "db38e6d9",
   "metadata": {},
   "outputs": [],
   "source": [
    "source_path_json = '/home/sanyashireen/sf_eviction/data_eviction/2023/3/25/api_raw_eviction_2023-03-25.json'\n",
    "raw_pyspark_df = spark.read.option(\"multiline\",\"true\").schema(schema).json(str(source_path_json))"
   ]
  },
  {
   "cell_type": "code",
   "execution_count": 150,
   "id": "75077372",
   "metadata": {},
   "outputs": [
    {
     "name": "stderr",
     "output_type": "stream",
     "text": [
      "                                                                                \r"
     ]
    },
    {
     "data": {
      "text/plain": [
       "177578"
      ]
     },
     "execution_count": 150,
     "metadata": {},
     "output_type": "execute_result"
    }
   ],
   "source": [
    "raw_pyspark_df.count()"
   ]
  },
  {
   "cell_type": "code",
   "execution_count": 61,
   "id": "d499d9f0",
   "metadata": {},
   "outputs": [
    {
     "name": "stderr",
     "output_type": "stream",
     "text": [
      "\r",
      "[Stage 15:>                                                         (0 + 1) / 1]\r"
     ]
    },
    {
     "name": "stdout",
     "output_type": "stream",
     "text": [
      ":@computed_region_26cr_cadq=2\n",
      ":@computed_region_6ezc_tdp2=None\n",
      ":@computed_region_6pnf_4xz7=2\n",
      ":@computed_region_6qbp_sg9q=53\n",
      ":@computed_region_9jxd_iqea=None\n",
      ":@computed_region_ajp5_b2md=20\n",
      ":@computed_region_bh8s_q3mv=28859\n",
      ":@computed_region_fyvs_ahh9=19\n",
      ":@computed_region_h4ep_8xdi=None\n",
      ":@computed_region_jwn9_ihcz=53\n",
      ":@computed_region_p5aj_wyqh=4\n",
      ":@computed_region_pigm_ib2e=None\n",
      ":@computed_region_qgnn_b9vv=3\n",
      ":@computed_region_rxqg_mtj9=7\n",
      ":@computed_region_yftq_j783=2\n",
      ":created_at=2023-01-23 23:46:16.858000\n",
      ":id=row-ufzj_22gk~drek\n",
      ":updated_at=2023-01-23 23:46:33.925000\n",
      ":version=rv-wryr~aezj~xte7\n",
      "access_denial=False\n",
      "address=2500 Block Of Folsom  Street\n",
      "breach=False\n",
      "capital_improvement=False\n",
      "city=San Francisco\n",
      "client_location={'human_address': '{\"address\": \"\", \"city\": \"\", \"state\": \"\", \"zip\": \"\"}', 'latitude': '37.75649855484188', 'longitude': '-122.41446453496935'}\n",
      "condo_conversion=False\n",
      "constraints_date=None\n",
      "demolition=False\n",
      "development=False\n",
      "ellis_act_withdrawal=False\n",
      "eviction_id=M221207\n",
      "failure_to_sign_renewal=False\n",
      "file_date=2022-12-23\n",
      "good_samaritan_ends=False\n",
      "illegal_use=False\n",
      "late_payments=False\n",
      "lead_remediation=False\n",
      "neighborhood=Mission\n",
      "non_payment=True\n",
      "nuisance=False\n",
      "other_cause=False\n",
      "owner_move_in=False\n",
      "roommate_same_unit=False\n",
      "shape=Row(coordinates=[-122.41447, 37.7565], type='Point')\n",
      "state=CA\n",
      "substantial_rehab=False\n",
      "supervisor_district=9\n",
      "unapproved_subtenant=False\n",
      "zip=94110\n"
     ]
    },
    {
     "name": "stderr",
     "output_type": "stream",
     "text": [
      "\r",
      "                                                                                \r"
     ]
    }
   ],
   "source": [
    "# Extracting column names to decide which ones are of interest\n",
    "# Convert type row to dictionary\n",
    "row_as_dict = raw_pyspark_df.head(1)[0].asDict()\n",
    "\n",
    "# Sample Column and Value\n",
    "for key, value in row_as_dict.items():\n",
    "    print(f'{key}={value}')"
   ]
  },
  {
   "cell_type": "code",
   "execution_count": 43,
   "id": "81fdbb3d",
   "metadata": {},
   "outputs": [
    {
     "name": "stderr",
     "output_type": "stream",
     "text": [
      "\r",
      "[Stage 9:>                                                          (0 + 1) / 1]\r"
     ]
    },
    {
     "name": "stdout",
     "output_type": "stream",
     "text": [
      "[':@computed_region_26cr_cadq', ':@computed_region_6ezc_tdp2', ':@computed_region_6pnf_4xz7', ':@computed_region_6qbp_sg9q', ':@computed_region_9jxd_iqea', ':@computed_region_ajp5_b2md', ':@computed_region_bh8s_q3mv', ':@computed_region_fyvs_ahh9', ':@computed_region_h4ep_8xdi', ':@computed_region_jwn9_ihcz', ':@computed_region_p5aj_wyqh', ':@computed_region_pigm_ib2e', ':@computed_region_qgnn_b9vv', ':@computed_region_rxqg_mtj9', ':@computed_region_yftq_j783', ':created_at', ':id', ':updated_at', ':version', 'access_denial', 'address', 'breach', 'capital_improvement', 'city', 'client_location', 'condo_conversion', 'constraints_date', 'demolition', 'development', 'ellis_act_withdrawal', 'eviction_id', 'failure_to_sign_renewal', 'file_date', 'good_samaritan_ends', 'illegal_use', 'late_payments', 'lead_remediation', 'neighborhood', 'non_payment', 'nuisance', 'other_cause', 'owner_move_in', 'roommate_same_unit', 'shape', 'state', 'substantial_rehab', 'supervisor_district', 'unapproved_subtenant', 'zip']\n",
      ":@computed_region_26cr_cadq=2\n",
      ":@computed_region_6ezc_tdp2=None\n",
      ":@computed_region_6pnf_4xz7=2\n",
      ":@computed_region_6qbp_sg9q=53\n",
      ":@computed_region_9jxd_iqea=None\n",
      ":@computed_region_ajp5_b2md=20\n",
      ":@computed_region_bh8s_q3mv=28859\n",
      ":@computed_region_fyvs_ahh9=19\n",
      ":@computed_region_h4ep_8xdi=None\n",
      ":@computed_region_jwn9_ihcz=53\n",
      ":@computed_region_p5aj_wyqh=4\n",
      ":@computed_region_pigm_ib2e=None\n",
      ":@computed_region_qgnn_b9vv=3\n",
      ":@computed_region_rxqg_mtj9=7\n",
      ":@computed_region_yftq_j783=2\n",
      ":created_at=2023-01-23 23:46:16.858000\n",
      ":id=row-ufzj_22gk~drek\n",
      ":updated_at=2023-01-23T23:46:33.925Z\n",
      ":version=rv-wryr~aezj~xte7\n",
      "access_denial=False\n",
      "address=2500 Block Of Folsom  Street\n",
      "breach=False\n",
      "capital_improvement=False\n",
      "city=San Francisco\n",
      "client_location=Row(human_address='{\"address\": \"\", \"city\": \"\", \"state\": \"\", \"zip\": \"\"}', latitude='37.75649855484188', longitude='-122.41446453496935')\n",
      "condo_conversion=False\n",
      "constraints_date=None\n",
      "demolition=False\n",
      "development=False\n",
      "ellis_act_withdrawal=False\n",
      "eviction_id=M221207\n",
      "failure_to_sign_renewal=False\n",
      "file_date=2022-12-23T00:00:00.000\n",
      "good_samaritan_ends=False\n",
      "illegal_use=False\n",
      "late_payments=False\n",
      "lead_remediation=False\n",
      "neighborhood=Mission\n",
      "non_payment=True\n",
      "nuisance=False\n",
      "other_cause=False\n",
      "owner_move_in=False\n",
      "roommate_same_unit=False\n",
      "shape=Row(coordinates=[-122.41447, 37.7565], type='Point')\n",
      "state=CA\n",
      "substantial_rehab=False\n",
      "supervisor_district=9\n",
      "unapproved_subtenant=False\n",
      "zip=94110\n"
     ]
    },
    {
     "name": "stderr",
     "output_type": "stream",
     "text": [
      "\r",
      "                                                                                \r"
     ]
    }
   ],
   "source": [
    "# Extracting column names to decide which ones are of interest\n",
    "# Convert type row to dictionary\n",
    "row_as_dict = raw_pyspark_df.head(1)[0].asDict()\n",
    "\n",
    "# Sample Column and Value\n",
    "for key, value in row_as_dict.items():\n",
    "    print(f'{key}={value}')"
   ]
  },
  {
   "cell_type": "code",
   "execution_count": 71,
   "id": "8f951ba3",
   "metadata": {},
   "outputs": [],
   "source": [
    "pyspark_df = raw_pyspark_df.select(imp_cols)"
   ]
  },
  {
   "cell_type": "code",
   "execution_count": 72,
   "id": "f8356a77",
   "metadata": {},
   "outputs": [
    {
     "name": "stdout",
     "output_type": "stream",
     "text": [
      "root\n",
      " |-- eviction_id: string (nullable = true)\n",
      " |-- address: string (nullable = true)\n",
      " |-- city: string (nullable = true)\n",
      " |-- state: string (nullable = true)\n",
      " |-- zip: date (nullable = true)\n",
      " |-- file_date: string (nullable = true)\n",
      " |-- non_payment: boolean (nullable = true)\n",
      " |-- breach: boolean (nullable = true)\n",
      " |-- nuisance: boolean (nullable = true)\n",
      " |-- illegal_use: boolean (nullable = true)\n",
      " |-- failure_to_sign_renewal: boolean (nullable = true)\n",
      " |-- access_denial: boolean (nullable = true)\n",
      " |-- unapproved_subtenant: boolean (nullable = true)\n",
      " |-- owner_move_in: boolean (nullable = true)\n",
      " |-- demolition: boolean (nullable = true)\n",
      " |-- capital_improvement: boolean (nullable = true)\n",
      " |-- substantial_rehab: boolean (nullable = true)\n",
      " |-- ellis_act_withdrawal: boolean (nullable = true)\n",
      " |-- condo_conversion: boolean (nullable = true)\n",
      " |-- roommate_same_unit: boolean (nullable = true)\n",
      " |-- other_cause: boolean (nullable = true)\n",
      " |-- late_payments: boolean (nullable = true)\n",
      " |-- lead_remediation: boolean (nullable = true)\n",
      " |-- development: boolean (nullable = true)\n",
      " |-- good_samaritan_ends: boolean (nullable = true)\n",
      " |-- constraints_date: string (nullable = true)\n",
      " |-- supervisor_district: integer (nullable = true)\n",
      " |-- neighborhood: string (nullable = true)\n",
      " |-- client_location: struct (nullable = true)\n",
      " |    |-- human_address: string (nullable = true)\n",
      " |    |-- latitude: double (nullable = true)\n",
      " |    |-- longitude: double (nullable = true)\n",
      " |-- :created_at: timestamp (nullable = true)\n",
      " |-- :updated_at: timestamp (nullable = true)\n",
      "\n"
     ]
    }
   ],
   "source": [
    "pyspark_df.printSchema()"
   ]
  },
  {
   "cell_type": "markdown",
   "id": "50319c7d",
   "metadata": {},
   "source": [
    "## Option 1: Write partitioned data to local\n",
    "* And then use the prefect blocks to write the data to GCS and BQ"
   ]
  },
  {
   "cell_type": "code",
   "execution_count": 36,
   "id": "251ddd9c",
   "metadata": {},
   "outputs": [
    {
     "name": "stdout",
     "output_type": "stream",
     "text": [
      "23/03/23 18:48:08 WARN CSVHeaderChecker: Number of column in CSV header is not equal to number of fields in the schema:\n",
      " Header length: 45, schema size: 29\n",
      "CSV file: file:///home/sanyashireen/sf_eviction/data_eviction/2023/3/22/gcs_raw_eviction_2023-03-22.csv\n"
     ]
    },
    {
     "name": "stderr",
     "output_type": "stream",
     "text": [
      "                                                                                \r"
     ]
    }
   ],
   "source": [
    "# folder to write the partition on the local system\n",
    "data_partition_dir = '/home/sanyashireen/sf_eviction/data_eviction/2023/3/22/clean_eviction_2023-03-22_partitioned'\n",
    "pyspark_df = pyspark_df.repartition(100)\n",
    "pyspark_df.write.parquet(data_partition_dir, mode='overwrite')"
   ]
  },
  {
   "cell_type": "markdown",
   "id": "75067733",
   "metadata": {},
   "source": [
    "## Option 2: Write partitioned data directly to gcs and bq (as an external table)\n",
    "* Will need to use Dataproc for that."
   ]
  },
  {
   "cell_type": "code",
   "execution_count": 109,
   "id": "eec45a2a",
   "metadata": {},
   "outputs": [],
   "source": [
    "from pyspark.sql.functions import col, expr"
   ]
  },
  {
   "cell_type": "code",
   "execution_count": 158,
   "id": "085914b2",
   "metadata": {},
   "outputs": [],
   "source": [
    "spark.stop()"
   ]
  },
  {
   "cell_type": "code",
   "execution_count": 88,
   "id": "ce8a9520",
   "metadata": {},
   "outputs": [
    {
     "name": "stderr",
     "output_type": "stream",
     "text": [
      "                                                                                \r"
     ]
    },
    {
     "name": "stdout",
     "output_type": "stream",
     "text": [
      "Total rows read: 177578\n"
     ]
    },
    {
     "name": "stderr",
     "output_type": "stream",
     "text": [
      "                                                                                \r"
     ]
    }
   ],
   "source": [
    "from pyspark.sql.functions import col\n",
    "source_path_json = '/home/sanyashireen/sf_eviction/data_eviction/2023/3/25/api_raw_eviction_2023-03-25.json'\n",
    "data_dir = Path('/home/sanyashireen/sf_eviction/data_eviction/2023/3/25')\n",
    "target_dir = '/home/sanyashireen/sf_eviction/data_eviction/2023/3/25/clean_partitioned_eviction_2023-03-25'\n",
    "\n",
    "spark = SparkSession.builder \\\n",
    "                    .master(\"local[*]\") \\\n",
    "                    .appName('test') \\\n",
    "                    .getOrCreate()\n",
    "\n",
    "imp_cols = ['eviction_id', 'address', 'city', 'state', 'zip', 'file_date', 'non_payment', 'breach', 'nuisance', 'illegal_use', 'failure_to_sign_renewal', 'access_denial', 'unapproved_subtenant', 'owner_move_in', 'demolition', 'capital_improvement', 'substantial_rehab', 'ellis_act_withdrawal', 'condo_conversion', 'roommate_same_unit', 'other_cause', 'late_payments', 'lead_remediation', 'development', 'good_samaritan_ends', 'constraints_date', 'supervisor_district', 'neighborhood', 'client_location', ':created_at', ':updated_at']\n",
    "schema = schema = types.StructType([\n",
    "    types.StructField(':@computed_region_26cr_cadq', types.StringType(), True), \n",
    "    types.StructField(':@computed_region_6ezc_tdp2', types.StringType(), True), \n",
    "    types.StructField(':@computed_region_6pnf_4xz7', types.StringType(), True), \n",
    "    types.StructField(':@computed_region_6qbp_sg9q', types.StringType(), True), \n",
    "    types.StructField(':@computed_region_9jxd_iqea', types.StringType(), True), \n",
    "    types.StructField(':@computed_region_ajp5_b2md', types.StringType(), True), \n",
    "    types.StructField(':@computed_region_bh8s_q3mv', types.StringType(), True), \n",
    "    types.StructField(':@computed_region_fyvs_ahh9', types.StringType(), True), \n",
    "    types.StructField(':@computed_region_h4ep_8xdi', types.StringType(), True), \n",
    "    types.StructField(':@computed_region_jwn9_ihcz', types.StringType(), True), \n",
    "    types.StructField(':@computed_region_p5aj_wyqh', types.StringType(), True), \n",
    "    types.StructField(':@computed_region_pigm_ib2e', types.StringType(), True), \n",
    "    types.StructField(':@computed_region_qgnn_b9vv', types.StringType(), True), \n",
    "    types.StructField(':@computed_region_rxqg_mtj9', types.StringType(), True), \n",
    "    types.StructField(':@computed_region_yftq_j783', types.StringType(), True), \n",
    "    types.StructField(':created_at', types.TimestampType(), True), \n",
    "    types.StructField(':id', types.StringType(), True), \n",
    "    types.StructField(':updated_at', types.TimestampType(), True), \n",
    "    types.StructField(':version', types.StringType(), True), \n",
    "    types.StructField('access_denial', types.BooleanType(), True), \n",
    "    types.StructField('address', types.StringType(), True), \n",
    "    types.StructField('breach', types.BooleanType(), True), \n",
    "    types.StructField('capital_improvement', types.BooleanType(), True), \n",
    "    types.StructField('city', types.StringType(), True), \n",
    "    types.StructField('client_location', types.MapType(types.StringType(), types.StringType(), True), True), \n",
    "    types.StructField('condo_conversion', types.BooleanType(), True), \n",
    "    types.StructField('constraints_date', types.StringType(), True), \n",
    "    types.StructField('demolition', types.BooleanType(), True), \n",
    "    types.StructField('development', types.BooleanType(), True), \n",
    "    types.StructField('ellis_act_withdrawal', types.BooleanType(), True), \n",
    "    types.StructField('eviction_id', types.StringType(), True), \n",
    "    types.StructField('failure_to_sign_renewal', types.BooleanType(), True), \n",
    "    types.StructField('file_date', types.DateType(), True), \n",
    "    types.StructField('good_samaritan_ends', types.BooleanType(), True), \n",
    "    types.StructField('illegal_use', types.BooleanType(), True), \n",
    "    types.StructField('late_payments', types.BooleanType(), True), \n",
    "    types.StructField('lead_remediation', types.BooleanType(), True), \n",
    "    types.StructField('neighborhood', types.StringType(), True), \n",
    "    types.StructField('non_payment', types.BooleanType(), True), \n",
    "    types.StructField('nuisance', types.BooleanType(), True), \n",
    "    types.StructField('other_cause', types.BooleanType(), True), \n",
    "    types.StructField('owner_move_in', types.BooleanType(), True), \n",
    "    types.StructField('roommate_same_unit', types.BooleanType(), True), \n",
    "    types.StructField('shape', types.StructType([\n",
    "        types.StructField('coordinates', types.ArrayType(types.DoubleType(), True), True), \n",
    "        types.StructField('type', types.StringType(), True)]), True), \n",
    "    types.StructField('state', types.StringType(), True), \n",
    "    types.StructField('substantial_rehab', types.BooleanType(), True), \n",
    "    types.StructField('supervisor_district', types.StringType(), True), \n",
    "    types.StructField('unapproved_subtenant', types.BooleanType(), True), \n",
    "    types.StructField('zip', types.StringType(), True)])\n",
    "\n",
    "df = spark.read \\\n",
    "          .option(\"multiline\",\"true\") \\\n",
    "          .schema(schema) \\\n",
    "          .json(str(source_path_json)) \\\n",
    "          .select(imp_cols) \\\n",
    "          .withColumnRenamed(':updated_at', 'updated_at') \\\n",
    "          .withColumnRenamed(':created_at', 'created_at') \n",
    "print(f'Total rows read: {df.count()}')\n",
    "df = df.withColumn(\"latitude\", df[\"client_location\"].getItem(\"latitude\").cast(\"double\")) \\\n",
    "       .withColumn(\"longitude\", df[\"client_location\"].getItem(\"longitude\").cast(\"double\")) \\\n",
    "       .drop(\"client_location\")\n",
    "df = df.repartition(2)\n",
    "\n",
    "df.write.parquet(target_dir, mode='overwrite')\n",
    "spark.stop()"
   ]
  },
  {
   "cell_type": "code",
   "execution_count": 85,
   "id": "45b9a2ca",
   "metadata": {},
   "outputs": [],
   "source": [
    "\n",
    "\n",
    "       "
   ]
  },
  {
   "cell_type": "markdown",
   "id": "65183542",
   "metadata": {},
   "source": [
    "## testing\n"
   ]
  },
  {
   "cell_type": "code",
   "execution_count": 86,
   "id": "be28832c",
   "metadata": {},
   "outputs": [
    {
     "data": {
      "text/plain": [
       "StructType([StructField('eviction_id', StringType(), True), StructField('address', StringType(), True), StructField('city', StringType(), True), StructField('state', StringType(), True), StructField('zip', StringType(), True), StructField('file_date', DateType(), True), StructField('non_payment', BooleanType(), True), StructField('breach', BooleanType(), True), StructField('nuisance', BooleanType(), True), StructField('illegal_use', BooleanType(), True), StructField('failure_to_sign_renewal', BooleanType(), True), StructField('access_denial', BooleanType(), True), StructField('unapproved_subtenant', BooleanType(), True), StructField('owner_move_in', BooleanType(), True), StructField('demolition', BooleanType(), True), StructField('capital_improvement', BooleanType(), True), StructField('substantial_rehab', BooleanType(), True), StructField('ellis_act_withdrawal', BooleanType(), True), StructField('condo_conversion', BooleanType(), True), StructField('roommate_same_unit', BooleanType(), True), StructField('other_cause', BooleanType(), True), StructField('late_payments', BooleanType(), True), StructField('lead_remediation', BooleanType(), True), StructField('development', BooleanType(), True), StructField('good_samaritan_ends', BooleanType(), True), StructField('constraints_date', StringType(), True), StructField('supervisor_district', StringType(), True), StructField('neighborhood', StringType(), True), StructField('created_at', TimestampType(), True), StructField('updated_at', TimestampType(), True), StructField('latitude', DoubleType(), True), StructField('longitude', DoubleType(), True)])"
      ]
     },
     "execution_count": 86,
     "metadata": {},
     "output_type": "execute_result"
    }
   ],
   "source": [
    "df.schema\n",
    "  "
   ]
  },
  {
   "cell_type": "code",
   "execution_count": 87,
   "id": "40658a06",
   "metadata": {},
   "outputs": [
    {
     "name": "stderr",
     "output_type": "stream",
     "text": [
      "\r",
      "[Stage 44:>                                                         (0 + 1) / 1]\r"
     ]
    },
    {
     "name": "stdout",
     "output_type": "stream",
     "text": [
      "+-----------+--------------------+-------------+-----+-----+----------+-----------+------+--------+-----------+-----------------------+-------------+--------------------+-------------+----------+-------------------+-----------------+--------------------+----------------+------------------+-----------+-------------+----------------+-----------+-------------------+----------------+-------------------+--------------------+--------------------+--------------------+------------------+-------------------+\n",
      "|eviction_id|             address|         city|state|  zip| file_date|non_payment|breach|nuisance|illegal_use|failure_to_sign_renewal|access_denial|unapproved_subtenant|owner_move_in|demolition|capital_improvement|substantial_rehab|ellis_act_withdrawal|condo_conversion|roommate_same_unit|other_cause|late_payments|lead_remediation|development|good_samaritan_ends|constraints_date|supervisor_district|        neighborhood|          created_at|          updated_at|          latitude|          longitude|\n",
      "+-----------+--------------------+-------------+-----+-----+----------+-----------+------+--------+-----------+-----------------------+-------------+--------------------+-------------+----------+-------------------+-----------------+--------------------+----------------+------------------+-----------+-------------+----------------+-----------+-------------------+----------------+-------------------+--------------------+--------------------+--------------------+------------------+-------------------+\n",
      "|    M090033|100 Block Of Brod...|San Francisco|   CA|94117|2009-01-08|      false|  true|   false|      false|                  false|        false|               false|        false|     false|              false|            false|               false|           false|             false|      false|        false|           false|      false|              false|            null|                  5|      Haight Ashbury|2023-01-31 13:36:...|2023-01-31 13:36:...|37.771523458641674|-122.43880411115185|\n",
      "|    M131789|700 Block Of 25th...|San Francisco|   CA|94121|2013-09-09|      false| false|   false|      false|                  false|        false|               false|        false|     false|              false|            false|               false|           false|             false|      false|         true|           false|      false|              false|            null|                  1|      Outer Richmond|2023-02-28 14:40:...|2023-02-28 14:40:...|37.775369414417675|-122.48439329425747|\n",
      "|    M220847|200 Block Of Frem...|San Francisco|   CA|94105|2022-06-02|      false| false|   false|      false|                  false|        false|               false|        false|      true|              false|            false|               false|           false|             false|      false|        false|           false|      false|              false|            null|                  6|Financial Distric...|2023-01-24 20:05:...|2023-01-24 20:05:...| 37.78828581378092|-122.39396039143082|\n",
      "|    M081128|800 Block Of 26th...|San Francisco|   CA|94121|2008-07-10|       true| false|   false|      false|                  false|        false|               false|        false|     false|              false|            false|               false|           false|             false|      false|        false|           false|      false|              false|            null|                  1|      Outer Richmond|2023-01-23 23:46:...|2023-01-23 23:46:...| 37.77345407216735| -122.4853296443948|\n",
      "|    M2K0748|2800 Block Of Pol...|San Francisco|   CA|94109|2000-04-27|      false| false|   false|      false|                  false|        false|               false|         true|     false|              false|            false|               false|           false|             false|      false|        false|           false|      false|              false|            null|                  2|        Russian Hill|2023-01-31 13:36:...|2023-01-31 13:37:...|37.802951187759994|-122.42318138390715|\n",
      "+-----------+--------------------+-------------+-----+-----+----------+-----------+------+--------+-----------+-----------------------+-------------+--------------------+-------------+----------+-------------------+-----------------+--------------------+----------------+------------------+-----------+-------------+----------------+-----------+-------------------+----------------+-------------------+--------------------+--------------------+--------------------+------------------+-------------------+\n",
      "only showing top 5 rows\n",
      "\n"
     ]
    },
    {
     "name": "stderr",
     "output_type": "stream",
     "text": [
      "\r",
      "                                                                                \r"
     ]
    }
   ],
   "source": [
    "df.show(5)"
   ]
  },
  {
   "cell_type": "code",
   "execution_count": 164,
   "id": "eb2a8ed0",
   "metadata": {},
   "outputs": [
    {
     "data": {
      "text/plain": [
       "StructType([StructField(':@computed_region_26cr_cadq', StringType(), True), StructField(':@computed_region_6ezc_tdp2', StringType(), True), StructField(':@computed_region_6pnf_4xz7', StringType(), True), StructField(':@computed_region_6qbp_sg9q', StringType(), True), StructField(':@computed_region_9jxd_iqea', StringType(), True), StructField(':@computed_region_ajp5_b2md', StringType(), True), StructField(':@computed_region_bh8s_q3mv', StringType(), True), StructField(':@computed_region_fyvs_ahh9', StringType(), True), StructField(':@computed_region_h4ep_8xdi', StringType(), True), StructField(':@computed_region_jwn9_ihcz', StringType(), True), StructField(':@computed_region_p5aj_wyqh', StringType(), True), StructField(':@computed_region_pigm_ib2e', StringType(), True), StructField(':@computed_region_qgnn_b9vv', StringType(), True), StructField(':@computed_region_rxqg_mtj9', StringType(), True), StructField(':@computed_region_yftq_j783', StringType(), True), StructField(':created_at', StringType(), True), StructField(':id', StringType(), True), StructField(':updated_at', StringType(), True), StructField(':version', StringType(), True), StructField('access_denial', BooleanType(), True), StructField('address', StringType(), True), StructField('breach', BooleanType(), True), StructField('capital_improvement', BooleanType(), True), StructField('city', StringType(), True), StructField('client_location', StructType([StructField('human_address', StringType(), True), StructField('latitude', StringType(), True), StructField('longitude', StringType(), True)]), True), StructField('condo_conversion', BooleanType(), True), StructField('constraints_date', StringType(), True), StructField('demolition', BooleanType(), True), StructField('development', BooleanType(), True), StructField('ellis_act_withdrawal', BooleanType(), True), StructField('eviction_id', StringType(), True), StructField('failure_to_sign_renewal', BooleanType(), True), StructField('file_date', StringType(), True), StructField('good_samaritan_ends', BooleanType(), True), StructField('illegal_use', BooleanType(), True), StructField('late_payments', BooleanType(), True), StructField('lead_remediation', BooleanType(), True), StructField('neighborhood', StringType(), True), StructField('non_payment', BooleanType(), True), StructField('nuisance', BooleanType(), True), StructField('other_cause', BooleanType(), True), StructField('owner_move_in', BooleanType(), True), StructField('roommate_same_unit', BooleanType(), True), StructField('shape', StructType([StructField('coordinates', ArrayType(DoubleType(), True), True), StructField('type', StringType(), True)]), True), StructField('state', StringType(), True), StructField('substantial_rehab', BooleanType(), True), StructField('supervisor_district', StringType(), True), StructField('unapproved_subtenant', BooleanType(), True), StructField('zip', StringType(), True)])"
      ]
     },
     "execution_count": 164,
     "metadata": {},
     "output_type": "execute_result"
    }
   ],
   "source": [
    "df.schema"
   ]
  },
  {
   "cell_type": "code",
   "execution_count": 98,
   "id": "320dc776",
   "metadata": {},
   "outputs": [
    {
     "name": "stderr",
     "output_type": "stream",
     "text": [
      "\r",
      "[Stage 34:>                                                         (0 + 1) / 1]\r"
     ]
    },
    {
     "name": "stdout",
     "output_type": "stream",
     "text": [
      "+--------------------+-------------+--------------------+\n",
      "|     client_location|          key|               value|\n",
      "+--------------------+-------------+--------------------+\n",
      "|{latitude -> 37.7...|     latitude|  37.757015976704615|\n",
      "|{latitude -> 37.7...|    longitude|  -122.4357441652753|\n",
      "|{latitude -> 37.7...|human_address|{\"address\": \"\", \"...|\n",
      "|{latitude -> 37.7...|     latitude|  37.757015976704615|\n",
      "|{latitude -> 37.7...|    longitude|  -122.4357441652753|\n",
      "|{latitude -> 37.7...|human_address|{\"address\": \"\", \"...|\n",
      "|{latitude -> 37.7...|     latitude|  37.757015976704615|\n",
      "|{latitude -> 37.7...|    longitude|  -122.4357441652753|\n",
      "|{latitude -> 37.7...|human_address|{\"address\": \"\", \"...|\n",
      "|{latitude -> 37.7...|     latitude|  37.757015976704615|\n",
      "|{latitude -> 37.7...|    longitude|  -122.4357441652753|\n",
      "|{latitude -> 37.7...|human_address|{\"address\": \"\", \"...|\n",
      "|{latitude -> 37.7...|     latitude|  37.757015976704615|\n",
      "|{latitude -> 37.7...|    longitude|  -122.4357441652753|\n",
      "|{latitude -> 37.7...|human_address|{\"address\": \"\", \"...|\n",
      "|{latitude -> 37.7...|     latitude|  37.757015976704615|\n",
      "|{latitude -> 37.7...|    longitude|  -122.4357441652753|\n",
      "|{latitude -> 37.7...|human_address|{\"address\": \"\", \"...|\n",
      "|{latitude -> 37.7...|     latitude|  37.744621410364324|\n",
      "|{latitude -> 37.7...|    longitude|   -122.410414604422|\n",
      "+--------------------+-------------+--------------------+\n",
      "only showing top 20 rows\n",
      "\n"
     ]
    },
    {
     "name": "stderr",
     "output_type": "stream",
     "text": [
      "\r",
      "                                                                                \r"
     ]
    }
   ],
   "source": [
    "from pyspark.sql.functions import explode\n",
    "df.select(df.client_location,explode(df.client_location)).show()"
   ]
  }
 ],
 "metadata": {
  "kernelspec": {
   "display_name": "conda-myenv-kernel",
   "language": "python",
   "name": "conda-myenv-kernel"
  },
  "language_info": {
   "codemirror_mode": {
    "name": "ipython",
    "version": 3
   },
   "file_extension": ".py",
   "mimetype": "text/x-python",
   "name": "python",
   "nbconvert_exporter": "python",
   "pygments_lexer": "ipython3",
   "version": "3.10.9"
  }
 },
 "nbformat": 4,
 "nbformat_minor": 5
}
