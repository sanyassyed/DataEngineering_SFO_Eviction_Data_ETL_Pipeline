{
 "cells": [
  {
   "cell_type": "markdown",
   "id": "e39c2264",
   "metadata": {},
   "source": [
    "# First PYSpark DataFrame Creation"
   ]
  },
  {
   "cell_type": "markdown",
   "id": "b03998ad",
   "metadata": {},
   "source": [
    "In this file we \n",
    "* Create a SparkSession object\n",
    "* Download a csv file from the web\n",
    "* Read the csv as a PySpark DataFrame\n",
    "* View the top 20 rows of the PySpark DataFrame\n",
    "* Write the PySpark DF as a parquet file to a folder zones (with default partition 1)"
   ]
  },
  {
   "cell_type": "code",
   "execution_count": 1,
   "id": "e43ad1f6",
   "metadata": {},
   "outputs": [],
   "source": [
    "#NOTE: \n",
    "# Run the prefect_gcp_block.py and register the block\n",
    "# prefect block register --file prefect_gcp_block.py\n",
    "\n",
    "# spark related packages\n",
    "import pyspark\n",
    "from pyspark.sql import SparkSession"
   ]
  },
  {
   "cell_type": "code",
   "execution_count": 2,
   "id": "fe54d771",
   "metadata": {},
   "outputs": [],
   "source": [
    "#other utility packages\n",
    "from decouple import config, AutoConfig\n",
    "import os\n",
    "import requests\n",
    "from datetime import datetime, timedelta\n",
    "from pathlib import Path\n",
    "from datetime import datetime, timedelta"
   ]
  },
  {
   "cell_type": "code",
   "execution_count": null,
   "id": "bc098d19",
   "metadata": {},
   "outputs": [],
   "source": [
    "# prefect related packages\n",
    "from prefect import flow, task\n",
    "from prefect_gcp.cloud_storage import GcsBucket\n"
   ]
  },
  {
   "cell_type": "code",
   "execution_count": null,
   "id": "2f2b63c2",
   "metadata": {},
   "outputs": [],
   "source": [
    "# Credentials\n",
    "config = AutoConfig(search_path='.env')\n",
    "GCS_BUCKET_BLOCK = config(\"GCS_BUCKET_BLOCK\")\n"
   ]
  },
  {
   "cell_type": "code",
   "execution_count": 1,
   "id": "659570ef",
   "metadata": {},
   "outputs": [],
   "source": [
    "def download_data(dataset_url:str, data_folder:str, filename_csv:str): -> Path\n",
    "    output_dir = Path(data_folder)\n",
    "    output_dir.mkdir(parents=True, exist_ok=True)\n",
    "    filename = f'{datetime.strptime(datetime.today(), \"%Y-%m-%d\")}_{filename_csv}'\n",
    "    filepath_local = Path(f'{data_folder}/{filename}')\n",
    "    # download the csv\n",
    "    os.system(f\"wget {dataset_url} -O {filepath_local}\")\n",
    "    return filepath_local"
   ]
  },
  {
   "cell_type": "code",
   "execution_count": null,
   "id": "2cb4a2f3",
   "metadata": {},
   "outputs": [],
   "source": [
    "@task(retries=3)\n",
    "def write_to_gcs(path:Path) -> None:\n",
    "    \"\"\"Loads the dataset into GCS\"\"\"\n",
    "    gcs_block = GcsBucket.load(GCS_BUCKET_BLOCK)\n",
    "    gcs_block.upload_from_path(from_path=path, to_path=Path(path).as_posix()) # To handle the backslash that is being changed when writing to GCS\n",
    "    return "
   ]
  },
  {
   "cell_type": "code",
   "execution_count": null,
   "id": "f4116efc",
   "metadata": {},
   "outputs": [],
   "source": [
    "def read_data(data_path:Path)->None:\n",
    "    # Create PySpark SparkSession\n",
    "    spark = SparkSession.builder.master(\"local[*]\").appName('test').getOrCreate()\n",
    "    \n",
    "    "
   ]
  },
  {
   "cell_type": "code",
   "execution_count": 11,
   "id": "68854d50",
   "metadata": {},
   "outputs": [
    {
     "data": {
      "text/plain": [
       "'/home/sanyashireen/sf_eviction'"
      ]
     },
     "execution_count": 11,
     "metadata": {},
     "output_type": "execute_result"
    }
   ],
   "source": [
    "os.chdir('/home/sanyashireen/sf_eviction')\n",
    "os.getcwd()"
   ]
  },
  {
   "cell_type": "code",
   "execution_count": 29,
   "id": "967aa97b",
   "metadata": {},
   "outputs": [],
   "source": [
    "filename = '5cei-gny5'\n",
    "data_url = f\"https://data.sfgov.org/resource/{filename}.csv\"\n",
    "filename_csv ='eviction.csv'\n",
    "data_dir = Path(\"data_eviction\")\n",
    "\n",
    "\n",
    "download_data(data_url, data_dir, filename_csv)"
   ]
  },
  {
   "cell_type": "markdown",
   "id": "16e3596d",
   "metadata": {},
   "source": [
    "## Downloading csv data"
   ]
  },
  {
   "cell_type": "code",
   "execution_count": 23,
   "id": "eb26486e",
   "metadata": {},
   "outputs": [
    {
     "data": {
      "text/plain": [
       "'/home/sanyashireen/sf_eviction/data/eviction_data.csv'"
      ]
     },
     "execution_count": 23,
     "metadata": {},
     "output_type": "execute_result"
    }
   ],
   "source": [
    "data_loc_csv"
   ]
  },
  {
   "cell_type": "code",
   "execution_count": 28,
   "id": "9cde356f",
   "metadata": {},
   "outputs": [
    {
     "name": "stdout",
     "output_type": "stream",
     "text": [
      "--2023-03-08 19:02:41--  https://data.sfgov.org/resource/5cei-gny5.csv\n",
      "Resolving data.sfgov.org (data.sfgov.org)... 52.206.140.199, 52.206.140.205, 52.206.68.26\n",
      "Connecting to data.sfgov.org (data.sfgov.org)|52.206.140.199|:443... connected.\n",
      "HTTP request sent, awaiting response... 200 OK\n",
      "Length: unspecified [text/csv]\n",
      "Saving to: ‘data_dir/5cei-gny5.csv’\n",
      "\n",
      "5cei-gny5.csv           [ <=>                ] 360.33K  --.-KB/s    in 0.09s   \n",
      "\n",
      "2023-03-08 19:02:43 (4.08 MB/s) - ‘data_dir/5cei-gny5.csv’ saved [368982]\n",
      "\n"
     ]
    }
   ],
   "source": [
    "!wget https://data.sfgov.org/resource/5cei-gny5.csv -P '/home/sanyashireen/sf_eviction/data/'"
   ]
  },
  {
   "cell_type": "code",
   "execution_count": 32,
   "id": "7489eb3b",
   "metadata": {},
   "outputs": [
    {
     "name": "stdout",
     "output_type": "stream",
     "text": [
      "2195 data/5cei-gny5.csv\r\n"
     ]
    }
   ],
   "source": [
    "!wc -l data/5cei-gny5.csv"
   ]
  },
  {
   "cell_type": "code",
   "execution_count": 33,
   "id": "8334f1e8",
   "metadata": {},
   "outputs": [],
   "source": [
    "# Reading the CSV as a PySpark DF\n",
    "df_csv = spark.read.option(\"header\", \"true\").csv(f'{data_loc_csv}')"
   ]
  },
  {
   "cell_type": "code",
   "execution_count": 35,
   "id": "dc73e2d2",
   "metadata": {},
   "outputs": [
    {
     "name": "stdout",
     "output_type": "stream",
     "text": [
      "+-----------+--------------------+-------------+-----+-----+--------------------+-----------+------+--------+-----------+-----------------------+-------------+--------------------+-------------+----------+-------------------+-----------------+--------------------+----------------+------------------+-----------+-------------+----------------+-----------+-------------------+----------------+-------------------+--------------------+---------------+--------------------+---------------------------+---------------------------+---------------------------+---------------------------+---------------------------+---------------------------+---------------------------+---------------------------+---------------------------+---------------------------+---------------------------+---------------------------+---------------------------+---------------------------+---------------------------+\n",
      "|eviction_id|             address|         city|state|  zip|           file_date|non_payment|breach|nuisance|illegal_use|failure_to_sign_renewal|access_denial|unapproved_subtenant|owner_move_in|demolition|capital_improvement|substantial_rehab|ellis_act_withdrawal|condo_conversion|roommate_same_unit|other_cause|late_payments|lead_remediation|development|good_samaritan_ends|constraints_date|supervisor_district|        neighborhood|client_location|               shape|:@computed_region_6qbp_sg9q|:@computed_region_qgnn_b9vv|:@computed_region_26cr_cadq|:@computed_region_ajp5_b2md|:@computed_region_fyvs_ahh9|:@computed_region_p5aj_wyqh|:@computed_region_rxqg_mtj9|:@computed_region_yftq_j783|:@computed_region_bh8s_q3mv|:@computed_region_9jxd_iqea|:@computed_region_6ezc_tdp2|:@computed_region_6pnf_4xz7|:@computed_region_h4ep_8xdi|:@computed_region_pigm_ib2e|:@computed_region_jwn9_ihcz|\n",
      "+-----------+--------------------+-------------+-----+-----+--------------------+-----------+------+--------+-----------+-----------------------+-------------+--------------------+-------------+----------+-------------------+-----------------+--------------------+----------------+------------------+-----------+-------------+----------------+-----------+-------------------+----------------+-------------------+--------------------+---------------+--------------------+---------------------------+---------------------------+---------------------------+---------------------------+---------------------------+---------------------------+---------------------------+---------------------------+---------------------------+---------------------------+---------------------------+---------------------------+---------------------------+---------------------------+---------------------------+\n",
      "|    M222138|400 Block Of Eddy...|San Francisco|   CA|94102|2022-12-12T00:00:...|      false| false|    true|      false|                  false|        false|               false|        false|     false|              false|            false|               false|           false|             false|      false|        false|           false|      false|              false|            null|                  5|          Tenderloin|           null|POINT (-122.41508...|                       null|                       null|                       null|                       null|                       null|                       null|                       null|                       null|                       null|                       null|                       null|                       null|                       null|                       null|                         20|\n",
      "|    M211838|900 Block Of Bush...|San Francisco|   CA|94109|2021-12-06T00:00:...|      false| false|    true|      false|                  false|        false|               false|        false|     false|              false|            false|               false|           false|             false|      false|        false|           false|      false|              false|            null|                  3|            Nob Hill|           null|POINT (-122.41292...|                       null|                       null|                       null|                       null|                       null|                       null|                       null|                       null|                       null|                       null|                       null|                       null|                       null|                       null|                         50|\n",
      "|    M222033|1000 Block Of Pin...|San Francisco|   CA|94109|2022-11-14T00:00:...|      false|  true|   false|      false|                  false|        false|               false|        false|     false|              false|            false|               false|           false|             false|      false|        false|           false|      false|              false|            null|                  3|            Nob Hill|           null|POINT (-122.4131 ...|                       null|                       null|                       null|                       null|                       null|                       null|                       null|                       null|                       null|                       null|                       null|                       null|                       null|                       null|                         16|\n",
      "|    M221840|100 Block Of Cain...|San Francisco|   CA|94117|2022-10-18T00:00:...|      false| false|   false|      false|                  false|        false|               false|        false|     false|               true|            false|               false|           false|             false|      false|        false|           false|      false|              false|            null|                 11|Oceanview/Merced/...|           null|POINT (-122.45181...|                       null|                       null|                       null|                       null|                       null|                       null|                       null|                       null|                       null|                       null|                       null|                       null|                       null|                       null|                         81|\n",
      "|    M120930|1900 Block Of Jef...|San Francisco|   CA|94133|2012-06-21T00:00:...|      false|  true|   false|      false|                  false|        false|               false|        false|     false|              false|            false|               false|           false|             false|      false|        false|           false|      false|              false|            null|                  2|              Marina|           null|POINT (-122.44464...|                       null|                       null|                       null|                       null|                       null|                       null|                       null|                       null|                       null|                       null|                       null|                       null|                       null|                       null|                         17|\n",
      "+-----------+--------------------+-------------+-----+-----+--------------------+-----------+------+--------+-----------+-----------------------+-------------+--------------------+-------------+----------+-------------------+-----------------+--------------------+----------------+------------------+-----------+-------------+----------------+-----------+-------------------+----------------+-------------------+--------------------+---------------+--------------------+---------------------------+---------------------------+---------------------------+---------------------------+---------------------------+---------------------------+---------------------------+---------------------------+---------------------------+---------------------------+---------------------------+---------------------------+---------------------------+---------------------------+---------------------------+\n",
      "only showing top 5 rows\n",
      "\n"
     ]
    }
   ],
   "source": [
    "df_csv.show(5)"
   ]
  },
  {
   "cell_type": "markdown",
   "id": "87272db7",
   "metadata": {},
   "source": [
    "## Downloading json data"
   ]
  },
  {
   "cell_type": "code",
   "execution_count": 31,
   "id": "db7c1783",
   "metadata": {},
   "outputs": [
    {
     "name": "stdout",
     "output_type": "stream",
     "text": [
      "--2023-03-08 19:10:18--  https://data.sfgov.org/resource/5cei-gny5.json\n",
      "Resolving data.sfgov.org (data.sfgov.org)... 52.206.140.205, 52.206.68.26, 52.206.140.199\n",
      "Connecting to data.sfgov.org (data.sfgov.org)|52.206.140.205|:443... connected.\n",
      "HTTP request sent, awaiting response... 200 OK\n",
      "Length: unspecified [application/json]\n",
      "Saving to: ‘/home/sanyashireen/sf_eviction/data/5cei-gny5.json’\n",
      "\n",
      "5cei-gny5.json          [ <=>                ]   1.02M  6.79MB/s    in 0.2s    \n",
      "\n",
      "2023-03-08 19:10:19 (6.79 MB/s) - ‘/home/sanyashireen/sf_eviction/data/5cei-gny5.json’ saved [1069481]\n",
      "\n"
     ]
    }
   ],
   "source": [
    "# Download the file from the web into the data folder\n",
    "!wget https://data.sfgov.org/resource/5cei-gny5.json -P '/home/sanyashireen/sf_eviction/data/'"
   ]
  },
  {
   "cell_type": "code",
   "execution_count": 17,
   "id": "42c5bf37",
   "metadata": {},
   "outputs": [],
   "source": [
    "# Read the csv as a PySpark DF object\n",
    "df = spark.read.json(data_loc_json, multiLine=True)"
   ]
  },
  {
   "cell_type": "code",
   "execution_count": 20,
   "id": "e4488976",
   "metadata": {},
   "outputs": [
    {
     "data": {
      "text/plain": [
       "pyspark.sql.dataframe.DataFrame"
      ]
     },
     "execution_count": 20,
     "metadata": {},
     "output_type": "execute_result"
    }
   ],
   "source": [
    "type(df)"
   ]
  },
  {
   "cell_type": "code",
   "execution_count": 18,
   "id": "14222270",
   "metadata": {},
   "outputs": [
    {
     "name": "stdout",
     "output_type": "stream",
     "text": [
      "root\n",
      " |-- :@computed_region_26cr_cadq: string (nullable = true)\n",
      " |-- :@computed_region_6ezc_tdp2: string (nullable = true)\n",
      " |-- :@computed_region_6pnf_4xz7: string (nullable = true)\n",
      " |-- :@computed_region_6qbp_sg9q: string (nullable = true)\n",
      " |-- :@computed_region_9jxd_iqea: string (nullable = true)\n",
      " |-- :@computed_region_ajp5_b2md: string (nullable = true)\n",
      " |-- :@computed_region_bh8s_q3mv: string (nullable = true)\n",
      " |-- :@computed_region_fyvs_ahh9: string (nullable = true)\n",
      " |-- :@computed_region_h4ep_8xdi: string (nullable = true)\n",
      " |-- :@computed_region_jwn9_ihcz: string (nullable = true)\n",
      " |-- :@computed_region_p5aj_wyqh: string (nullable = true)\n",
      " |-- :@computed_region_pigm_ib2e: string (nullable = true)\n",
      " |-- :@computed_region_qgnn_b9vv: string (nullable = true)\n",
      " |-- :@computed_region_rxqg_mtj9: string (nullable = true)\n",
      " |-- :@computed_region_yftq_j783: string (nullable = true)\n",
      " |-- access_denial: boolean (nullable = true)\n",
      " |-- address: string (nullable = true)\n",
      " |-- breach: boolean (nullable = true)\n",
      " |-- capital_improvement: boolean (nullable = true)\n",
      " |-- city: string (nullable = true)\n",
      " |-- client_location: struct (nullable = true)\n",
      " |    |-- human_address: string (nullable = true)\n",
      " |    |-- latitude: string (nullable = true)\n",
      " |    |-- longitude: string (nullable = true)\n",
      " |-- condo_conversion: boolean (nullable = true)\n",
      " |-- constraints_date: string (nullable = true)\n",
      " |-- demolition: boolean (nullable = true)\n",
      " |-- development: boolean (nullable = true)\n",
      " |-- ellis_act_withdrawal: boolean (nullable = true)\n",
      " |-- eviction_id: string (nullable = true)\n",
      " |-- failure_to_sign_renewal: boolean (nullable = true)\n",
      " |-- file_date: string (nullable = true)\n",
      " |-- good_samaritan_ends: boolean (nullable = true)\n",
      " |-- illegal_use: boolean (nullable = true)\n",
      " |-- late_payments: boolean (nullable = true)\n",
      " |-- lead_remediation: boolean (nullable = true)\n",
      " |-- neighborhood: string (nullable = true)\n",
      " |-- non_payment: boolean (nullable = true)\n",
      " |-- nuisance: boolean (nullable = true)\n",
      " |-- other_cause: boolean (nullable = true)\n",
      " |-- owner_move_in: boolean (nullable = true)\n",
      " |-- roommate_same_unit: boolean (nullable = true)\n",
      " |-- shape: struct (nullable = true)\n",
      " |    |-- coordinates: array (nullable = true)\n",
      " |    |    |-- element: double (containsNull = true)\n",
      " |    |-- type: string (nullable = true)\n",
      " |-- state: string (nullable = true)\n",
      " |-- substantial_rehab: boolean (nullable = true)\n",
      " |-- supervisor_district: string (nullable = true)\n",
      " |-- unapproved_subtenant: boolean (nullable = true)\n",
      " |-- zip: string (nullable = true)\n",
      "\n"
     ]
    }
   ],
   "source": [
    "df.printSchema()"
   ]
  },
  {
   "cell_type": "code",
   "execution_count": 19,
   "id": "5156b3f4",
   "metadata": {},
   "outputs": [
    {
     "name": "stdout",
     "output_type": "stream",
     "text": [
      "23/03/08 18:51:12 WARN package: Truncated the string representation of a plan since it was too large. This behavior can be adjusted by setting 'spark.sql.debug.maxToStringFields'.\n",
      "+---------------------------+---------------------------+---------------------------+---------------------------+---------------------------+---------------------------+---------------------------+---------------------------+---------------------------+---------------------------+---------------------------+---------------------------+---------------------------+---------------------------+---------------------------+-------------+--------------------+------+-------------------+-------------+---------------+----------------+----------------+----------+-----------+--------------------+-----------+-----------------------+--------------------+-------------------+-----------+-------------+----------------+--------------------+-----------+--------+-----------+-------------+------------------+--------------------+-----+-----------------+-------------------+--------------------+-----+\n",
      "|:@computed_region_26cr_cadq|:@computed_region_6ezc_tdp2|:@computed_region_6pnf_4xz7|:@computed_region_6qbp_sg9q|:@computed_region_9jxd_iqea|:@computed_region_ajp5_b2md|:@computed_region_bh8s_q3mv|:@computed_region_fyvs_ahh9|:@computed_region_h4ep_8xdi|:@computed_region_jwn9_ihcz|:@computed_region_p5aj_wyqh|:@computed_region_pigm_ib2e|:@computed_region_qgnn_b9vv|:@computed_region_rxqg_mtj9|:@computed_region_yftq_j783|access_denial|             address|breach|capital_improvement|         city|client_location|condo_conversion|constraints_date|demolition|development|ellis_act_withdrawal|eviction_id|failure_to_sign_renewal|           file_date|good_samaritan_ends|illegal_use|late_payments|lead_remediation|        neighborhood|non_payment|nuisance|other_cause|owner_move_in|roommate_same_unit|               shape|state|substantial_rehab|supervisor_district|unapproved_subtenant|  zip|\n",
      "+---------------------------+---------------------------+---------------------------+---------------------------+---------------------------+---------------------------+---------------------------+---------------------------+---------------------------+---------------------------+---------------------------+---------------------------+---------------------------+---------------------------+---------------------------+-------------+--------------------+------+-------------------+-------------+---------------+----------------+----------------+----------+-----------+--------------------+-----------+-----------------------+--------------------+-------------------+-----------+-------------+----------------+--------------------+-----------+--------+-----------+-------------+------------------+--------------------+-----+-----------------+-------------------+--------------------+-----+\n",
      "|                       null|                       null|                       null|                       null|                       null|                       null|                       null|                       null|                       null|                         20|                       null|                       null|                       null|                       null|                       null|        false|400 Block Of Eddy...| false|              false|San Francisco|           null|           false|            null|     false|      false|               false|    M222138|                  false|2022-12-12T00:00:...|              false|      false|        false|           false|          Tenderloin|      false|    true|      false|        false|             false|{[-122.41508, 37....|   CA|            false|                  5|               false|94102|\n",
      "|                       null|                       null|                       null|                       null|                       null|                       null|                       null|                       null|                       null|                         50|                       null|                       null|                       null|                       null|                       null|        false|900 Block Of Bush...| false|              false|San Francisco|           null|           false|            null|     false|      false|               false|    M211838|                  false|2021-12-06T00:00:...|              false|      false|        false|           false|            Nob Hill|      false|    true|      false|        false|             false|{[-122.41292, 37....|   CA|            false|                  3|               false|94109|\n",
      "|                       null|                       null|                       null|                       null|                       null|                       null|                       null|                       null|                       null|                         16|                       null|                       null|                       null|                       null|                       null|        false|1000 Block Of Pin...|  true|              false|San Francisco|           null|           false|            null|     false|      false|               false|    M222033|                  false|2022-11-14T00:00:...|              false|      false|        false|           false|            Nob Hill|      false|   false|      false|        false|             false|{[-122.4131, 37.7...|   CA|            false|                  3|               false|94109|\n",
      "|                       null|                       null|                       null|                       null|                       null|                       null|                       null|                       null|                       null|                         81|                       null|                       null|                       null|                       null|                       null|        false|100 Block Of Cain...| false|               true|San Francisco|           null|           false|            null|     false|      false|               false|    M221840|                  false|2022-10-18T00:00:...|              false|      false|        false|           false|Oceanview/Merced/...|      false|   false|      false|        false|             false|{[-122.45181, 37....|   CA|            false|                 11|               false|94117|\n",
      "|                       null|                       null|                       null|                       null|                       null|                       null|                       null|                       null|                       null|                         17|                       null|                       null|                       null|                       null|                       null|        false|1900 Block Of Jef...|  true|              false|San Francisco|           null|           false|            null|     false|      false|               false|    M120930|                  false|2012-06-21T00:00:...|              false|      false|        false|           false|              Marina|      false|   false|      false|        false|             false|{[-122.44464, 37....|   CA|            false|                  2|               false|94133|\n",
      "+---------------------------+---------------------------+---------------------------+---------------------------+---------------------------+---------------------------+---------------------------+---------------------------+---------------------------+---------------------------+---------------------------+---------------------------+---------------------------+---------------------------+---------------------------+-------------+--------------------+------+-------------------+-------------+---------------+----------------+----------------+----------+-----------+--------------------+-----------+-----------------------+--------------------+-------------------+-----------+-------------+----------------+--------------------+-----------+--------+-----------+-------------+------------------+--------------------+-----+-----------------+-------------------+--------------------+-----+\n",
      "only showing top 5 rows\n",
      "\n"
     ]
    }
   ],
   "source": [
    "df.show(5)"
   ]
  },
  {
   "cell_type": "code",
   "execution_count": 7,
   "id": "90f6e8bb",
   "metadata": {},
   "outputs": [
    {
     "name": "stdout",
     "output_type": "stream",
     "text": [
      "+----------+-------------+--------------------+------------+\n",
      "|LocationID|      Borough|                Zone|service_zone|\n",
      "+----------+-------------+--------------------+------------+\n",
      "|         1|          EWR|      Newark Airport|         EWR|\n",
      "|         2|       Queens|         Jamaica Bay|   Boro Zone|\n",
      "|         3|        Bronx|Allerton/Pelham G...|   Boro Zone|\n",
      "|         4|    Manhattan|       Alphabet City| Yellow Zone|\n",
      "|         5|Staten Island|       Arden Heights|   Boro Zone|\n",
      "|         6|Staten Island|Arrochar/Fort Wad...|   Boro Zone|\n",
      "|         7|       Queens|             Astoria|   Boro Zone|\n",
      "|         8|       Queens|        Astoria Park|   Boro Zone|\n",
      "|         9|       Queens|          Auburndale|   Boro Zone|\n",
      "|        10|       Queens|        Baisley Park|   Boro Zone|\n",
      "|        11|     Brooklyn|          Bath Beach|   Boro Zone|\n",
      "|        12|    Manhattan|        Battery Park| Yellow Zone|\n",
      "|        13|    Manhattan|   Battery Park City| Yellow Zone|\n",
      "|        14|     Brooklyn|           Bay Ridge|   Boro Zone|\n",
      "|        15|       Queens|Bay Terrace/Fort ...|   Boro Zone|\n",
      "|        16|       Queens|             Bayside|   Boro Zone|\n",
      "|        17|     Brooklyn|             Bedford|   Boro Zone|\n",
      "|        18|        Bronx|        Bedford Park|   Boro Zone|\n",
      "|        19|       Queens|           Bellerose|   Boro Zone|\n",
      "|        20|        Bronx|             Belmont|   Boro Zone|\n",
      "+----------+-------------+--------------------+------------+\n",
      "only showing top 20 rows\n",
      "\n"
     ]
    }
   ],
   "source": [
    "# View the top 20 rows of the PySpark DF\n",
    "df.show()"
   ]
  },
  {
   "cell_type": "code",
   "execution_count": 8,
   "id": "95308cc3",
   "metadata": {},
   "outputs": [
    {
     "name": "stderr",
     "output_type": "stream",
     "text": [
      "                                                                                \r"
     ]
    }
   ],
   "source": [
    "# Use Spark and write the PySpark DF to the folder 'zones' as a parquet file where it will be written as partitons\n",
    "# if number of partitions is not defined the default paritions in 1\n",
    "df.write.parquet('zones')"
   ]
  },
  {
   "cell_type": "code",
   "execution_count": 11,
   "id": "ede283a2",
   "metadata": {},
   "outputs": [
    {
     "name": "stdout",
     "output_type": "stream",
     "text": [
      "total 28K\r\n",
      "-rw-rw-r-- 1 sanyashireen sanyashireen 6.8K Feb 22 01:52 Untitled.ipynb\r\n",
      "-rw-rw-r-- 1 sanyashireen sanyashireen  13K Aug 17  2016 taxi+_zone_lookup.csv\r\n",
      "drwxr-xr-x 2 sanyashireen sanyashireen 4.0K Feb 22 01:54 zones\r\n"
     ]
    }
   ],
   "source": [
    "# We can see the folder zones was created to write the parquet file into\n",
    "!ls -lh"
   ]
  },
  {
   "cell_type": "markdown",
   "id": "89168464",
   "metadata": {},
   "source": [
    "## Downloading data using the API"
   ]
  },
  {
   "cell_type": "code",
   "execution_count": null,
   "id": "11de4cb7",
   "metadata": {},
   "outputs": [],
   "source": []
  },
  {
   "cell_type": "code",
   "execution_count": 2,
   "id": "30c39362",
   "metadata": {},
   "outputs": [],
   "source": [
    "config = AutoConfig(search_path='.env') # <-- .env file located next to manage.py\n",
    "API_TOKEN = config(\"API_TOKEN\")\n",
    "API_KEY_ID = config(\"API_KEY_ID\")\n",
    "API_KEY_SECRET = config(\"API_KEY_SECRET\")"
   ]
  },
  {
   "cell_type": "code",
   "execution_count": 6,
   "id": "bf81b4c9",
   "metadata": {},
   "outputs": [],
   "source": [
    "def parse_metadata(header):\n",
    "    \"\"\"Parses metadata from API response.\"\"\"\n",
    "    try:\n",
    "        metadata = {\n",
    "            'api-call-date': header['Date'],\n",
    "            'content-type': header['Content-Type'],\n",
    "            'source-last-modified': header['X-SODA2-Truth-Last-Modified'],\n",
    "            'fields': header['X-SODA2-Fields'],\n",
    "            'types': header['X-SODA2-Types']\n",
    "        }\n",
    "    except KeyError:\n",
    "        metadata = {'KeyError': 'Metadata missing from header, see error log.'}\n",
    "    return metadata        "
   ]
  },
  {
   "cell_type": "code",
   "execution_count": 17,
   "id": "1c795ba7",
   "metadata": {},
   "outputs": [],
   "source": [
    "# download the json by supplying the api token in the header\n",
    "def get_json(endpoint, headers):\n",
    "    \"\"\"Calls API, requests all created & updated records >/= 180 days.\"\"\"\n",
    "    headers['Accept'] = 'application/json' # csv?\n",
    "    pull_date = (datetime.now() - timedelta(days=180)).strftime(\"%Y-%m-%dT%H:%M:%S\") # year, month, day, hour, minute, seconds, microseconds\n",
    "    combined = []\n",
    "    offset, counter = 0, 1\n",
    "    error = False\n",
    "    '''\n",
    "    while True:\n",
    "        params = f\"\"\"$query=SELECT:*,* WHERE :created_at >= '{pull_date}' OR :updated_at >= '{pull_date}' \n",
    "                 ORDER BY :id LIMIT 177600\"\"\"\n",
    "        response = requests.get(endpoint, headers=headers, params=params)\n",
    "        if response.status_code != 200:\n",
    "            error = f'api_request-endpoint|{endpoint}|params|{params}|'\n",
    "            break\n",
    "        captured = response.json()\n",
    "        if len(captured) == 0:\n",
    "            break\n",
    "        combined.extend(captured)\n",
    "        offset = 10000 * counter\n",
    "        counter += 1\n",
    "    if error:\n",
    "        log_exit(filename=error, api_error=response.status_code)\n",
    "        return -1, -1\n",
    "    '''\n",
    "    params = f\"\"\"$query=SELECT:*,* WHERE :created_at >= '{pull_date}' OR :updated_at >= '{pull_date}' ORDER BY :id LIMIT 177600\"\"\"\n",
    "    # response has two parts .json() and .headers https://www.w3schools.com/python/ref_requests_response.asp\n",
    "    response = requests.get(endpoint, headers=headers, params=params)\n",
    "    captured = response.json()\n",
    "    combined.extend(captured)\n",
    "\n",
    "    metadata = parse_metadata(response.headers)\n",
    "    print('get_json complete')\n",
    "    return metadata, combined"
   ]
  },
  {
   "cell_type": "code",
   "execution_count": 18,
   "id": "9f4885bf",
   "metadata": {},
   "outputs": [
    {
     "name": "stdout",
     "output_type": "stream",
     "text": [
      "get_json complete\n"
     ]
    }
   ],
   "source": [
    "SODA_url = 'https://data.sfgov.org/resource/5cei-gny5'\n",
    "SODA_headers = {\n",
    "    'keyId': API_KEY_ID,\n",
    "    'keySecret': API_KEY_SECRET\n",
    "}\n",
    "head, content = get_json(SODA_url, SODA_headers)"
   ]
  },
  {
   "cell_type": "code",
   "execution_count": 9,
   "id": "428610d4",
   "metadata": {},
   "outputs": [
    {
     "data": {
      "text/plain": [
       "dict"
      ]
     },
     "execution_count": 9,
     "metadata": {},
     "output_type": "execute_result"
    }
   ],
   "source": [
    "type(head)"
   ]
  },
  {
   "cell_type": "code",
   "execution_count": 15,
   "id": "9c923765",
   "metadata": {},
   "outputs": [
    {
     "data": {
      "text/plain": [
       "list"
      ]
     },
     "execution_count": 15,
     "metadata": {},
     "output_type": "execute_result"
    }
   ],
   "source": [
    "type(content)"
   ]
  },
  {
   "cell_type": "code",
   "execution_count": 19,
   "id": "ffb5f783",
   "metadata": {},
   "outputs": [
    {
     "data": {
      "text/plain": [
       "177578"
      ]
     },
     "execution_count": 19,
     "metadata": {},
     "output_type": "execute_result"
    }
   ],
   "source": [
    "len(content)"
   ]
  },
  {
   "cell_type": "code",
   "execution_count": 11,
   "id": "68ed6d05",
   "metadata": {},
   "outputs": [
    {
     "name": "stdout",
     "output_type": "stream",
     "text": [
      "{'api-call-date': 'Thu, 09 Mar 2023 14:39:22 GMT', 'content-type': 'application/json;charset=utf-8', 'source-last-modified': 'Tue, 28 Feb 2023 14:40:51 GMT', 'fields': '[\":id\",\":created_at\",\":updated_at\",\":version\",\":@computed_region_6qbp_sg9q\",\":@computed_region_qgnn_b9vv\",\":@computed_region_26cr_cadq\",\":@computed_region_ajp5_b2md\",\":@computed_region_fyvs_ahh9\",\":@computed_region_p5aj_wyqh\",\":@computed_region_rxqg_mtj9\",\":@computed_region_yftq_j783\",\":@computed_region_bh8s_q3mv\",\":@computed_region_9jxd_iqea\",\":@computed_region_6ezc_tdp2\",\":@computed_region_6pnf_4xz7\",\":@computed_region_h4ep_8xdi\",\":@computed_region_pigm_ib2e\",\":@computed_region_jwn9_ihcz\",\"eviction_id\",\"address\",\"city\",\"state\",\"zip\",\"file_date\",\"non_payment\",\"breach\",\"nuisance\",\"illegal_use\",\"failure_to_sign_renewal\",\"access_denial\",\"unapproved_subtenant\",\"owner_move_in\",\"demolition\",\"capital_improvement\",\"substantial_rehab\",\"ellis_act_withdrawal\",\"condo_conversion\",\"roommate_same_unit\",\"other_cause\",\"late_payments\",\"lead_remediation\",\"development\",\"good_samaritan_ends\",\"constraints_date\",\"supervisor_district\",\"neighborhood\",\"client_location\",\"shape\"]', 'types': '[\"row_identifier\",\"fixed_timestamp\",\"fixed_timestamp\",\"row_version\",\"number\",\"number\",\"number\",\"number\",\"number\",\"number\",\"number\",\"number\",\"number\",\"number\",\"number\",\"number\",\"number\",\"number\",\"number\",\"text\",\"text\",\"text\",\"text\",\"text\",\"floating_timestamp\",\"boolean\",\"boolean\",\"boolean\",\"boolean\",\"boolean\",\"boolean\",\"boolean\",\"boolean\",\"boolean\",\"boolean\",\"boolean\",\"boolean\",\"boolean\",\"boolean\",\"boolean\",\"boolean\",\"boolean\",\"boolean\",\"boolean\",\"floating_timestamp\",\"number\",\"text\",\"location\",\"point\"]'}\n"
     ]
    }
   ],
   "source": [
    "print(head)"
   ]
  },
  {
   "cell_type": "code",
   "execution_count": 4,
   "id": "f8648a52",
   "metadata": {},
   "outputs": [],
   "source": [
    "from datetime import datetime"
   ]
  },
  {
   "cell_type": "code",
   "execution_count": 5,
   "id": "73892032",
   "metadata": {},
   "outputs": [
    {
     "data": {
      "text/plain": [
       "datetime.datetime(2023, 3, 22, 3, 20, 40, 633295)"
      ]
     },
     "execution_count": 5,
     "metadata": {},
     "output_type": "execute_result"
    }
   ],
   "source": [
    "datetime.now()"
   ]
  },
  {
   "cell_type": "code",
   "execution_count": 7,
   "id": "0e059a9a",
   "metadata": {},
   "outputs": [
    {
     "data": {
      "text/plain": [
       "2023"
      ]
     },
     "execution_count": 7,
     "metadata": {},
     "output_type": "execute_result"
    }
   ],
   "source": [
    "datetime.now().year"
   ]
  },
  {
   "cell_type": "code",
   "execution_count": 8,
   "id": "61077262",
   "metadata": {},
   "outputs": [
    {
     "data": {
      "text/plain": [
       "22"
      ]
     },
     "execution_count": 8,
     "metadata": {},
     "output_type": "execute_result"
    }
   ],
   "source": [
    "datetime.now().day"
   ]
  },
  {
   "cell_type": "code",
   "execution_count": 10,
   "id": "25f37830",
   "metadata": {},
   "outputs": [
    {
     "ename": "TypeError",
     "evalue": "strftime() missing required argument 'format' (pos 1)",
     "output_type": "error",
     "traceback": [
      "\u001b[0;31m---------------------------------------------------------------------------\u001b[0m",
      "\u001b[0;31mTypeError\u001b[0m                                 Traceback (most recent call last)",
      "Cell \u001b[0;32mIn[10], line 1\u001b[0m\n\u001b[0;32m----> 1\u001b[0m \u001b[43mdatetime\u001b[49m\u001b[38;5;241;43m.\u001b[39;49m\u001b[43mnow\u001b[49m\u001b[43m(\u001b[49m\u001b[43m)\u001b[49m\u001b[38;5;241;43m.\u001b[39;49m\u001b[43mstrftime\u001b[49m\u001b[43m(\u001b[49m\u001b[43m)\u001b[49m\n",
      "\u001b[0;31mTypeError\u001b[0m: strftime() missing required argument 'format' (pos 1)"
     ]
    }
   ],
   "source": [
    "datetime.now().strftime(\"%Y-%m-%d\")"
   ]
  }
 ],
 "metadata": {
  "kernelspec": {
   "display_name": "conda-myenv-kernel",
   "language": "python",
   "name": "conda-myenv-kernel"
  },
  "language_info": {
   "codemirror_mode": {
    "name": "ipython",
    "version": 3
   },
   "file_extension": ".py",
   "mimetype": "text/x-python",
   "name": "python",
   "nbconvert_exporter": "python",
   "pygments_lexer": "ipython3",
   "version": "3.10.9"
  }
 },
 "nbformat": 4,
 "nbformat_minor": 5
}
