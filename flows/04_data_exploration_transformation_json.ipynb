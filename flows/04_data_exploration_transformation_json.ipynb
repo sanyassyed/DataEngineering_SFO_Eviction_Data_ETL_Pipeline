{
 "cells": [
  {
   "cell_type": "markdown",
   "id": "9fef7dcc",
   "metadata": {},
   "source": [
    "## Downloading data as json"
   ]
  },
  {
   "cell_type": "code",
   "execution_count": 10,
   "id": "9290d112",
   "metadata": {},
   "outputs": [],
   "source": [
    "from decouple import config, AutoConfig\n",
    "from datetime import datetime, timedelta\n",
    "import os\n",
    "import requests\n",
    "from pathlib import Path"
   ]
  },
  {
   "cell_type": "code",
   "execution_count": 11,
   "id": "8ec929fe",
   "metadata": {},
   "outputs": [],
   "source": [
    "config = AutoConfig(search_path='.env') # <-- .env file located next to manage.py\n",
    "API_TOKEN = config(\"API_TOKEN\")\n",
    "API_KEY_ID = config(\"API_KEY_ID\")\n",
    "API_KEY_SECRET = config(\"API_KEY_SECRET\")"
   ]
  },
  {
   "cell_type": "code",
   "execution_count": 12,
   "id": "873e922f",
   "metadata": {},
   "outputs": [],
   "source": [
    "# download the json by supplying the api token in the header\n",
    "def get_json(endpoint, headers):\n",
    "    \"\"\"Calls API, requests all created & updated records >/= 180 days.\"\"\"\n",
    "    headers['Accept'] = 'application/json' # csv?\n",
    "    # pull_date = (datetime.now() - timedelta(days=180)).strftime(\"%Y-%m-%dT%H:%M:%S\") # year, month, day, hour, minute, seconds, microseconds\n",
    "    combined = []\n",
    "    offset, counter = 0, 1\n",
    "    error = False\n",
    "    params = f\"\"\"$query=SELECT:*,* ORDER BY :id LIMIT 200000\"\"\"\n",
    "    # response has two parts .json() and .headers https://www.w3schools.com/python/ref_requests_response.asp\n",
    "    response = requests.get(endpoint, headers=headers, params=params)\n",
    "    captured = response.json()\n",
    "    combined.extend(captured)\n",
    "    print('get_json complete')\n",
    "    return combined"
   ]
  },
  {
   "cell_type": "code",
   "execution_count": 13,
   "id": "4ed2747b",
   "metadata": {},
   "outputs": [
    {
     "name": "stdout",
     "output_type": "stream",
     "text": [
      "get_json complete\n"
     ]
    }
   ],
   "source": [
    "# Sodu API Credentials\n",
    "API_TOKEN = config(\"API_TOKEN\")\n",
    "API_KEY_ID = config(\"API_KEY_ID\")\n",
    "API_KEY_SECRET = config(\"API_KEY_SECRET\")\n",
    "\n",
    "source_path_json = '/home/sanyashireen/sf_eviction/data_eviction/2023/3/25/api_raw_eviction_2023-03-25.json'\n",
    "data_dir = Path('/home/sanyashireen/sf_eviction/data_eviction/2023/3/25')\n",
    "data_dir.mkdir(parents=True, exist_ok=True)\n",
    "\n",
    "SODA_url = 'https://data.sfgov.org/resource/5cei-gny5'\n",
    "SODA_headers = {\n",
    "    'keyId': API_KEY_ID,\n",
    "    'keySecret': API_KEY_SECRET\n",
    "}\n",
    "content = get_json(SODA_url, SODA_headers)\n"
   ]
  },
  {
   "cell_type": "code",
   "execution_count": 14,
   "id": "fefd3ce3",
   "metadata": {},
   "outputs": [
    {
     "data": {
      "text/plain": [
       "list"
      ]
     },
     "execution_count": 14,
     "metadata": {},
     "output_type": "execute_result"
    }
   ],
   "source": [
    "type(content)"
   ]
  },
  {
   "cell_type": "code",
   "execution_count": 15,
   "id": "f9d4dd15",
   "metadata": {},
   "outputs": [
    {
     "name": "stdout",
     "output_type": "stream",
     "text": [
      "<class 'dict'>\n"
     ]
    }
   ],
   "source": [
    "print(type(content[1]))"
   ]
  },
  {
   "cell_type": "code",
   "execution_count": 11,
   "id": "3fca4e5f",
   "metadata": {},
   "outputs": [],
   "source": [
    "# Extracting all column names as the first row might not contain all the columns\n",
    "keys = set().union(*(d.keys() for d in content))"
   ]
  },
  {
   "cell_type": "code",
   "execution_count": 36,
   "id": "87a5d2c1",
   "metadata": {},
   "outputs": [
    {
     "name": "stdout",
     "output_type": "stream",
     "text": [
      "{':@computed_region_p5aj_wyqh', ':@computed_region_bh8s_q3mv', ':@computed_region_h4ep_8xdi', 'client_location', 'neighborhood', ':@computed_region_9jxd_iqea', 'shape', 'non_payment', 'nuisance', 'breach', 'city', ':@computed_region_qgnn_b9vv', 'address', 'demolition', ':@computed_region_jwn9_ihcz', 'illegal_use', 'access_denial', 'other_cause', 'eviction_id', 'state', 'substantial_rehab', 'development', 'constraints_date', ':@computed_region_rxqg_mtj9', ':@computed_region_26cr_cadq', 'roommate_same_unit', ':@computed_region_6qbp_sg9q', ':@computed_region_pigm_ib2e', ':@computed_region_6ezc_tdp2', 'file_date', ':id', ':@computed_region_ajp5_b2md', 'ellis_act_withdrawal', 'good_samaritan_ends', 'lead_remediation', 'unapproved_subtenant', 'capital_improvement', 'condo_conversion', 'late_payments', ':created_at', ':version', ':updated_at', 'zip', 'supervisor_district', 'owner_move_in', ':@computed_region_6pnf_4xz7', ':@computed_region_fyvs_ahh9', ':@computed_region_yftq_j783', 'failure_to_sign_renewal'}\n"
     ]
    }
   ],
   "source": [
    "print(keys)"
   ]
  },
  {
   "cell_type": "code",
   "execution_count": 14,
   "id": "705d7cfd",
   "metadata": {},
   "outputs": [],
   "source": [
    "# Writing list of dict as csv to local\n",
    "# Ref: https://stackoverflow.com/questions/3086973/how-do-i-convert-this-list-of-dictionaries-to-a-csv-file\n",
    "import csv\n",
    "with open(source_path_csv, 'w', encoding='utf8', newline='') as output_file:\n",
    "    dict_writer = csv.DictWriter(output_file, keys)\n",
    "    dict_writer.writeheader()\n",
    "    dict_writer.writerows(content)"
   ]
  },
  {
   "cell_type": "code",
   "execution_count": 37,
   "id": "3dfe4d63",
   "metadata": {},
   "outputs": [],
   "source": [
    "with open(source_path_csv, 'w', encoding='utf8', newline='') as output_file:\n",
    "    fc = csv.DictWriter(output_file, \n",
    "                        fieldnames=keys,\n",
    "\n",
    "                       )\n",
    "    fc.writeheader()\n",
    "    fc.writerows(content)"
   ]
  },
  {
   "cell_type": "markdown",
   "id": "45029f8e",
   "metadata": {},
   "source": [
    "## csv is corrupting the data so trying to write the data to pyspark directly"
   ]
  },
  {
   "cell_type": "code",
   "execution_count": 18,
   "id": "a5470b49",
   "metadata": {},
   "outputs": [
    {
     "data": {
      "text/plain": [
       "354456664"
      ]
     },
     "execution_count": 18,
     "metadata": {},
     "output_type": "execute_result"
    }
   ],
   "source": [
    "import json\n",
    "source_path_json = '/home/sanyashireen/sf_eviction/data_eviction/2023/3/25/api_raw_eviction_2023-03-25.json'\n",
    "s = json.dumps(content, indent=4)\n",
    "open(source_path_json,\"w\", encoding='utf8').write(s)"
   ]
  },
  {
   "cell_type": "markdown",
   "id": "aec9f50a",
   "metadata": {},
   "source": [
    "## Testing for csv data from api"
   ]
  },
  {
   "cell_type": "code",
   "execution_count": 19,
   "id": "4eb984cc",
   "metadata": {},
   "outputs": [],
   "source": [
    "#spark.stop()"
   ]
  },
  {
   "cell_type": "code",
   "execution_count": 20,
   "id": "278329f0",
   "metadata": {},
   "outputs": [],
   "source": [
    "# Creating and testing script to clean and transform csv data using pyspark\n",
    "# spark related packages\n",
    "import pyspark\n",
    "from pyspark.sql import SparkSession\n",
    "spark = SparkSession.builder \\\n",
    "    .master(\"local[*]\") \\\n",
    "    .appName('test') \\\n",
    "    .getOrCreate()\n",
    "#spark.conf.set(\"spark.sql.debug.maxToStringFields\", 1000)"
   ]
  },
  {
   "cell_type": "code",
   "execution_count": null,
   "id": "ddf210ea",
   "metadata": {},
   "outputs": [],
   "source": [
    "from pyspark.sql import types\n",
    "schema = types.StructType([\n",
    "    types.StructField('eviction_id', types.StringType(), True), \n",
    "    types.StructField('address', types.StringType(), True), \n",
    "    types.StructField('city', types.StringType(), True), \n",
    "    types.StructField('state', types.StringType(), True), \n",
    "    types.StructField('zip', types.IntegerType(), True), \n",
    "    types.StructField('file_date', types.DateType(), True), \n",
    "    types.StructField('non_payment', types.BooleanType(), True), \n",
    "    types.StructField('breach', types.BooleanType(), True), \n",
    "    types.StructField('nuisance', types.BooleanType(), True), \n",
    "    types.StructField('illegal_use', types.BooleanType(), True), \n",
    "    types.StructField('failure_to_sign_renewal', types.BooleanType(), True), \n",
    "    types.StructField('access_denial', types.BooleanType(), True), \n",
    "    types.StructField('unapproved_subtenant', types.BooleanType(), True), \n",
    "    types.StructField('owner_move_in', types.BooleanType(), True), \n",
    "    types.StructField('demolition', types.BooleanType(), True), \n",
    "    types.StructField('capital_improvement', types.BooleanType(), True), \n",
    "    types.StructField('substantial_rehab', types.BooleanType(), True), \n",
    "    types.StructField('ellis_act_withdrawal', types.BooleanType(), True), \n",
    "    types.StructField('condo_conversion', types.BooleanType(), True), \n",
    "    types.StructField('roommate_same_unit', types.BooleanType(), True), \n",
    "    types.StructField('other_cause', types.BooleanType(), True), \n",
    "    types.StructField('late_payments', types.BooleanType(), True), \n",
    "    types.StructField('lead_remediation', types.BooleanType(), True), \n",
    "    types.StructField('development', types.BooleanType(), True), \n",
    "    types.StructField('good_samaritan_ends', types.BooleanType(), True), \n",
    "    types.StructField('constraints_date', types.StringType(), True), \n",
    "    types.StructField('supervisor_district', types.IntegerType(), True), \n",
    "    types.StructField('neighborhood', types.StringType(), True), \n",
    "    types.StructField('client_location', types.StringType(), True)])"
   ]
  },
  {
   "cell_type": "code",
   "execution_count": 27,
   "id": "ed65b098",
   "metadata": {},
   "outputs": [
    {
     "name": "stderr",
     "output_type": "stream",
     "text": [
      "                                                                                \r"
     ]
    }
   ],
   "source": [
    "df = spark.read.option(\"multiline\",\"true\").json(str(source_path_json))"
   ]
  },
  {
   "cell_type": "code",
   "execution_count": 17,
   "id": "7a98bb79",
   "metadata": {},
   "outputs": [
    {
     "data": {
      "text/plain": [
       "<bound method RDD.getNumPartitions of MapPartitionsRDD[14] at javaToPython at NativeMethodAccessorImpl.java:0>"
      ]
     },
     "execution_count": 17,
     "metadata": {},
     "output_type": "execute_result"
    }
   ],
   "source": [
    "df.rdd.getNumPartitions"
   ]
  },
  {
   "cell_type": "code",
   "execution_count": 28,
   "id": "240c9f37",
   "metadata": {},
   "outputs": [
    {
     "name": "stderr",
     "output_type": "stream",
     "text": [
      "                                                                                \r"
     ]
    },
    {
     "data": {
      "text/plain": [
       "177578"
      ]
     },
     "execution_count": 28,
     "metadata": {},
     "output_type": "execute_result"
    }
   ],
   "source": [
    "df.count()"
   ]
  },
  {
   "cell_type": "code",
   "execution_count": 29,
   "id": "3c09d8ed",
   "metadata": {},
   "outputs": [
    {
     "name": "stdout",
     "output_type": "stream",
     "text": [
      "root\n",
      " |-- :@computed_region_26cr_cadq: string (nullable = true)\n",
      " |-- :@computed_region_6ezc_tdp2: string (nullable = true)\n",
      " |-- :@computed_region_6pnf_4xz7: string (nullable = true)\n",
      " |-- :@computed_region_6qbp_sg9q: string (nullable = true)\n",
      " |-- :@computed_region_9jxd_iqea: string (nullable = true)\n",
      " |-- :@computed_region_ajp5_b2md: string (nullable = true)\n",
      " |-- :@computed_region_bh8s_q3mv: string (nullable = true)\n",
      " |-- :@computed_region_fyvs_ahh9: string (nullable = true)\n",
      " |-- :@computed_region_h4ep_8xdi: string (nullable = true)\n",
      " |-- :@computed_region_jwn9_ihcz: string (nullable = true)\n",
      " |-- :@computed_region_p5aj_wyqh: string (nullable = true)\n",
      " |-- :@computed_region_pigm_ib2e: string (nullable = true)\n",
      " |-- :@computed_region_qgnn_b9vv: string (nullable = true)\n",
      " |-- :@computed_region_rxqg_mtj9: string (nullable = true)\n",
      " |-- :@computed_region_yftq_j783: string (nullable = true)\n",
      " |-- :created_at: string (nullable = true)\n",
      " |-- :id: string (nullable = true)\n",
      " |-- :updated_at: string (nullable = true)\n",
      " |-- :version: string (nullable = true)\n",
      " |-- access_denial: boolean (nullable = true)\n",
      " |-- address: string (nullable = true)\n",
      " |-- breach: boolean (nullable = true)\n",
      " |-- capital_improvement: boolean (nullable = true)\n",
      " |-- city: string (nullable = true)\n",
      " |-- client_location: struct (nullable = true)\n",
      " |    |-- human_address: string (nullable = true)\n",
      " |    |-- latitude: string (nullable = true)\n",
      " |    |-- longitude: string (nullable = true)\n",
      " |-- condo_conversion: boolean (nullable = true)\n",
      " |-- constraints_date: string (nullable = true)\n",
      " |-- demolition: boolean (nullable = true)\n",
      " |-- development: boolean (nullable = true)\n",
      " |-- ellis_act_withdrawal: boolean (nullable = true)\n",
      " |-- eviction_id: string (nullable = true)\n",
      " |-- failure_to_sign_renewal: boolean (nullable = true)\n",
      " |-- file_date: string (nullable = true)\n",
      " |-- good_samaritan_ends: boolean (nullable = true)\n",
      " |-- illegal_use: boolean (nullable = true)\n",
      " |-- late_payments: boolean (nullable = true)\n",
      " |-- lead_remediation: boolean (nullable = true)\n",
      " |-- neighborhood: string (nullable = true)\n",
      " |-- non_payment: boolean (nullable = true)\n",
      " |-- nuisance: boolean (nullable = true)\n",
      " |-- other_cause: boolean (nullable = true)\n",
      " |-- owner_move_in: boolean (nullable = true)\n",
      " |-- roommate_same_unit: boolean (nullable = true)\n",
      " |-- shape: struct (nullable = true)\n",
      " |    |-- coordinates: array (nullable = true)\n",
      " |    |    |-- element: double (containsNull = true)\n",
      " |    |-- type: string (nullable = true)\n",
      " |-- state: string (nullable = true)\n",
      " |-- substantial_rehab: boolean (nullable = true)\n",
      " |-- supervisor_district: string (nullable = true)\n",
      " |-- unapproved_subtenant: boolean (nullable = true)\n",
      " |-- zip: string (nullable = true)\n",
      "\n"
     ]
    }
   ],
   "source": [
    "df.printSchema()"
   ]
  },
  {
   "cell_type": "code",
   "execution_count": 35,
   "id": "34a3a1f5",
   "metadata": {},
   "outputs": [
    {
     "ename": "TypeError",
     "evalue": "'StructType' object is not callable",
     "output_type": "error",
     "traceback": [
      "\u001b[0;31m---------------------------------------------------------------------------\u001b[0m",
      "\u001b[0;31mTypeError\u001b[0m                                 Traceback (most recent call last)",
      "Cell \u001b[0;32mIn[35], line 1\u001b[0m\n\u001b[0;32m----> 1\u001b[0m \u001b[43mdf\u001b[49m\u001b[38;5;241;43m.\u001b[39;49m\u001b[43mschema\u001b[49m\u001b[43m(\u001b[49m\u001b[43m)\u001b[49m\n",
      "\u001b[0;31mTypeError\u001b[0m: 'StructType' object is not callable"
     ]
    }
   ],
   "source": []
  },
  {
   "cell_type": "code",
   "execution_count": 30,
   "id": "e5484a36",
   "metadata": {},
   "outputs": [
    {
     "name": "stdout",
     "output_type": "stream",
     "text": [
      "23/03/25 20:39:14 WARN package: Truncated the string representation of a plan since it was too large. This behavior can be adjusted by setting 'spark.sql.debug.maxToStringFields'.\n"
     ]
    },
    {
     "name": "stderr",
     "output_type": "stream",
     "text": [
      "                                                                                \r"
     ]
    },
    {
     "data": {
      "text/plain": [
       "[Row(:@computed_region_26cr_cadq='2', :@computed_region_6ezc_tdp2=None, :@computed_region_6pnf_4xz7='2', :@computed_region_6qbp_sg9q='53', :@computed_region_9jxd_iqea=None, :@computed_region_ajp5_b2md='20', :@computed_region_bh8s_q3mv='28859', :@computed_region_fyvs_ahh9='19', :@computed_region_h4ep_8xdi=None, :@computed_region_jwn9_ihcz='53', :@computed_region_p5aj_wyqh='4', :@computed_region_pigm_ib2e=None, :@computed_region_qgnn_b9vv='3', :@computed_region_rxqg_mtj9='7', :@computed_region_yftq_j783='2', :created_at='2023-01-23T23:46:16.858Z', :id='row-ufzj_22gk~drek', :updated_at='2023-01-23T23:46:33.925Z', :version='rv-wryr~aezj~xte7', access_denial=False, address='2500 Block Of Folsom  Street', breach=False, capital_improvement=False, city='San Francisco', client_location=Row(human_address='{\"address\": \"\", \"city\": \"\", \"state\": \"\", \"zip\": \"\"}', latitude='37.75649855484188', longitude='-122.41446453496935'), condo_conversion=False, constraints_date=None, demolition=False, development=False, ellis_act_withdrawal=False, eviction_id='M221207', failure_to_sign_renewal=False, file_date='2022-12-23T00:00:00.000', good_samaritan_ends=False, illegal_use=False, late_payments=False, lead_remediation=False, neighborhood='Mission', non_payment=True, nuisance=False, other_cause=False, owner_move_in=False, roommate_same_unit=False, shape=Row(coordinates=[-122.41447, 37.7565], type='Point'), state='CA', substantial_rehab=False, supervisor_district='9', unapproved_subtenant=False, zip='94110'),\n",
       " Row(:@computed_region_26cr_cadq='9', :@computed_region_6ezc_tdp2=None, :@computed_region_6pnf_4xz7='1', :@computed_region_6qbp_sg9q='55', :@computed_region_9jxd_iqea='14', :@computed_region_ajp5_b2md='26', :@computed_region_bh8s_q3mv='28856', :@computed_region_fyvs_ahh9='29', :@computed_region_h4ep_8xdi=None, :@computed_region_jwn9_ihcz='55', :@computed_region_p5aj_wyqh='3', :@computed_region_pigm_ib2e=None, :@computed_region_qgnn_b9vv='2', :@computed_region_rxqg_mtj9='8', :@computed_region_yftq_j783='14', :created_at='2023-01-23T23:46:16.858Z', :id='row-k4ar_jqfk~qf9p', :updated_at='2023-01-23T23:46:33.925Z', :version='rv-jrf5.m8q7.bb2j', access_denial=False, address='2000 Block Of 03rd  Street', breach=False, capital_improvement=False, city='San Francisco', client_location=Row(human_address='{\"address\": \"\", \"city\": \"\", \"state\": \"\", \"zip\": \"\"}', latitude='37.7636861675663', longitude='-122.38873210572237'), condo_conversion=False, constraints_date=None, demolition=False, development=False, ellis_act_withdrawal=False, eviction_id='M221222', failure_to_sign_renewal=False, file_date='2022-12-23T00:00:00.000', good_samaritan_ends=False, illegal_use=False, late_payments=False, lead_remediation=False, neighborhood='Potrero Hill', non_payment=True, nuisance=False, other_cause=False, owner_move_in=False, roommate_same_unit=False, shape=Row(coordinates=[-122.38873, 37.763687], type='Point'), state='CA', substantial_rehab=False, supervisor_district='10', unapproved_subtenant=False, zip='94107'),\n",
       " Row(:@computed_region_26cr_cadq='10', :@computed_region_6ezc_tdp2=None, :@computed_region_6pnf_4xz7='2', :@computed_region_6qbp_sg9q='20', :@computed_region_9jxd_iqea=None, :@computed_region_ajp5_b2md='36', :@computed_region_bh8s_q3mv='28858', :@computed_region_fyvs_ahh9='36', :@computed_region_h4ep_8xdi=None, :@computed_region_jwn9_ihcz='20', :@computed_region_p5aj_wyqh='1', :@computed_region_pigm_ib2e=None, :@computed_region_qgnn_b9vv='6', :@computed_region_rxqg_mtj9='9', :@computed_region_yftq_j783='13', :created_at='2023-01-23T23:46:16.858Z', :id='row-g7er.wz7c~98am', :updated_at='2023-01-23T23:46:33.925Z', :version='rv-kub4-qfcm-vv5s', access_denial=False, address='800 Block Of Geary  Street', breach=False, capital_improvement=False, city='San Francisco', client_location=Row(human_address='{\"address\": \"\", \"city\": \"\", \"state\": \"\", \"zip\": \"\"}', latitude='37.78620563104688', longitude='-122.41726861276132'), condo_conversion=False, constraints_date=None, demolition=False, development=False, ellis_act_withdrawal=False, eviction_id='M220927', failure_to_sign_renewal=False, file_date='2022-12-22T00:00:00.000', good_samaritan_ends=False, illegal_use=False, late_payments=False, lead_remediation=False, neighborhood='Tenderloin', non_payment=False, nuisance=True, other_cause=False, owner_move_in=False, roommate_same_unit=False, shape=Row(coordinates=[-122.41727, 37.786205], type='Point'), state='CA', substantial_rehab=False, supervisor_district='3', unapproved_subtenant=False, zip='94109')]"
      ]
     },
     "execution_count": 30,
     "metadata": {},
     "output_type": "execute_result"
    }
   ],
   "source": [
    "df.head(3)"
   ]
  },
  {
   "cell_type": "code",
   "execution_count": 31,
   "id": "50bf9449",
   "metadata": {},
   "outputs": [
    {
     "data": {
      "text/plain": [
       "[':@computed_region_26cr_cadq',\n",
       " ':@computed_region_6ezc_tdp2',\n",
       " ':@computed_region_6pnf_4xz7',\n",
       " ':@computed_region_6qbp_sg9q',\n",
       " ':@computed_region_9jxd_iqea',\n",
       " ':@computed_region_ajp5_b2md',\n",
       " ':@computed_region_bh8s_q3mv',\n",
       " ':@computed_region_fyvs_ahh9',\n",
       " ':@computed_region_h4ep_8xdi',\n",
       " ':@computed_region_jwn9_ihcz',\n",
       " ':@computed_region_p5aj_wyqh',\n",
       " ':@computed_region_pigm_ib2e',\n",
       " ':@computed_region_qgnn_b9vv',\n",
       " ':@computed_region_rxqg_mtj9',\n",
       " ':@computed_region_yftq_j783',\n",
       " ':created_at',\n",
       " ':id',\n",
       " ':updated_at',\n",
       " ':version',\n",
       " 'access_denial',\n",
       " 'address',\n",
       " 'breach',\n",
       " 'capital_improvement',\n",
       " 'city',\n",
       " 'client_location',\n",
       " 'condo_conversion',\n",
       " 'constraints_date',\n",
       " 'demolition',\n",
       " 'development',\n",
       " 'ellis_act_withdrawal',\n",
       " 'eviction_id',\n",
       " 'failure_to_sign_renewal',\n",
       " 'file_date',\n",
       " 'good_samaritan_ends',\n",
       " 'illegal_use',\n",
       " 'late_payments',\n",
       " 'lead_remediation',\n",
       " 'neighborhood',\n",
       " 'non_payment',\n",
       " 'nuisance',\n",
       " 'other_cause',\n",
       " 'owner_move_in',\n",
       " 'roommate_same_unit',\n",
       " 'shape',\n",
       " 'state',\n",
       " 'substantial_rehab',\n",
       " 'supervisor_district',\n",
       " 'unapproved_subtenant',\n",
       " 'zip']"
      ]
     },
     "execution_count": 31,
     "metadata": {},
     "output_type": "execute_result"
    }
   ],
   "source": [
    "df.columns"
   ]
  },
  {
   "cell_type": "code",
   "execution_count": 32,
   "id": "55a399e6",
   "metadata": {},
   "outputs": [
    {
     "data": {
      "text/plain": [
       "49"
      ]
     },
     "execution_count": 32,
     "metadata": {},
     "output_type": "execute_result"
    }
   ],
   "source": [
    "len(df.columns)"
   ]
  },
  {
   "cell_type": "code",
   "execution_count": 33,
   "id": "982a37f5",
   "metadata": {},
   "outputs": [
    {
     "name": "stderr",
     "output_type": "stream",
     "text": [
      "[Stage 14:>                                                         (0 + 1) / 1]\r"
     ]
    },
    {
     "name": "stdout",
     "output_type": "stream",
     "text": [
      "The pyspark df is a list of records where each record is of type <class 'pyspark.sql.types.Row'> \n",
      "\n",
      " Row(:@computed_region_26cr_cadq='2', :@computed_region_6ezc_tdp2=None, :@computed_region_6pnf_4xz7='2', :@computed_region_6qbp_sg9q='53', :@computed_region_9jxd_iqea=None, :@computed_region_ajp5_b2md='20', :@computed_region_bh8s_q3mv='28859', :@computed_region_fyvs_ahh9='19', :@computed_region_h4ep_8xdi=None, :@computed_region_jwn9_ihcz='53', :@computed_region_p5aj_wyqh='4', :@computed_region_pigm_ib2e=None, :@computed_region_qgnn_b9vv='3', :@computed_region_rxqg_mtj9='7', :@computed_region_yftq_j783='2', :created_at='2023-01-23T23:46:16.858Z', :id='row-ufzj_22gk~drek', :updated_at='2023-01-23T23:46:33.925Z', :version='rv-wryr~aezj~xte7', access_denial=False, address='2500 Block Of Folsom  Street', breach=False, capital_improvement=False, city='San Francisco', client_location=Row(human_address='{\"address\": \"\", \"city\": \"\", \"state\": \"\", \"zip\": \"\"}', latitude='37.75649855484188', longitude='-122.41446453496935'), condo_conversion=False, constraints_date=None, demolition=False, development=False, ellis_act_withdrawal=False, eviction_id='M221207', failure_to_sign_renewal=False, file_date='2022-12-23T00:00:00.000', good_samaritan_ends=False, illegal_use=False, late_payments=False, lead_remediation=False, neighborhood='Mission', non_payment=True, nuisance=False, other_cause=False, owner_move_in=False, roommate_same_unit=False, shape=Row(coordinates=[-122.41447, 37.7565], type='Point'), state='CA', substantial_rehab=False, supervisor_district='9', unapproved_subtenant=False, zip='94110')\n"
     ]
    },
    {
     "name": "stderr",
     "output_type": "stream",
     "text": [
      "\r",
      "                                                                                \r"
     ]
    }
   ],
   "source": [
    "print(f'The pyspark df is a list of records where each record is of type {type(df.head(1)[0])} \\n\\n {df.head(1)[0]}')"
   ]
  },
  {
   "cell_type": "code",
   "execution_count": 7,
   "id": "acd96086",
   "metadata": {},
   "outputs": [
    {
     "name": "stdout",
     "output_type": "stream",
     "text": [
      "['eviction_id', 'address', 'city', 'state', 'zip', 'file_date', 'non_payment', 'breach', 'nuisance', 'illegal_use', 'failure_to_sign_renewal', 'access_denial', 'unapproved_subtenant', 'owner_move_in', 'demolition', 'capital_improvement', 'substantial_rehab', 'ellis_act_withdrawal', 'condo_conversion', 'roommate_same_unit', 'other_cause', 'late_payments', 'lead_remediation', 'development', 'good_samaritan_ends', 'constraints_date', 'supervisor_district', 'neighborhood', 'client_location', 'shape', ':@computed_region_6qbp_sg9q', ':@computed_region_qgnn_b9vv', ':@computed_region_26cr_cadq', ':@computed_region_ajp5_b2md', ':@computed_region_fyvs_ahh9', ':@computed_region_p5aj_wyqh', ':@computed_region_rxqg_mtj9', ':@computed_region_yftq_j783', ':@computed_region_bh8s_q3mv', ':@computed_region_9jxd_iqea', ':@computed_region_6ezc_tdp2', ':@computed_region_6pnf_4xz7', ':@computed_region_h4ep_8xdi', ':@computed_region_pigm_ib2e', ':@computed_region_jwn9_ihcz']\n",
      "eviction_id=M222138\n",
      "address=400 Block Of Eddy  Street\n",
      "city=San Francisco\n",
      "state=CA\n",
      "zip=94102\n",
      "file_date=2022-12-12T00:00:00.000\n",
      "non_payment=false\n",
      "breach=false\n",
      "nuisance=true\n",
      "illegal_use=false\n",
      "failure_to_sign_renewal=false\n",
      "access_denial=false\n",
      "unapproved_subtenant=false\n",
      "owner_move_in=false\n",
      "demolition=false\n",
      "capital_improvement=false\n",
      "substantial_rehab=false\n",
      "ellis_act_withdrawal=false\n",
      "condo_conversion=false\n",
      "roommate_same_unit=false\n",
      "other_cause=false\n",
      "late_payments=false\n",
      "lead_remediation=false\n",
      "development=false\n",
      "good_samaritan_ends=false\n",
      "constraints_date=None\n",
      "supervisor_district=5\n",
      "neighborhood=Tenderloin\n",
      "client_location=None\n",
      "shape=POINT (-122.41508 37.783627)\n",
      ":@computed_region_6qbp_sg9q=None\n",
      ":@computed_region_qgnn_b9vv=None\n",
      ":@computed_region_26cr_cadq=None\n",
      ":@computed_region_ajp5_b2md=None\n",
      ":@computed_region_fyvs_ahh9=None\n",
      ":@computed_region_p5aj_wyqh=None\n",
      ":@computed_region_rxqg_mtj9=None\n",
      ":@computed_region_yftq_j783=None\n",
      ":@computed_region_bh8s_q3mv=None\n",
      ":@computed_region_9jxd_iqea=None\n",
      ":@computed_region_6ezc_tdp2=None\n",
      ":@computed_region_6pnf_4xz7=None\n",
      ":@computed_region_h4ep_8xdi=None\n",
      ":@computed_region_pigm_ib2e=None\n",
      ":@computed_region_jwn9_ihcz=20\n"
     ]
    }
   ],
   "source": [
    "# from web data\n",
    "# Extracting column names to decide which ones are of interest\n",
    "# Convert type row to dictionary\n",
    "#row_as_dict = df.head(1)[0].asDict()\n",
    "\n",
    "# Column Names\n",
    "#print(list(row_as_dict.keys()))\n",
    "\n",
    "# Sample Column and Value\n",
    "#for key, value in row_as_dict.items():\n",
    "    #print(f'{key}={value}')\n"
   ]
  },
  {
   "cell_type": "code",
   "execution_count": 34,
   "id": "2941d674",
   "metadata": {},
   "outputs": [
    {
     "name": "stderr",
     "output_type": "stream",
     "text": [
      "\r",
      "[Stage 15:>                                                         (0 + 1) / 1]\r"
     ]
    },
    {
     "name": "stdout",
     "output_type": "stream",
     "text": [
      "[':@computed_region_26cr_cadq', ':@computed_region_6ezc_tdp2', ':@computed_region_6pnf_4xz7', ':@computed_region_6qbp_sg9q', ':@computed_region_9jxd_iqea', ':@computed_region_ajp5_b2md', ':@computed_region_bh8s_q3mv', ':@computed_region_fyvs_ahh9', ':@computed_region_h4ep_8xdi', ':@computed_region_jwn9_ihcz', ':@computed_region_p5aj_wyqh', ':@computed_region_pigm_ib2e', ':@computed_region_qgnn_b9vv', ':@computed_region_rxqg_mtj9', ':@computed_region_yftq_j783', ':created_at', ':id', ':updated_at', ':version', 'access_denial', 'address', 'breach', 'capital_improvement', 'city', 'client_location', 'condo_conversion', 'constraints_date', 'demolition', 'development', 'ellis_act_withdrawal', 'eviction_id', 'failure_to_sign_renewal', 'file_date', 'good_samaritan_ends', 'illegal_use', 'late_payments', 'lead_remediation', 'neighborhood', 'non_payment', 'nuisance', 'other_cause', 'owner_move_in', 'roommate_same_unit', 'shape', 'state', 'substantial_rehab', 'supervisor_district', 'unapproved_subtenant', 'zip']\n",
      ":@computed_region_26cr_cadq=2\n",
      ":@computed_region_6ezc_tdp2=None\n",
      ":@computed_region_6pnf_4xz7=2\n",
      ":@computed_region_6qbp_sg9q=53\n",
      ":@computed_region_9jxd_iqea=None\n",
      ":@computed_region_ajp5_b2md=20\n",
      ":@computed_region_bh8s_q3mv=28859\n",
      ":@computed_region_fyvs_ahh9=19\n",
      ":@computed_region_h4ep_8xdi=None\n",
      ":@computed_region_jwn9_ihcz=53\n",
      ":@computed_region_p5aj_wyqh=4\n",
      ":@computed_region_pigm_ib2e=None\n",
      ":@computed_region_qgnn_b9vv=3\n",
      ":@computed_region_rxqg_mtj9=7\n",
      ":@computed_region_yftq_j783=2\n",
      ":created_at=2023-01-23T23:46:16.858Z\n",
      ":id=row-ufzj_22gk~drek\n",
      ":updated_at=2023-01-23T23:46:33.925Z\n",
      ":version=rv-wryr~aezj~xte7\n",
      "access_denial=False\n",
      "address=2500 Block Of Folsom  Street\n",
      "breach=False\n",
      "capital_improvement=False\n",
      "city=San Francisco\n",
      "client_location=Row(human_address='{\"address\": \"\", \"city\": \"\", \"state\": \"\", \"zip\": \"\"}', latitude='37.75649855484188', longitude='-122.41446453496935')\n",
      "condo_conversion=False\n",
      "constraints_date=None\n",
      "demolition=False\n",
      "development=False\n",
      "ellis_act_withdrawal=False\n",
      "eviction_id=M221207\n",
      "failure_to_sign_renewal=False\n",
      "file_date=2022-12-23T00:00:00.000\n",
      "good_samaritan_ends=False\n",
      "illegal_use=False\n",
      "late_payments=False\n",
      "lead_remediation=False\n",
      "neighborhood=Mission\n",
      "non_payment=True\n",
      "nuisance=False\n",
      "other_cause=False\n",
      "owner_move_in=False\n",
      "roommate_same_unit=False\n",
      "shape=Row(coordinates=[-122.41447, 37.7565], type='Point')\n",
      "state=CA\n",
      "substantial_rehab=False\n",
      "supervisor_district=9\n",
      "unapproved_subtenant=False\n",
      "zip=94110\n"
     ]
    },
    {
     "name": "stderr",
     "output_type": "stream",
     "text": [
      "\r",
      "                                                                                \r"
     ]
    }
   ],
   "source": [
    "# Extracting column names to decide which ones are of interest\n",
    "# Convert type row to dictionary\n",
    "row_as_dict = df.head(1)[0].asDict()\n",
    "\n",
    "# Column Names\n",
    "print(list(row_as_dict.keys()))\n",
    "\n",
    "# Sample Column and Value\n",
    "for key, value in row_as_dict.items():\n",
    "    print(f'{key}={value}')\n",
    "    \n",
    "# new cols updated_at, id, created_at, version  missing when extracting from the URL"
   ]
  },
  {
   "cell_type": "code",
   "execution_count": 42,
   "id": "1ee2dac3",
   "metadata": {},
   "outputs": [
    {
     "name": "stdout",
     "output_type": "stream",
     "text": [
      "[':@computed_region_p5aj_wyqh', ':@computed_region_bh8s_q3mv', ':@computed_region_h4ep_8xdi', 'client_location', 'neighborhood', ':@computed_region_9jxd_iqea', 'shape', 'non_payment', 'nuisance', 'breach', 'city', ':@computed_region_qgnn_b9vv', 'address', 'demolition', ':@computed_region_jwn9_ihcz', 'illegal_use', 'access_denial', 'other_cause', 'eviction_id', 'state', 'substantial_rehab', 'development', 'constraints_date', ':@computed_region_rxqg_mtj9', ':@computed_region_26cr_cadq', 'roommate_same_unit', ':@computed_region_6qbp_sg9q', ':@computed_region_pigm_ib2e', ':@computed_region_6ezc_tdp2', 'file_date', ':id', ':@computed_region_ajp5_b2md', 'ellis_act_withdrawal', 'good_samaritan_ends', 'lead_remediation', 'unapproved_subtenant', 'capital_improvement', 'condo_conversion', 'late_payments', ':created_at', ':version', ':updated_at', 'zip', 'supervisor_district', 'owner_move_in', ':@computed_region_6pnf_4xz7', ':@computed_region_fyvs_ahh9', ':@computed_region_yftq_j783', 'failure_to_sign_renewal']\n",
      ":@computed_region_p5aj_wyqh=4\n",
      ":@computed_region_bh8s_q3mv=28859\n",
      ":@computed_region_h4ep_8xdi=None\n",
      "client_location=\"{'latitude': '37.75649855484188', 'longitude': '-122.41446453496935', 'human_address': '{\"\"address\"\": \"\"\"\"\n",
      "neighborhood= \"\"city\"\": \"\"\"\"\n",
      ":@computed_region_9jxd_iqea= \"\"state\"\": \"\"\"\"\n",
      "shape= \"\"zip\"\": \"\"\"\"}'}\"\n",
      "non_payment=Mission\n",
      "nuisance=None\n",
      "breach={'type': 'Point', 'coordinates': [-122.41447, 37.7565]}\n",
      "city=True\n",
      ":@computed_region_qgnn_b9vv=False\n",
      "address=False\n",
      "demolition=San Francisco\n",
      ":@computed_region_jwn9_ihcz=3\n",
      "illegal_use=2500 Block Of Folsom  Street\n",
      "access_denial=False\n",
      "other_cause=53\n",
      "eviction_id=False\n",
      "state=False\n",
      "substantial_rehab=False\n",
      "development=M221207\n",
      "constraints_date=CA\n",
      ":@computed_region_rxqg_mtj9=False\n",
      ":@computed_region_26cr_cadq=False\n",
      "roommate_same_unit=None\n",
      ":@computed_region_6qbp_sg9q=7\n",
      ":@computed_region_pigm_ib2e=2\n",
      ":@computed_region_6ezc_tdp2=False\n",
      "file_date=53\n",
      ":id=None\n",
      ":@computed_region_ajp5_b2md=None\n",
      "ellis_act_withdrawal=2022-12-23T00:00:00.000\n",
      "good_samaritan_ends=row-ufzj_22gk~drek\n",
      "lead_remediation=20\n",
      "unapproved_subtenant=False\n",
      "capital_improvement=False\n",
      "condo_conversion=False\n",
      "late_payments=False\n",
      ":created_at=False\n",
      ":version=False\n",
      ":updated_at=False\n",
      "zip=2023-01-23T23:46:16.858Z\n",
      "supervisor_district=rv-wryr~aezj~xte7\n",
      "owner_move_in=2023-01-23T23:46:33.925Z\n",
      ":@computed_region_6pnf_4xz7=94110\n",
      ":@computed_region_fyvs_ahh9=9\n",
      ":@computed_region_yftq_j783=False\n",
      "failure_to_sign_renewal=2\n"
     ]
    }
   ],
   "source": [
    "# Extracting column names to decide which ones are of interest\n",
    "# Convert type row to dictionary\n",
    "row_as_dict = df.head(1)[0].asDict()\n",
    "\n",
    "# Column Names\n",
    "print(list(row_as_dict.keys()))\n",
    "\n",
    "# Sample Column and Value\n",
    "for key, value in row_as_dict.items():\n",
    "    print(f'{key}={value}')\n",
    "    \n",
    "# new cols updated_at, id, created_at, version  missing when extracting from the URL"
   ]
  },
  {
   "cell_type": "markdown",
   "id": "05df4d41",
   "metadata": {},
   "source": [
    "## Analysis\n",
    "* As we can see the columns of interest are not all columns.\n",
    "* The last columns name `@computed_region*` is not of interest so we will ignore those columns.\n",
    "* And will extract only those columns from the raw dataset\n",
    "* Column `client_location` and `shape` hold the same data "
   ]
  },
  {
   "cell_type": "code",
   "execution_count": 24,
   "id": "beb58aa6",
   "metadata": {},
   "outputs": [],
   "source": [
    "imp_cols = ['eviction_id', 'address', 'city', 'state', 'zip', 'file_date', 'non_payment', 'breach', 'nuisance', 'illegal_use', 'failure_to_sign_renewal', 'access_denial', 'unapproved_subtenant', 'owner_move_in', 'demolition', 'capital_improvement', 'substantial_rehab', 'ellis_act_withdrawal', 'condo_conversion', 'roommate_same_unit', 'other_cause', 'late_payments', 'lead_remediation', 'development', 'good_samaritan_ends', 'constraints_date', 'supervisor_district', 'neighborhood', 'client_location']\n"
   ]
  },
  {
   "cell_type": "code",
   "execution_count": 25,
   "id": "d12457ca",
   "metadata": {},
   "outputs": [
    {
     "name": "stdout",
     "output_type": "stream",
     "text": [
      "+-----------+-------+-----+-----+--------------------+---------+---------------+--------------------+--------+--------------------+-----------------------+-------------+--------------------+--------------------+-------------+-------------------+-----------------+--------------------+----------------+------------------+-----------+-------------+----------------+-----------+-------------------+----------------+-------------------+---------------+--------------------+\n",
      "|eviction_id|address| city|state|                 zip|file_date|    non_payment|              breach|nuisance|         illegal_use|failure_to_sign_renewal|access_denial|unapproved_subtenant|       owner_move_in|   demolition|capital_improvement|substantial_rehab|ellis_act_withdrawal|condo_conversion|roommate_same_unit|other_cause|late_payments|lead_remediation|development|good_samaritan_ends|constraints_date|supervisor_district|   neighborhood|     client_location|\n",
      "+-----------+-------+-----+-----+--------------------+---------+---------------+--------------------+--------+--------------------+-----------------------+-------------+--------------------+--------------------+-------------+-------------------+-----------------+--------------------+----------------+------------------+-----------+-------------+----------------+-----------+-------------------+----------------+-------------------+---------------+--------------------+\n",
      "|      False|  False| True|False|2023-01-23T23:46:...|       53|        Mission|{'type': 'Point',...|    null|2500 Block Of Fol...|                      2|        False|               False|2023-01-23T23:46:...|San Francisco|              False|            False|2022-12-23T00:00:...|           False|              null|         53|        False|              20|    M221207| row-ufzj_22gk~drek|              CA|  rv-wryr~aezj~xte7| \"\"city\"\": \"\"\"\"|\"{'latitude': '37...|\n",
      "|      False|  False| True|False|2023-01-23T23:46:...|       55|   Potrero Hill|{'type': 'Point',...|      14|2000 Block Of 03r...|                      1|        False|               False|2023-01-23T23:46:...|San Francisco|              False|            False|2022-12-23T00:00:...|           False|              null|         55|        False|              26|    M221222| row-k4ar_jqfk~qf9p|              CA|  rv-jrf5.m8q7.bb2j| \"\"city\"\": \"\"\"\"|\"{'latitude': '37...|\n",
      "|      False|  False|False|False|2023-01-23T23:46:...|       20|     Tenderloin|{'type': 'Point',...|    null|800 Block Of Gear...|                      2|        False|               False|2023-01-23T23:46:...|San Francisco|              False|            False|2022-12-22T00:00:...|           False|              null|         20|        False|              36|    M220927| row-g7er.wz7c~98am|              CA|  rv-kub4-qfcm-vv5s| \"\"city\"\": \"\"\"\"|\"{'latitude': '37...|\n",
      "|      False|  False| True|False|2023-01-23T23:46:...|       55|   Potrero Hill|{'type': 'Point',...|      14|2000 Block Of 03r...|                      1|        False|               False|2023-01-23T23:46:...|San Francisco|              False|            False|2022-12-22T00:00:...|           False|              null|         55|        False|              26|    M221154| row-jvdz~8ne5_agq5|              CA|  rv-t6vv~sqbg.fcxv| \"\"city\"\": \"\"\"\"|\"{'latitude': '37...|\n",
      "|      False|  False|False|False|2023-01-23T23:46:...|       39|Sunset/Parkside|{'type': 'Point',...|    null|2000 Block Of 44t...|                      1|        False|               False|2023-01-23T23:46:...|San Francisco|              False|            False|2022-12-22T00:00:...|           False|              null|         39|        False|              35|    M221155| row-er7z~7fk9~55mx|              CA|  rv-8f6e~9dpn.id6z| \"\"city\"\": \"\"\"\"|\"{'latitude': '37...|\n",
      "+-----------+-------+-----+-----+--------------------+---------+---------------+--------------------+--------+--------------------+-----------------------+-------------+--------------------+--------------------+-------------+-------------------+-----------------+--------------------+----------------+------------------+-----------+-------------+----------------+-----------+-------------------+----------------+-------------------+---------------+--------------------+\n",
      "only showing top 5 rows\n",
      "\n"
     ]
    }
   ],
   "source": [
    "# new df with only selected columns \n",
    "df_clean = df.select(imp_cols)\n",
    "df_clean.show(5)"
   ]
  },
  {
   "cell_type": "code",
   "execution_count": 26,
   "id": "21bfc036",
   "metadata": {},
   "outputs": [
    {
     "name": "stdout",
     "output_type": "stream",
     "text": [
      "root\n",
      " |-- eviction_id: string (nullable = true)\n",
      " |-- address: string (nullable = true)\n",
      " |-- city: string (nullable = true)\n",
      " |-- state: string (nullable = true)\n",
      " |-- zip: string (nullable = true)\n",
      " |-- file_date: string (nullable = true)\n",
      " |-- non_payment: string (nullable = true)\n",
      " |-- breach: string (nullable = true)\n",
      " |-- nuisance: string (nullable = true)\n",
      " |-- illegal_use: string (nullable = true)\n",
      " |-- failure_to_sign_renewal: string (nullable = true)\n",
      " |-- access_denial: string (nullable = true)\n",
      " |-- unapproved_subtenant: string (nullable = true)\n",
      " |-- owner_move_in: string (nullable = true)\n",
      " |-- demolition: string (nullable = true)\n",
      " |-- capital_improvement: string (nullable = true)\n",
      " |-- substantial_rehab: string (nullable = true)\n",
      " |-- ellis_act_withdrawal: string (nullable = true)\n",
      " |-- condo_conversion: string (nullable = true)\n",
      " |-- roommate_same_unit: string (nullable = true)\n",
      " |-- other_cause: string (nullable = true)\n",
      " |-- late_payments: string (nullable = true)\n",
      " |-- lead_remediation: string (nullable = true)\n",
      " |-- development: string (nullable = true)\n",
      " |-- good_samaritan_ends: string (nullable = true)\n",
      " |-- constraints_date: string (nullable = true)\n",
      " |-- supervisor_district: string (nullable = true)\n",
      " |-- neighborhood: string (nullable = true)\n",
      " |-- client_location: string (nullable = true)\n",
      "\n"
     ]
    }
   ],
   "source": [
    "df_clean.printSchema()"
   ]
  },
  {
   "cell_type": "markdown",
   "id": "1cf95696",
   "metadata": {},
   "source": [
    "## Convert few rows to pandas df and extract the schema"
   ]
  },
  {
   "cell_type": "code",
   "execution_count": 28,
   "id": "83b362cf",
   "metadata": {},
   "outputs": [],
   "source": [
    "import pandas as p\n",
    "pandas_df = p.read_csv(source_path_csv, nrows=100000, usecols=imp_cols)"
   ]
  },
  {
   "cell_type": "code",
   "execution_count": 12,
   "id": "93a9067c",
   "metadata": {},
   "outputs": [],
   "source": [
    "# pandas for json data\n",
    "import pandas as p\n",
    "pandas_df = p.read_json(source_path_json)"
   ]
  },
  {
   "cell_type": "code",
   "execution_count": 14,
   "id": "0963ab8c",
   "metadata": {},
   "outputs": [
    {
     "data": {
      "text/plain": [
       "(177578, 49)"
      ]
     },
     "execution_count": 14,
     "metadata": {},
     "output_type": "execute_result"
    }
   ],
   "source": [
    "pandas_df.shape"
   ]
  },
  {
   "cell_type": "code",
   "execution_count": 15,
   "id": "53f804b5",
   "metadata": {},
   "outputs": [
    {
     "data": {
      "text/html": [
       "<div>\n",
       "<style scoped>\n",
       "    .dataframe tbody tr th:only-of-type {\n",
       "        vertical-align: middle;\n",
       "    }\n",
       "\n",
       "    .dataframe tbody tr th {\n",
       "        vertical-align: top;\n",
       "    }\n",
       "\n",
       "    .dataframe thead th {\n",
       "        text-align: right;\n",
       "    }\n",
       "</style>\n",
       "<table border=\"1\" class=\"dataframe\">\n",
       "  <thead>\n",
       "    <tr style=\"text-align: right;\">\n",
       "      <th></th>\n",
       "      <th>:id</th>\n",
       "      <th>:created_at</th>\n",
       "      <th>:updated_at</th>\n",
       "      <th>:version</th>\n",
       "      <th>:@computed_region_6qbp_sg9q</th>\n",
       "      <th>:@computed_region_qgnn_b9vv</th>\n",
       "      <th>:@computed_region_26cr_cadq</th>\n",
       "      <th>:@computed_region_ajp5_b2md</th>\n",
       "      <th>:@computed_region_fyvs_ahh9</th>\n",
       "      <th>:@computed_region_p5aj_wyqh</th>\n",
       "      <th>...</th>\n",
       "      <th>good_samaritan_ends</th>\n",
       "      <th>supervisor_district</th>\n",
       "      <th>neighborhood</th>\n",
       "      <th>client_location</th>\n",
       "      <th>shape</th>\n",
       "      <th>:@computed_region_9jxd_iqea</th>\n",
       "      <th>:@computed_region_6ezc_tdp2</th>\n",
       "      <th>:@computed_region_h4ep_8xdi</th>\n",
       "      <th>:@computed_region_pigm_ib2e</th>\n",
       "      <th>constraints_date</th>\n",
       "    </tr>\n",
       "  </thead>\n",
       "  <tbody>\n",
       "    <tr>\n",
       "      <th>0</th>\n",
       "      <td>row-ufzj_22gk~drek</td>\n",
       "      <td>2023-01-23 23:46:16.858000+00:00</td>\n",
       "      <td>2023-01-23 23:46:33.925000+00:00</td>\n",
       "      <td>rv-wryr~aezj~xte7</td>\n",
       "      <td>53.0</td>\n",
       "      <td>3.0</td>\n",
       "      <td>2.0</td>\n",
       "      <td>20.0</td>\n",
       "      <td>19.0</td>\n",
       "      <td>4.0</td>\n",
       "      <td>...</td>\n",
       "      <td>False</td>\n",
       "      <td>9.0</td>\n",
       "      <td>Mission</td>\n",
       "      <td>{'latitude': '37.75649855484188', 'longitude':...</td>\n",
       "      <td>{'type': 'Point', 'coordinates': [-122.41447, ...</td>\n",
       "      <td>NaN</td>\n",
       "      <td>NaN</td>\n",
       "      <td>NaN</td>\n",
       "      <td>NaN</td>\n",
       "      <td>NaN</td>\n",
       "    </tr>\n",
       "    <tr>\n",
       "      <th>1</th>\n",
       "      <td>row-k4ar_jqfk~qf9p</td>\n",
       "      <td>2023-01-23 23:46:16.858000+00:00</td>\n",
       "      <td>2023-01-23 23:46:33.925000+00:00</td>\n",
       "      <td>rv-jrf5.m8q7.bb2j</td>\n",
       "      <td>55.0</td>\n",
       "      <td>2.0</td>\n",
       "      <td>9.0</td>\n",
       "      <td>26.0</td>\n",
       "      <td>29.0</td>\n",
       "      <td>3.0</td>\n",
       "      <td>...</td>\n",
       "      <td>False</td>\n",
       "      <td>10.0</td>\n",
       "      <td>Potrero Hill</td>\n",
       "      <td>{'latitude': '37.7636861675663', 'longitude': ...</td>\n",
       "      <td>{'type': 'Point', 'coordinates': [-122.38873, ...</td>\n",
       "      <td>14.0</td>\n",
       "      <td>NaN</td>\n",
       "      <td>NaN</td>\n",
       "      <td>NaN</td>\n",
       "      <td>NaN</td>\n",
       "    </tr>\n",
       "    <tr>\n",
       "      <th>2</th>\n",
       "      <td>row-g7er.wz7c~98am</td>\n",
       "      <td>2023-01-23 23:46:16.858000+00:00</td>\n",
       "      <td>2023-01-23 23:46:33.925000+00:00</td>\n",
       "      <td>rv-kub4-qfcm-vv5s</td>\n",
       "      <td>20.0</td>\n",
       "      <td>6.0</td>\n",
       "      <td>10.0</td>\n",
       "      <td>36.0</td>\n",
       "      <td>36.0</td>\n",
       "      <td>1.0</td>\n",
       "      <td>...</td>\n",
       "      <td>False</td>\n",
       "      <td>3.0</td>\n",
       "      <td>Tenderloin</td>\n",
       "      <td>{'latitude': '37.78620563104688', 'longitude':...</td>\n",
       "      <td>{'type': 'Point', 'coordinates': [-122.41727, ...</td>\n",
       "      <td>NaN</td>\n",
       "      <td>NaN</td>\n",
       "      <td>NaN</td>\n",
       "      <td>NaN</td>\n",
       "      <td>NaN</td>\n",
       "    </tr>\n",
       "    <tr>\n",
       "      <th>3</th>\n",
       "      <td>row-jvdz~8ne5_agq5</td>\n",
       "      <td>2023-01-23 23:46:16.858000+00:00</td>\n",
       "      <td>2023-01-23 23:46:33.925000+00:00</td>\n",
       "      <td>rv-t6vv~sqbg.fcxv</td>\n",
       "      <td>55.0</td>\n",
       "      <td>2.0</td>\n",
       "      <td>9.0</td>\n",
       "      <td>26.0</td>\n",
       "      <td>29.0</td>\n",
       "      <td>3.0</td>\n",
       "      <td>...</td>\n",
       "      <td>False</td>\n",
       "      <td>10.0</td>\n",
       "      <td>Potrero Hill</td>\n",
       "      <td>{'latitude': '37.7636861675663', 'longitude': ...</td>\n",
       "      <td>{'type': 'Point', 'coordinates': [-122.38873, ...</td>\n",
       "      <td>14.0</td>\n",
       "      <td>NaN</td>\n",
       "      <td>NaN</td>\n",
       "      <td>NaN</td>\n",
       "      <td>NaN</td>\n",
       "    </tr>\n",
       "    <tr>\n",
       "      <th>4</th>\n",
       "      <td>row-er7z~7fk9~55mx</td>\n",
       "      <td>2023-01-23 23:46:16.858000+00:00</td>\n",
       "      <td>2023-01-23 23:46:33.925000+00:00</td>\n",
       "      <td>rv-8f6e~9dpn.id6z</td>\n",
       "      <td>39.0</td>\n",
       "      <td>10.0</td>\n",
       "      <td>7.0</td>\n",
       "      <td>35.0</td>\n",
       "      <td>35.0</td>\n",
       "      <td>8.0</td>\n",
       "      <td>...</td>\n",
       "      <td>False</td>\n",
       "      <td>4.0</td>\n",
       "      <td>Sunset/Parkside</td>\n",
       "      <td>{'latitude': '37.748396041406835', 'longitude'...</td>\n",
       "      <td>{'type': 'Point', 'coordinates': [-122.50294, ...</td>\n",
       "      <td>NaN</td>\n",
       "      <td>NaN</td>\n",
       "      <td>NaN</td>\n",
       "      <td>NaN</td>\n",
       "      <td>NaN</td>\n",
       "    </tr>\n",
       "    <tr>\n",
       "      <th>5</th>\n",
       "      <td>row-gr32-umab-fxqu</td>\n",
       "      <td>2023-01-23 23:46:16.858000+00:00</td>\n",
       "      <td>2023-01-23 23:46:33.925000+00:00</td>\n",
       "      <td>rv-d76w-xwwa~2fpx</td>\n",
       "      <td>91.0</td>\n",
       "      <td>2.0</td>\n",
       "      <td>2.0</td>\n",
       "      <td>25.0</td>\n",
       "      <td>28.0</td>\n",
       "      <td>3.0</td>\n",
       "      <td>...</td>\n",
       "      <td>False</td>\n",
       "      <td>9.0</td>\n",
       "      <td>Portola</td>\n",
       "      <td>{'latitude': '37.730376135010886', 'longitude'...</td>\n",
       "      <td>{'type': 'Point', 'coordinates': [-122.40584, ...</td>\n",
       "      <td>NaN</td>\n",
       "      <td>NaN</td>\n",
       "      <td>NaN</td>\n",
       "      <td>NaN</td>\n",
       "      <td>NaN</td>\n",
       "    </tr>\n",
       "    <tr>\n",
       "      <th>6</th>\n",
       "      <td>row-5jy6_s62c~m2g4</td>\n",
       "      <td>2023-01-23 23:46:16.858000+00:00</td>\n",
       "      <td>2023-01-23 23:46:33.925000+00:00</td>\n",
       "      <td>rv-pbei~25pq-sufa</td>\n",
       "      <td>44.0</td>\n",
       "      <td>10.0</td>\n",
       "      <td>8.0</td>\n",
       "      <td>41.0</td>\n",
       "      <td>40.0</td>\n",
       "      <td>8.0</td>\n",
       "      <td>...</td>\n",
       "      <td>False</td>\n",
       "      <td>7.0</td>\n",
       "      <td>West of Twin Peaks</td>\n",
       "      <td>{'latitude': '37.74321534793589', 'longitude':...</td>\n",
       "      <td>{'type': 'Point', 'coordinates': [-122.47192, ...</td>\n",
       "      <td>NaN</td>\n",
       "      <td>NaN</td>\n",
       "      <td>NaN</td>\n",
       "      <td>NaN</td>\n",
       "      <td>NaN</td>\n",
       "    </tr>\n",
       "    <tr>\n",
       "      <th>7</th>\n",
       "      <td>row-vzi9_7svc~98jq</td>\n",
       "      <td>2023-01-23 23:46:16.858000+00:00</td>\n",
       "      <td>2023-01-23 23:46:33.925000+00:00</td>\n",
       "      <td>rv-md38~jqdr~y94e</td>\n",
       "      <td>20.0</td>\n",
       "      <td>5.0</td>\n",
       "      <td>10.0</td>\n",
       "      <td>36.0</td>\n",
       "      <td>36.0</td>\n",
       "      <td>10.0</td>\n",
       "      <td>...</td>\n",
       "      <td>False</td>\n",
       "      <td>5.0</td>\n",
       "      <td>Tenderloin</td>\n",
       "      <td>{'latitude': '37.78333200817521', 'longitude':...</td>\n",
       "      <td>{'type': 'Point', 'coordinates': [-122.40984, ...</td>\n",
       "      <td>6.0</td>\n",
       "      <td>1.0</td>\n",
       "      <td>1.0</td>\n",
       "      <td>18.0</td>\n",
       "      <td>NaN</td>\n",
       "    </tr>\n",
       "    <tr>\n",
       "      <th>8</th>\n",
       "      <td>row-hin8.uhzw.rh2d</td>\n",
       "      <td>2023-01-23 23:46:16.858000+00:00</td>\n",
       "      <td>2023-01-23 23:46:33.925000+00:00</td>\n",
       "      <td>rv-r87s.ubap-ypha</td>\n",
       "      <td>20.0</td>\n",
       "      <td>5.0</td>\n",
       "      <td>10.0</td>\n",
       "      <td>36.0</td>\n",
       "      <td>36.0</td>\n",
       "      <td>10.0</td>\n",
       "      <td>...</td>\n",
       "      <td>False</td>\n",
       "      <td>5.0</td>\n",
       "      <td>Tenderloin</td>\n",
       "      <td>{'latitude': '37.78361971423206', 'longitude':...</td>\n",
       "      <td>{'type': 'Point', 'coordinates': [-122.41506, ...</td>\n",
       "      <td>6.0</td>\n",
       "      <td>1.0</td>\n",
       "      <td>1.0</td>\n",
       "      <td>18.0</td>\n",
       "      <td>NaN</td>\n",
       "    </tr>\n",
       "    <tr>\n",
       "      <th>9</th>\n",
       "      <td>row-c8et.y7q5~zf5a</td>\n",
       "      <td>2023-01-23 23:46:16.858000+00:00</td>\n",
       "      <td>2023-01-23 23:46:33.925000+00:00</td>\n",
       "      <td>rv-hhns.jcpx_zh4i</td>\n",
       "      <td>20.0</td>\n",
       "      <td>5.0</td>\n",
       "      <td>10.0</td>\n",
       "      <td>36.0</td>\n",
       "      <td>36.0</td>\n",
       "      <td>10.0</td>\n",
       "      <td>...</td>\n",
       "      <td>False</td>\n",
       "      <td>5.0</td>\n",
       "      <td>Tenderloin</td>\n",
       "      <td>{'latitude': '37.78361971423206', 'longitude':...</td>\n",
       "      <td>{'type': 'Point', 'coordinates': [-122.41506, ...</td>\n",
       "      <td>6.0</td>\n",
       "      <td>1.0</td>\n",
       "      <td>1.0</td>\n",
       "      <td>18.0</td>\n",
       "      <td>NaN</td>\n",
       "    </tr>\n",
       "  </tbody>\n",
       "</table>\n",
       "<p>10 rows × 49 columns</p>\n",
       "</div>"
      ],
      "text/plain": [
       "                  :id                      :created_at  \\\n",
       "0  row-ufzj_22gk~drek 2023-01-23 23:46:16.858000+00:00   \n",
       "1  row-k4ar_jqfk~qf9p 2023-01-23 23:46:16.858000+00:00   \n",
       "2  row-g7er.wz7c~98am 2023-01-23 23:46:16.858000+00:00   \n",
       "3  row-jvdz~8ne5_agq5 2023-01-23 23:46:16.858000+00:00   \n",
       "4  row-er7z~7fk9~55mx 2023-01-23 23:46:16.858000+00:00   \n",
       "5  row-gr32-umab-fxqu 2023-01-23 23:46:16.858000+00:00   \n",
       "6  row-5jy6_s62c~m2g4 2023-01-23 23:46:16.858000+00:00   \n",
       "7  row-vzi9_7svc~98jq 2023-01-23 23:46:16.858000+00:00   \n",
       "8  row-hin8.uhzw.rh2d 2023-01-23 23:46:16.858000+00:00   \n",
       "9  row-c8et.y7q5~zf5a 2023-01-23 23:46:16.858000+00:00   \n",
       "\n",
       "                       :updated_at           :version  \\\n",
       "0 2023-01-23 23:46:33.925000+00:00  rv-wryr~aezj~xte7   \n",
       "1 2023-01-23 23:46:33.925000+00:00  rv-jrf5.m8q7.bb2j   \n",
       "2 2023-01-23 23:46:33.925000+00:00  rv-kub4-qfcm-vv5s   \n",
       "3 2023-01-23 23:46:33.925000+00:00  rv-t6vv~sqbg.fcxv   \n",
       "4 2023-01-23 23:46:33.925000+00:00  rv-8f6e~9dpn.id6z   \n",
       "5 2023-01-23 23:46:33.925000+00:00  rv-d76w-xwwa~2fpx   \n",
       "6 2023-01-23 23:46:33.925000+00:00  rv-pbei~25pq-sufa   \n",
       "7 2023-01-23 23:46:33.925000+00:00  rv-md38~jqdr~y94e   \n",
       "8 2023-01-23 23:46:33.925000+00:00  rv-r87s.ubap-ypha   \n",
       "9 2023-01-23 23:46:33.925000+00:00  rv-hhns.jcpx_zh4i   \n",
       "\n",
       "   :@computed_region_6qbp_sg9q  :@computed_region_qgnn_b9vv  \\\n",
       "0                         53.0                          3.0   \n",
       "1                         55.0                          2.0   \n",
       "2                         20.0                          6.0   \n",
       "3                         55.0                          2.0   \n",
       "4                         39.0                         10.0   \n",
       "5                         91.0                          2.0   \n",
       "6                         44.0                         10.0   \n",
       "7                         20.0                          5.0   \n",
       "8                         20.0                          5.0   \n",
       "9                         20.0                          5.0   \n",
       "\n",
       "   :@computed_region_26cr_cadq  :@computed_region_ajp5_b2md  \\\n",
       "0                          2.0                         20.0   \n",
       "1                          9.0                         26.0   \n",
       "2                         10.0                         36.0   \n",
       "3                          9.0                         26.0   \n",
       "4                          7.0                         35.0   \n",
       "5                          2.0                         25.0   \n",
       "6                          8.0                         41.0   \n",
       "7                         10.0                         36.0   \n",
       "8                         10.0                         36.0   \n",
       "9                         10.0                         36.0   \n",
       "\n",
       "   :@computed_region_fyvs_ahh9  :@computed_region_p5aj_wyqh  ...  \\\n",
       "0                         19.0                          4.0  ...   \n",
       "1                         29.0                          3.0  ...   \n",
       "2                         36.0                          1.0  ...   \n",
       "3                         29.0                          3.0  ...   \n",
       "4                         35.0                          8.0  ...   \n",
       "5                         28.0                          3.0  ...   \n",
       "6                         40.0                          8.0  ...   \n",
       "7                         36.0                         10.0  ...   \n",
       "8                         36.0                         10.0  ...   \n",
       "9                         36.0                         10.0  ...   \n",
       "\n",
       "   good_samaritan_ends  supervisor_district        neighborhood  \\\n",
       "0                False                  9.0             Mission   \n",
       "1                False                 10.0        Potrero Hill   \n",
       "2                False                  3.0          Tenderloin   \n",
       "3                False                 10.0        Potrero Hill   \n",
       "4                False                  4.0     Sunset/Parkside   \n",
       "5                False                  9.0             Portola   \n",
       "6                False                  7.0  West of Twin Peaks   \n",
       "7                False                  5.0          Tenderloin   \n",
       "8                False                  5.0          Tenderloin   \n",
       "9                False                  5.0          Tenderloin   \n",
       "\n",
       "                                     client_location  \\\n",
       "0  {'latitude': '37.75649855484188', 'longitude':...   \n",
       "1  {'latitude': '37.7636861675663', 'longitude': ...   \n",
       "2  {'latitude': '37.78620563104688', 'longitude':...   \n",
       "3  {'latitude': '37.7636861675663', 'longitude': ...   \n",
       "4  {'latitude': '37.748396041406835', 'longitude'...   \n",
       "5  {'latitude': '37.730376135010886', 'longitude'...   \n",
       "6  {'latitude': '37.74321534793589', 'longitude':...   \n",
       "7  {'latitude': '37.78333200817521', 'longitude':...   \n",
       "8  {'latitude': '37.78361971423206', 'longitude':...   \n",
       "9  {'latitude': '37.78361971423206', 'longitude':...   \n",
       "\n",
       "                                               shape  \\\n",
       "0  {'type': 'Point', 'coordinates': [-122.41447, ...   \n",
       "1  {'type': 'Point', 'coordinates': [-122.38873, ...   \n",
       "2  {'type': 'Point', 'coordinates': [-122.41727, ...   \n",
       "3  {'type': 'Point', 'coordinates': [-122.38873, ...   \n",
       "4  {'type': 'Point', 'coordinates': [-122.50294, ...   \n",
       "5  {'type': 'Point', 'coordinates': [-122.40584, ...   \n",
       "6  {'type': 'Point', 'coordinates': [-122.47192, ...   \n",
       "7  {'type': 'Point', 'coordinates': [-122.40984, ...   \n",
       "8  {'type': 'Point', 'coordinates': [-122.41506, ...   \n",
       "9  {'type': 'Point', 'coordinates': [-122.41506, ...   \n",
       "\n",
       "  :@computed_region_9jxd_iqea :@computed_region_6ezc_tdp2  \\\n",
       "0                         NaN                         NaN   \n",
       "1                        14.0                         NaN   \n",
       "2                         NaN                         NaN   \n",
       "3                        14.0                         NaN   \n",
       "4                         NaN                         NaN   \n",
       "5                         NaN                         NaN   \n",
       "6                         NaN                         NaN   \n",
       "7                         6.0                         1.0   \n",
       "8                         6.0                         1.0   \n",
       "9                         6.0                         1.0   \n",
       "\n",
       "  :@computed_region_h4ep_8xdi :@computed_region_pigm_ib2e  constraints_date  \n",
       "0                         NaN                         NaN               NaN  \n",
       "1                         NaN                         NaN               NaN  \n",
       "2                         NaN                         NaN               NaN  \n",
       "3                         NaN                         NaN               NaN  \n",
       "4                         NaN                         NaN               NaN  \n",
       "5                         NaN                         NaN               NaN  \n",
       "6                         NaN                         NaN               NaN  \n",
       "7                         1.0                        18.0               NaN  \n",
       "8                         1.0                        18.0               NaN  \n",
       "9                         1.0                        18.0               NaN  \n",
       "\n",
       "[10 rows x 49 columns]"
      ]
     },
     "execution_count": 15,
     "metadata": {},
     "output_type": "execute_result"
    }
   ],
   "source": [
    "pandas_df.head(10)"
   ]
  },
  {
   "cell_type": "code",
   "execution_count": 29,
   "id": "6894d5b5",
   "metadata": {},
   "outputs": [
    {
     "data": {
      "text/plain": [
       "(9678, 29)"
      ]
     },
     "execution_count": 29,
     "metadata": {},
     "output_type": "execute_result"
    }
   ],
   "source": [
    "# Removing rows with null data so we can avoid the error when convering to spark df for schema purpose\n",
    "\"\"\"The command pandas_df[pandas_df.notnull().all(1)] is used in Python's pandas library to filter rows from a pandas DataFrame based on whether they contain only non-null values in all columns.\n",
    "\n",
    "Here's how the command works:\n",
    "\n",
    "pandas_df refers to a pandas DataFrame.\n",
    "pandas_df.notnull() returns a DataFrame of the same shape as pandas_df but with boolean values indicating whether each element is null or not.\n",
    "pandas_df.notnull().all(1) returns a Series of boolean values indicating whether all the values in each row of the DataFrame are non-null. The 1 argument specifies that we want to check for non-null values across each row.\n",
    "Finally, pandas_df[pandas_df.notnull().all(1)] returns a new DataFrame that contains only the rows where all the values are non-null. This is achieved by using the boolean Series to select only the rows where all the values are True.\n",
    "In summary, this command can be used to filter out rows with missing values from a pandas DataFrame.\"\"\"\n",
    "pandas_df= pandas_df[pandas_df.notnull().all(1)]\n",
    "pandas_df.shape"
   ]
  },
  {
   "cell_type": "code",
   "execution_count": 30,
   "id": "b55641ef",
   "metadata": {},
   "outputs": [
    {
     "name": "stderr",
     "output_type": "stream",
     "text": [
      "/home/sanyashireen/spark/spark-3.3.2-bin-hadoop3/python/pyspark/sql/pandas/conversion.py:474: FutureWarning: iteritems is deprecated and will be removed in a future version. Use .items instead.\n",
      "  for column, series in pdf.iteritems():\n",
      "/home/sanyashireen/spark/spark-3.3.2-bin-hadoop3/python/pyspark/sql/pandas/conversion.py:486: FutureWarning: iteritems is deprecated and will be removed in a future version. Use .items instead.\n",
      "  for column, series in pdf.iteritems():\n"
     ]
    },
    {
     "data": {
      "text/plain": [
       "StructType([StructField('client_location', StringType(), True), StructField('neighborhood', StringType(), True), StructField('non_payment', BooleanType(), True), StructField('nuisance', BooleanType(), True), StructField('breach', BooleanType(), True), StructField('city', StringType(), True), StructField('address', StringType(), True), StructField('demolition', BooleanType(), True), StructField('illegal_use', BooleanType(), True), StructField('access_denial', BooleanType(), True), StructField('other_cause', BooleanType(), True), StructField('eviction_id', StringType(), True), StructField('state', StringType(), True), StructField('substantial_rehab', BooleanType(), True), StructField('development', BooleanType(), True), StructField('constraints_date', StringType(), True), StructField('roommate_same_unit', BooleanType(), True), StructField('file_date', StringType(), True), StructField('ellis_act_withdrawal', BooleanType(), True), StructField('good_samaritan_ends', BooleanType(), True), StructField('lead_remediation', BooleanType(), True), StructField('unapproved_subtenant', BooleanType(), True), StructField('capital_improvement', BooleanType(), True), StructField('condo_conversion', BooleanType(), True), StructField('late_payments', BooleanType(), True), StructField('zip', DoubleType(), True), StructField('supervisor_district', DoubleType(), True), StructField('owner_move_in', BooleanType(), True), StructField('failure_to_sign_renewal', BooleanType(), True)])"
      ]
     },
     "execution_count": 30,
     "metadata": {},
     "output_type": "execute_result"
    }
   ],
   "source": [
    "# Extract the schema of the pandas df by converting it to pyspark df\n",
    "spark.createDataFrame(pandas_df).schema\n",
    "# Modify and align the schema in VSCode"
   ]
  },
  {
   "cell_type": "code",
   "execution_count": 186,
   "id": "bbb4b88a",
   "metadata": {},
   "outputs": [
    {
     "data": {
      "text/plain": [
       "(9678, 29)"
      ]
     },
     "execution_count": 186,
     "metadata": {},
     "output_type": "execute_result"
    }
   ],
   "source": [
    "pandas_df[pandas_df['illegal_use']==False].shape"
   ]
  },
  {
   "cell_type": "code",
   "execution_count": 189,
   "id": "55f88b79",
   "metadata": {},
   "outputs": [
    {
     "data": {
      "text/plain": [
       "47       False\n",
       "54       False\n",
       "74       False\n",
       "94       False\n",
       "95       False\n",
       "         ...  \n",
       "99971    False\n",
       "99982    False\n",
       "99984    False\n",
       "99991    False\n",
       "99992    False\n",
       "Name: illegal_use, Length: 9678, dtype: bool"
      ]
     },
     "execution_count": 189,
     "metadata": {},
     "output_type": "execute_result"
    }
   ],
   "source": [
    "pandas_df['illegal_use']"
   ]
  },
  {
   "cell_type": "code",
   "execution_count": 35,
   "id": "0384e6f7",
   "metadata": {},
   "outputs": [
    {
     "data": {
      "text/html": [
       "<div>\n",
       "<style scoped>\n",
       "    .dataframe tbody tr th:only-of-type {\n",
       "        vertical-align: middle;\n",
       "    }\n",
       "\n",
       "    .dataframe tbody tr th {\n",
       "        vertical-align: top;\n",
       "    }\n",
       "\n",
       "    .dataframe thead th {\n",
       "        text-align: right;\n",
       "    }\n",
       "</style>\n",
       "<table border=\"1\" class=\"dataframe\">\n",
       "  <thead>\n",
       "    <tr style=\"text-align: right;\">\n",
       "      <th></th>\n",
       "      <th>client_location</th>\n",
       "      <th>neighborhood</th>\n",
       "      <th>non_payment</th>\n",
       "      <th>nuisance</th>\n",
       "      <th>breach</th>\n",
       "      <th>city</th>\n",
       "      <th>address</th>\n",
       "      <th>demolition</th>\n",
       "      <th>illegal_use</th>\n",
       "      <th>access_denial</th>\n",
       "      <th>...</th>\n",
       "      <th>good_samaritan_ends</th>\n",
       "      <th>lead_remediation</th>\n",
       "      <th>unapproved_subtenant</th>\n",
       "      <th>capital_improvement</th>\n",
       "      <th>condo_conversion</th>\n",
       "      <th>late_payments</th>\n",
       "      <th>zip</th>\n",
       "      <th>supervisor_district</th>\n",
       "      <th>owner_move_in</th>\n",
       "      <th>failure_to_sign_renewal</th>\n",
       "    </tr>\n",
       "  </thead>\n",
       "  <tbody>\n",
       "  </tbody>\n",
       "</table>\n",
       "<p>0 rows × 29 columns</p>\n",
       "</div>"
      ],
      "text/plain": [
       "Empty DataFrame\n",
       "Columns: [client_location, neighborhood, non_payment, nuisance, breach, city, address, demolition, illegal_use, access_denial, other_cause, eviction_id, state, substantial_rehab, development, constraints_date, roommate_same_unit, file_date, ellis_act_withdrawal, good_samaritan_ends, lead_remediation, unapproved_subtenant, capital_improvement, condo_conversion, late_payments, zip, supervisor_district, owner_move_in, failure_to_sign_renewal]\n",
       "Index: []\n",
       "\n",
       "[0 rows x 29 columns]"
      ]
     },
     "execution_count": 35,
     "metadata": {},
     "output_type": "execute_result"
    }
   ],
   "source": [
    "pandas_df[pandas_df['development']=='M221207']"
   ]
  },
  {
   "cell_type": "code",
   "execution_count": 190,
   "id": "9ba76eb1",
   "metadata": {},
   "outputs": [
    {
     "data": {
      "text/plain": [
       "47       2028-01-16T00:00:00.000\n",
       "54       2028-01-31T00:00:00.000\n",
       "74       2027-12-31T00:00:00.000\n",
       "94       2028-01-03T00:00:00.000\n",
       "95       2028-01-03T00:00:00.000\n",
       "                  ...           \n",
       "99971    2018-04-22T00:00:00.000\n",
       "99982    2018-04-20T00:00:00.000\n",
       "99984    2018-04-21T00:00:00.000\n",
       "99991    2018-04-13T00:00:00.000\n",
       "99992    2018-04-20T00:00:00.000\n",
       "Name: constraints_date, Length: 9678, dtype: object"
      ]
     },
     "execution_count": 190,
     "metadata": {},
     "output_type": "execute_result"
    }
   ],
   "source": [
    "pandas_df['constraints_date']"
   ]
  },
  {
   "cell_type": "markdown",
   "id": "6e848ff1",
   "metadata": {},
   "source": [
    "## Creating PySpark Dataframe by passing the schema\n",
    "* Refer to the dtypes [here](https://data.sfgov.org/Housing-and-Buildings/Eviction-Notices/5cei-gny5)"
   ]
  },
  {
   "cell_type": "code",
   "execution_count": 193,
   "id": "9fd48eb0",
   "metadata": {},
   "outputs": [],
   "source": [
    "from pyspark.sql import types\n",
    "schema = types.StructType([\n",
    "    types.StructField('eviction_id', types.StringType(), True), \n",
    "    types.StructField('address', types.StringType(), True), \n",
    "    types.StructField('city', types.StringType(), True), \n",
    "    types.StructField('state', types.StringType(), True), \n",
    "    types.StructField('zip', types.IntegerType(), True), \n",
    "    types.StructField('file_date', types.DateType(), True), \n",
    "    types.StructField('non_payment', types.BooleanType(), True), \n",
    "    types.StructField('breach', types.BooleanType(), True), \n",
    "    types.StructField('nuisance', types.BooleanType(), True), \n",
    "    types.StructField('illegal_use', types.BooleanType(), True), \n",
    "    types.StructField('failure_to_sign_renewal', types.BooleanType(), True), \n",
    "    types.StructField('access_denial', types.BooleanType(), True), \n",
    "    types.StructField('unapproved_subtenant', types.BooleanType(), True), \n",
    "    types.StructField('owner_move_in', types.BooleanType(), True), \n",
    "    types.StructField('demolition', types.BooleanType(), True), \n",
    "    types.StructField('capital_improvement', types.BooleanType(), True), \n",
    "    types.StructField('substantial_rehab', types.BooleanType(), True), \n",
    "    types.StructField('ellis_act_withdrawal', types.BooleanType(), True), \n",
    "    types.StructField('condo_conversion', types.BooleanType(), True), \n",
    "    types.StructField('roommate_same_unit', types.BooleanType(), True), \n",
    "    types.StructField('other_cause', types.BooleanType(), True), \n",
    "    types.StructField('late_payments', types.BooleanType(), True), \n",
    "    types.StructField('lead_remediation', types.BooleanType(), True), \n",
    "    types.StructField('development', types.BooleanType(), True), \n",
    "    types.StructField('good_samaritan_ends', types.BooleanType(), True), \n",
    "    types.StructField('constraints_date', types.StringType(), True), \n",
    "    types.StructField('supervisor_district', types.IntegerType(), True), \n",
    "    types.StructField('neighborhood', types.StringType(), True), \n",
    "    types.StructField('client_location', types.StringType(), True)])"
   ]
  },
  {
   "cell_type": "code",
   "execution_count": 194,
   "id": "db38e6d9",
   "metadata": {},
   "outputs": [],
   "source": [
    "raw_pyspark_df = spark.read \\\n",
    "                       .option(\"header\", \"true\") \\\n",
    "                       .schema(schema) \\\n",
    "                       .csv(source_path)"
   ]
  },
  {
   "cell_type": "code",
   "execution_count": 195,
   "id": "75077372",
   "metadata": {},
   "outputs": [
    {
     "data": {
      "text/plain": [
       "177578"
      ]
     },
     "execution_count": 195,
     "metadata": {},
     "output_type": "execute_result"
    }
   ],
   "source": [
    "raw_pyspark_df.count()"
   ]
  },
  {
   "cell_type": "code",
   "execution_count": 196,
   "id": "8f951ba3",
   "metadata": {},
   "outputs": [],
   "source": [
    "pyspark_df = raw_pyspark_df.select(imp_cols)"
   ]
  },
  {
   "cell_type": "code",
   "execution_count": 197,
   "id": "f8356a77",
   "metadata": {},
   "outputs": [
    {
     "name": "stdout",
     "output_type": "stream",
     "text": [
      "root\n",
      " |-- eviction_id: string (nullable = true)\n",
      " |-- address: string (nullable = true)\n",
      " |-- city: string (nullable = true)\n",
      " |-- state: string (nullable = true)\n",
      " |-- zip: integer (nullable = true)\n",
      " |-- file_date: date (nullable = true)\n",
      " |-- non_payment: boolean (nullable = true)\n",
      " |-- breach: boolean (nullable = true)\n",
      " |-- nuisance: boolean (nullable = true)\n",
      " |-- illegal_use: boolean (nullable = true)\n",
      " |-- failure_to_sign_renewal: boolean (nullable = true)\n",
      " |-- access_denial: boolean (nullable = true)\n",
      " |-- unapproved_subtenant: boolean (nullable = true)\n",
      " |-- owner_move_in: boolean (nullable = true)\n",
      " |-- demolition: boolean (nullable = true)\n",
      " |-- capital_improvement: boolean (nullable = true)\n",
      " |-- substantial_rehab: boolean (nullable = true)\n",
      " |-- ellis_act_withdrawal: boolean (nullable = true)\n",
      " |-- condo_conversion: boolean (nullable = true)\n",
      " |-- roommate_same_unit: boolean (nullable = true)\n",
      " |-- other_cause: boolean (nullable = true)\n",
      " |-- late_payments: boolean (nullable = true)\n",
      " |-- lead_remediation: boolean (nullable = true)\n",
      " |-- development: boolean (nullable = true)\n",
      " |-- good_samaritan_ends: boolean (nullable = true)\n",
      " |-- constraints_date: string (nullable = true)\n",
      " |-- supervisor_district: integer (nullable = true)\n",
      " |-- neighborhood: string (nullable = true)\n",
      " |-- client_location: string (nullable = true)\n",
      "\n"
     ]
    }
   ],
   "source": [
    "pyspark_df.printSchema()"
   ]
  },
  {
   "cell_type": "markdown",
   "id": "50319c7d",
   "metadata": {},
   "source": [
    "## Option 1: Write partitioned data to local\n",
    "* And then use the prefect blocks to write the data to GCS and BQ"
   ]
  },
  {
   "cell_type": "code",
   "execution_count": 36,
   "id": "251ddd9c",
   "metadata": {},
   "outputs": [
    {
     "name": "stdout",
     "output_type": "stream",
     "text": [
      "23/03/23 18:48:08 WARN CSVHeaderChecker: Number of column in CSV header is not equal to number of fields in the schema:\n",
      " Header length: 45, schema size: 29\n",
      "CSV file: file:///home/sanyashireen/sf_eviction/data_eviction/2023/3/22/gcs_raw_eviction_2023-03-22.csv\n"
     ]
    },
    {
     "name": "stderr",
     "output_type": "stream",
     "text": [
      "                                                                                \r"
     ]
    }
   ],
   "source": [
    "# folder to write the partition on the local system\n",
    "data_partition_dir = '/home/sanyashireen/sf_eviction/data_eviction/2023/3/22/clean_eviction_2023-03-22_partitioned'\n",
    "pyspark_df = pyspark_df.repartition(100)\n",
    "pyspark_df.write.parquet(data_partition_dir, mode='overwrite')"
   ]
  },
  {
   "cell_type": "markdown",
   "id": "75067733",
   "metadata": {},
   "source": [
    "## Option 2: Write partitioned data directly to gcs and bq (as an external table)\n",
    "* Will need to use Dataproc for that."
   ]
  },
  {
   "cell_type": "code",
   "execution_count": null,
   "id": "eec45a2a",
   "metadata": {},
   "outputs": [],
   "source": []
  },
  {
   "cell_type": "code",
   "execution_count": 12,
   "id": "085914b2",
   "metadata": {},
   "outputs": [],
   "source": [
    "spark.stop()"
   ]
  },
  {
   "cell_type": "code",
   "execution_count": null,
   "id": "ce8a9520",
   "metadata": {},
   "outputs": [],
   "source": [
    "\n",
    "target_dir = '/home/sanyashireen/sf_eviction/data_eviction/2023/3/25/clean_eviction_2023-03-25_partitioned'\n",
    "spark = SparkSession.builder \\\n",
    "                    .master(\"local[*]\") \\\n",
    "                    .appName('test') \\\n",
    "                    .getOrCreate()\n",
    "imp_cols = ['eviction_id', 'address', 'city', 'state', 'zip', 'file_date', 'non_payment', 'breach', 'nuisance', 'illegal_use', 'failure_to_sign_renewal', 'access_denial', 'unapproved_subtenant', 'owner_move_in', 'demolition', 'capital_improvement', 'substantial_rehab', 'ellis_act_withdrawal', 'condo_conversion', 'roommate_same_unit', 'other_cause', 'late_payments', 'lead_remediation', 'development', 'good_samaritan_ends', 'constraints_date', 'supervisor_district', 'neighborhood', 'client_location']\n",
    "schema = types.StructType([\n",
    "                            types.StructField('eviction_id', types.StringType(), True), \n",
    "                            types.StructField('address', types.StringType(), True), \n",
    "                            types.StructField('city', types.StringType(), True), \n",
    "                            types.StructField('state', types.StringType(), True), \n",
    "                            types.StructField('zip', types.IntegerType(), True), \n",
    "                            types.StructField('file_date', types.DateType(), True), \n",
    "                            types.StructField('non_payment', types.BooleanType(), True), \n",
    "                            types.StructField('breach', types.BooleanType(), True), \n",
    "                            types.StructField('nuisance', types.BooleanType(), True), \n",
    "                            types.StructField('illegal_use', types.BooleanType(), True), \n",
    "                            types.StructField('failure_to_sign_renewal', types.BooleanType(), True), \n",
    "                            types.StructField('access_denial', types.BooleanType(), True), \n",
    "                            types.StructField('unapproved_subtenant', types.BooleanType(), True), \n",
    "                            types.StructField('owner_move_in', types.BooleanType(), True), \n",
    "                            types.StructField('demolition', types.BooleanType(), True), \n",
    "                            types.StructField('capital_improvement', types.BooleanType(), True), \n",
    "                            types.StructField('substantial_rehab', types.BooleanType(), True), \n",
    "                            types.StructField('ellis_act_withdrawal', types.BooleanType(), True), \n",
    "                            types.StructField('condo_conversion', types.BooleanType(), True), \n",
    "                            types.StructField('roommate_same_unit', types.BooleanType(), True), \n",
    "                            types.StructField('other_cause', types.BooleanType(), True), \n",
    "                            types.StructField('late_payments', types.BooleanType(), True), \n",
    "                            types.StructField('lead_remediation', types.BooleanType(), True), \n",
    "                            types.StructField('development', types.BooleanType(), True), \n",
    "                            types.StructField('good_samaritan_ends', types.BooleanType(), True), \n",
    "                            types.StructField('constraints_date', types.StringType(), True), \n",
    "                            types.StructField('supervisor_district', types.IntegerType(), True), \n",
    "                            types.StructField('neighborhood', types.StringType(), True), \n",
    "                            types.StructField('client_location', types.StringType(), True)])\n",
    "\n",
    "df = spark.read \\\n",
    "          .option(\"header\", \"true\") \\\n",
    "          .schema(schema) \\\n",
    "          .json(source_path) \\\n",
    "          .select(imp_cols)\n",
    "    \n",
    "print(f'Total rows read:' {df.shape})\n",
    "df = df.repartition(100)\n",
    "df.write.parquet(target_dir, mode='overwrite')\n",
    "spark.stop()"
   ]
  }
 ],
 "metadata": {
  "kernelspec": {
   "display_name": "conda-myenv-kernel",
   "language": "python",
   "name": "conda-myenv-kernel"
  },
  "language_info": {
   "codemirror_mode": {
    "name": "ipython",
    "version": 3
   },
   "file_extension": ".py",
   "mimetype": "text/x-python",
   "name": "python",
   "nbconvert_exporter": "python",
   "pygments_lexer": "ipython3",
   "version": "3.10.9"
  }
 },
 "nbformat": 4,
 "nbformat_minor": 5
}
