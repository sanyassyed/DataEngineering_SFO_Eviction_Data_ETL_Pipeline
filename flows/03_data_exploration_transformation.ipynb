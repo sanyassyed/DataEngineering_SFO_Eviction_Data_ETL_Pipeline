{
 "cells": [
  {
   "cell_type": "code",
   "execution_count": 1,
   "id": "278329f0",
   "metadata": {},
   "outputs": [
    {
     "name": "stderr",
     "output_type": "stream",
     "text": [
      "Setting default log level to \"WARN\".\n",
      "To adjust logging level use sc.setLogLevel(newLevel). For SparkR, use setLogLevel(newLevel).\n"
     ]
    },
    {
     "name": "stdout",
     "output_type": "stream",
     "text": [
      "23/03/23 17:16:10 WARN NativeCodeLoader: Unable to load native-hadoop library for your platform... using builtin-java classes where applicable\n"
     ]
    }
   ],
   "source": [
    "# Creating and testing script to clean and transform csv data using pyspark\n",
    "# spark related packages\n",
    "import pyspark\n",
    "from pyspark.sql import SparkSession\n",
    "spark = SparkSession.builder \\\n",
    "    .master(\"local[*]\") \\\n",
    "    .appName('test') \\\n",
    "    .getOrCreate()"
   ]
  },
  {
   "cell_type": "code",
   "execution_count": 2,
   "id": "ed65b098",
   "metadata": {},
   "outputs": [],
   "source": [
    "raw_data_filepath = '/home/sanyashireen/sf_eviction/data_eviction/2023/3/22/gcs_raw_eviction_2023-03-22.csv'\n",
    "df = spark.read.option(\"header\", \"true\").csv(str(raw_data_filepath))"
   ]
  },
  {
   "cell_type": "code",
   "execution_count": 3,
   "id": "50bf9449",
   "metadata": {},
   "outputs": [
    {
     "name": "stdout",
     "output_type": "stream",
     "text": [
      "23/03/23 17:16:20 WARN package: Truncated the string representation of a plan since it was too large. This behavior can be adjusted by setting 'spark.sql.debug.maxToStringFields'.\n",
      "+-----------+--------------------+-------------+-----+-----+--------------------+-----------+------+--------+-----------+-----------------------+-------------+--------------------+-------------+----------+-------------------+-----------------+--------------------+----------------+------------------+-----------+-------------+----------------+-----------+-------------------+----------------+-------------------+--------------------+---------------+--------------------+---------------------------+---------------------------+---------------------------+---------------------------+---------------------------+---------------------------+---------------------------+---------------------------+---------------------------+---------------------------+---------------------------+---------------------------+---------------------------+---------------------------+---------------------------+\n",
      "|eviction_id|             address|         city|state|  zip|           file_date|non_payment|breach|nuisance|illegal_use|failure_to_sign_renewal|access_denial|unapproved_subtenant|owner_move_in|demolition|capital_improvement|substantial_rehab|ellis_act_withdrawal|condo_conversion|roommate_same_unit|other_cause|late_payments|lead_remediation|development|good_samaritan_ends|constraints_date|supervisor_district|        neighborhood|client_location|               shape|:@computed_region_6qbp_sg9q|:@computed_region_qgnn_b9vv|:@computed_region_26cr_cadq|:@computed_region_ajp5_b2md|:@computed_region_fyvs_ahh9|:@computed_region_p5aj_wyqh|:@computed_region_rxqg_mtj9|:@computed_region_yftq_j783|:@computed_region_bh8s_q3mv|:@computed_region_9jxd_iqea|:@computed_region_6ezc_tdp2|:@computed_region_6pnf_4xz7|:@computed_region_h4ep_8xdi|:@computed_region_pigm_ib2e|:@computed_region_jwn9_ihcz|\n",
      "+-----------+--------------------+-------------+-----+-----+--------------------+-----------+------+--------+-----------+-----------------------+-------------+--------------------+-------------+----------+-------------------+-----------------+--------------------+----------------+------------------+-----------+-------------+----------------+-----------+-------------------+----------------+-------------------+--------------------+---------------+--------------------+---------------------------+---------------------------+---------------------------+---------------------------+---------------------------+---------------------------+---------------------------+---------------------------+---------------------------+---------------------------+---------------------------+---------------------------+---------------------------+---------------------------+---------------------------+\n",
      "|    M222138|400 Block Of Eddy...|San Francisco|   CA|94102|2022-12-12T00:00:...|      false| false|    true|      false|                  false|        false|               false|        false|     false|              false|            false|               false|           false|             false|      false|        false|           false|      false|              false|            null|                  5|          Tenderloin|           null|POINT (-122.41508...|                       null|                       null|                       null|                       null|                       null|                       null|                       null|                       null|                       null|                       null|                       null|                       null|                       null|                       null|                         20|\n",
      "|    M211838|900 Block Of Bush...|San Francisco|   CA|94109|2021-12-06T00:00:...|      false| false|    true|      false|                  false|        false|               false|        false|     false|              false|            false|               false|           false|             false|      false|        false|           false|      false|              false|            null|                  3|            Nob Hill|           null|POINT (-122.41292...|                       null|                       null|                       null|                       null|                       null|                       null|                       null|                       null|                       null|                       null|                       null|                       null|                       null|                       null|                         50|\n",
      "|    M222033|1000 Block Of Pin...|San Francisco|   CA|94109|2022-11-14T00:00:...|      false|  true|   false|      false|                  false|        false|               false|        false|     false|              false|            false|               false|           false|             false|      false|        false|           false|      false|              false|            null|                  3|            Nob Hill|           null|POINT (-122.4131 ...|                       null|                       null|                       null|                       null|                       null|                       null|                       null|                       null|                       null|                       null|                       null|                       null|                       null|                       null|                         16|\n",
      "|    M221840|100 Block Of Cain...|San Francisco|   CA|94117|2022-10-18T00:00:...|      false| false|   false|      false|                  false|        false|               false|        false|     false|               true|            false|               false|           false|             false|      false|        false|           false|      false|              false|            null|                 11|Oceanview/Merced/...|           null|POINT (-122.45181...|                       null|                       null|                       null|                       null|                       null|                       null|                       null|                       null|                       null|                       null|                       null|                       null|                       null|                       null|                         81|\n",
      "|    M120930|1900 Block Of Jef...|San Francisco|   CA|94133|2012-06-21T00:00:...|      false|  true|   false|      false|                  false|        false|               false|        false|     false|              false|            false|               false|           false|             false|      false|        false|           false|      false|              false|            null|                  2|              Marina|           null|POINT (-122.44464...|                       null|                       null|                       null|                       null|                       null|                       null|                       null|                       null|                       null|                       null|                       null|                       null|                       null|                       null|                         17|\n",
      "|    M221228|400 Block Of Eddy...|San Francisco|   CA|94102|2022-08-11T00:00:...|      false|  true|   false|      false|                  false|        false|               false|        false|     false|              false|            false|               false|           false|             false|      false|        false|           false|      false|              false|            null|                  5|          Tenderloin|           null|POINT (-122.41508...|                       null|                       null|                       null|                       null|                       null|                       null|                       null|                       null|                       null|                       null|                       null|                       null|                       null|                       null|                         20|\n",
      "|    M221006|700 Block Of Bush...|San Francisco|   CA|94108|2022-07-06T00:00:...|      false| false|    true|      false|                  false|        false|               false|        false|     false|              false|            false|               false|           false|             false|      false|        false|           false|      false|              false|            null|                  3|            Nob Hill|           null|POINT (-122.40962...|                       null|                       null|                       null|                       null|                       null|                       null|                       null|                       null|                       null|                       null|                       null|                       null|                       null|                       null|                         16|\n",
      "|    M220692|1700 Block Of Mis...|San Francisco|   CA|94115|2022-05-02T00:00:...|      false|  true|   false|      false|                  false|        false|               false|        false|     false|              false|            false|               false|           false|             false|      false|        false|           false|      false|              false|            null|                  9|             Mission|           null|POINT (-122.42016...|                       null|                       null|                       null|                       null|                       null|                       null|                       null|                       null|                       null|                       null|                       null|                       null|                       null|                       null|                         53|\n",
      "|    M220284|2000 Block Of Bro...|San Francisco|   CA|94123|2022-02-18T00:00:...|      false|  true|   false|      false|                  false|        false|               false|        false|     false|              false|            false|               false|           false|             false|      false|        false|           false|      false|              false|            null|                  2|     Pacific Heights|           null|POINT (-122.43082...|                       null|                       null|                       null|                       null|                       null|                       null|                       null|                       null|                       null|                       null|                       null|                       null|                       null|                       null|                        102|\n",
      "|    M220046|100 Block Of San ...|San Francisco|   CA|94103|2022-01-07T00:00:...|      false| false|   false|      false|                  false|        false|               false|        false|     false|              false|            false|               false|           false|              true|      false|        false|           false|      false|              false|            null|                  9|             Mission|           null|POINT (-122.42007...|                       null|                       null|                       null|                       null|                       null|                       null|                       null|                       null|                       null|                       null|                       null|                       null|                       null|                       null|                         53|\n",
      "|    M220033|1100 Block Of Pin...|San Francisco|   CA|94108|2022-01-05T00:00:...|      false| false|   false|      false|                  false|        false|                true|        false|     false|              false|            false|               false|           false|             false|      false|        false|           false|      false|              false|            null|                  3|            Nob Hill|           null|POINT (-122.41494...|                       null|                       null|                       null|                       null|                       null|                       null|                       null|                       null|                       null|                       null|                       null|                       null|                       null|                       null|                         16|\n",
      "|    M211708|100 Block Of Bart...|San Francisco|   CA|94115|2021-11-12T00:00:...|      false| false|    true|      false|                  false|        false|               false|        false|     false|              false|            false|               false|           false|             false|      false|        false|           false|      false|              false|            null|                  9|             Mission|           null|POINT (-122.41979...|                       null|                       null|                       null|                       null|                       null|                       null|                       null|                       null|                       null|                       null|                       null|                       null|                       null|                       null|                         53|\n",
      "|    M211708|100 Block Of Bart...|San Francisco|   CA|94115|2021-11-12T00:00:...|      false| false|    true|      false|                  false|        false|               false|        false|     false|              false|            false|               false|           false|             false|      false|        false|           false|      false|              false|            null|                  9|             Mission|           null|POINT (-122.41979...|                       null|                       null|                       null|                       null|                       null|                       null|                       null|                       null|                       null|                       null|                       null|                       null|                       null|                       null|                         53|\n",
      "|    M211725|1500 Block Of Mas...|San Francisco|   CA|94103|2021-11-17T00:00:...|      false| false|   false|      false|                  false|        false|               false|        false|     false|              false|            false|               false|           false|             false|       true|        false|           false|      false|              false|            null|                  3|            Nob Hill|           null|POINT (-122.412 3...|                       null|                       null|                       null|                       null|                       null|                       null|                       null|                       null|                       null|                       null|                       null|                       null|                       null|                       null|                        107|\n",
      "|    M211365|1700 Block Of Pag...|San Francisco|   CA|94177|2021-09-16T00:00:...|      false| false|    true|      false|                  false|        false|               false|        false|     false|              false|            false|               false|           false|             false|      false|        false|           false|      false|              false|            null|                  5|      Haight Ashbury|           null|POINT (-122.4496 ...|                       null|                       null|                       null|                       null|                       null|                       null|                       null|                       null|                       null|                       null|                       null|                       null|                       null|                       null|                         25|\n",
      "|    M211085|100 Block Of Broo...|San Francisco|   CA|94134|2021-08-09T00:00:...|      false| false|   false|      false|                  false|        false|               false|        false|     false|              false|            false|               false|           false|             false|       true|        false|           false|      false|              false|            null|               null|                null|           null|                null|                       null|                       null|                       null|                       null|                       null|                       null|                       null|                       null|                       null|                       null|                       null|                       null|                       null|                       null|                       null|\n",
      "|    M210913|12300 Block Of Gr...|San Francisco|   CA|94122|2021-07-02T00:00:...|      false| false|    true|      false|                  false|        false|               false|        false|     false|              false|            false|               false|           false|             false|      false|        false|           false|      false|              false|            null|               null|                null|           null|                null|                       null|                       null|                       null|                       null|                       null|                       null|                       null|                       null|                       null|                       null|                       null|                       null|                       null|                       null|                       null|\n",
      "|    M210425|400 Block Of Eddy...|San Francisco|   CA|94102|2021-03-25T00:00:...|      false| false|    true|      false|                  false|        false|               false|        false|     false|              false|            false|               false|           false|             false|      false|        false|           false|      false|              false|            null|                  5|          Tenderloin|           null|POINT (-122.41508...|                       null|                       null|                       null|                       null|                       null|                       null|                       null|                       null|                       null|                       null|                       null|                       null|                       null|                       null|                         20|\n",
      "|    M210425|400 Block Of Eddy...|San Francisco|   CA|94102|2021-03-25T00:00:...|      false| false|    true|      false|                  false|        false|               false|        false|     false|              false|            false|               false|           false|             false|      false|        false|           false|      false|              false|            null|                  5|          Tenderloin|           null|POINT (-122.41508...|                       null|                       null|                       null|                       null|                       null|                       null|                       null|                       null|                       null|                       null|                       null|                       null|                       null|                       null|                         20|\n",
      "|    M151302|2000 Block Of Ban...|San Francisco|   CA|94122|2015-05-26T00:00:...|      false| false|    true|      false|                  false|        false|               false|        false|     false|              false|            false|               false|           false|             false|      false|        false|           false|      false|              false|            null|                 10|Bayview Hunters P...|           null|POINT (-122.40122...|                       null|                       null|                       null|                       null|                       null|                       null|                       null|                       null|                       null|                       null|                       null|                       null|                       null|                       null|                         87|\n",
      "+-----------+--------------------+-------------+-----+-----+--------------------+-----------+------+--------+-----------+-----------------------+-------------+--------------------+-------------+----------+-------------------+-----------------+--------------------+----------------+------------------+-----------+-------------+----------------+-----------+-------------------+----------------+-------------------+--------------------+---------------+--------------------+---------------------------+---------------------------+---------------------------+---------------------------+---------------------------+---------------------------+---------------------------+---------------------------+---------------------------+---------------------------+---------------------------+---------------------------+---------------------------+---------------------------+---------------------------+\n",
      "only showing top 20 rows\n",
      "\n"
     ]
    }
   ],
   "source": [
    "df.show(20)"
   ]
  },
  {
   "cell_type": "code",
   "execution_count": 6,
   "id": "982a37f5",
   "metadata": {},
   "outputs": [
    {
     "name": "stdout",
     "output_type": "stream",
     "text": [
      "The pyspark df is a list of records where each record is of type <class 'pyspark.sql.types.Row'> \n",
      "\n",
      " Row(eviction_id='M222138', address='400 Block Of Eddy  Street', city='San Francisco', state='CA', zip='94102', file_date='2022-12-12T00:00:00.000', non_payment='false', breach='false', nuisance='true', illegal_use='false', failure_to_sign_renewal='false', access_denial='false', unapproved_subtenant='false', owner_move_in='false', demolition='false', capital_improvement='false', substantial_rehab='false', ellis_act_withdrawal='false', condo_conversion='false', roommate_same_unit='false', other_cause='false', late_payments='false', lead_remediation='false', development='false', good_samaritan_ends='false', constraints_date=None, supervisor_district='5', neighborhood='Tenderloin', client_location=None, shape='POINT (-122.41508 37.783627)', :@computed_region_6qbp_sg9q=None, :@computed_region_qgnn_b9vv=None, :@computed_region_26cr_cadq=None, :@computed_region_ajp5_b2md=None, :@computed_region_fyvs_ahh9=None, :@computed_region_p5aj_wyqh=None, :@computed_region_rxqg_mtj9=None, :@computed_region_yftq_j783=None, :@computed_region_bh8s_q3mv=None, :@computed_region_9jxd_iqea=None, :@computed_region_6ezc_tdp2=None, :@computed_region_6pnf_4xz7=None, :@computed_region_h4ep_8xdi=None, :@computed_region_pigm_ib2e=None, :@computed_region_jwn9_ihcz='20')\n"
     ]
    }
   ],
   "source": [
    "print(f'The pyspark df is a list of records where each record is of type {type(df.head(1)[0])} \\n\\n {df.head(1)[0]}')"
   ]
  },
  {
   "cell_type": "code",
   "execution_count": 7,
   "id": "acd96086",
   "metadata": {},
   "outputs": [
    {
     "name": "stdout",
     "output_type": "stream",
     "text": [
      "['eviction_id', 'address', 'city', 'state', 'zip', 'file_date', 'non_payment', 'breach', 'nuisance', 'illegal_use', 'failure_to_sign_renewal', 'access_denial', 'unapproved_subtenant', 'owner_move_in', 'demolition', 'capital_improvement', 'substantial_rehab', 'ellis_act_withdrawal', 'condo_conversion', 'roommate_same_unit', 'other_cause', 'late_payments', 'lead_remediation', 'development', 'good_samaritan_ends', 'constraints_date', 'supervisor_district', 'neighborhood', 'client_location', 'shape', ':@computed_region_6qbp_sg9q', ':@computed_region_qgnn_b9vv', ':@computed_region_26cr_cadq', ':@computed_region_ajp5_b2md', ':@computed_region_fyvs_ahh9', ':@computed_region_p5aj_wyqh', ':@computed_region_rxqg_mtj9', ':@computed_region_yftq_j783', ':@computed_region_bh8s_q3mv', ':@computed_region_9jxd_iqea', ':@computed_region_6ezc_tdp2', ':@computed_region_6pnf_4xz7', ':@computed_region_h4ep_8xdi', ':@computed_region_pigm_ib2e', ':@computed_region_jwn9_ihcz']\n",
      "eviction_id=M222138\n",
      "address=400 Block Of Eddy  Street\n",
      "city=San Francisco\n",
      "state=CA\n",
      "zip=94102\n",
      "file_date=2022-12-12T00:00:00.000\n",
      "non_payment=false\n",
      "breach=false\n",
      "nuisance=true\n",
      "illegal_use=false\n",
      "failure_to_sign_renewal=false\n",
      "access_denial=false\n",
      "unapproved_subtenant=false\n",
      "owner_move_in=false\n",
      "demolition=false\n",
      "capital_improvement=false\n",
      "substantial_rehab=false\n",
      "ellis_act_withdrawal=false\n",
      "condo_conversion=false\n",
      "roommate_same_unit=false\n",
      "other_cause=false\n",
      "late_payments=false\n",
      "lead_remediation=false\n",
      "development=false\n",
      "good_samaritan_ends=false\n",
      "constraints_date=None\n",
      "supervisor_district=5\n",
      "neighborhood=Tenderloin\n",
      "client_location=None\n",
      "shape=POINT (-122.41508 37.783627)\n",
      ":@computed_region_6qbp_sg9q=None\n",
      ":@computed_region_qgnn_b9vv=None\n",
      ":@computed_region_26cr_cadq=None\n",
      ":@computed_region_ajp5_b2md=None\n",
      ":@computed_region_fyvs_ahh9=None\n",
      ":@computed_region_p5aj_wyqh=None\n",
      ":@computed_region_rxqg_mtj9=None\n",
      ":@computed_region_yftq_j783=None\n",
      ":@computed_region_bh8s_q3mv=None\n",
      ":@computed_region_9jxd_iqea=None\n",
      ":@computed_region_6ezc_tdp2=None\n",
      ":@computed_region_6pnf_4xz7=None\n",
      ":@computed_region_h4ep_8xdi=None\n",
      ":@computed_region_pigm_ib2e=None\n",
      ":@computed_region_jwn9_ihcz=20\n"
     ]
    }
   ],
   "source": [
    "# Extracting column names to decide which ones are of interest\n",
    "# Convert type row to dictionary\n",
    "row_as_dict = df.head(1)[0].asDict()\n",
    "\n",
    "# Column Names\n",
    "print(list(row_as_dict.keys()))\n",
    "\n",
    "# Sample Column and Value\n",
    "for key, value in row_as_dict.items():\n",
    "    print(f'{key}={value}')\n"
   ]
  },
  {
   "cell_type": "markdown",
   "id": "05df4d41",
   "metadata": {},
   "source": [
    "## Analysis\n",
    "* As we can see the columns of interest are not all columns.\n",
    "* The last columns name `@computed_region*` is not of interest so we will ignore those columns.\n",
    "* And will extract only those columns from the raw dataset\n",
    "* Column `client_location` and `shape` hold the same data "
   ]
  },
  {
   "cell_type": "code",
   "execution_count": 20,
   "id": "beb58aa6",
   "metadata": {},
   "outputs": [],
   "source": [
    "imp_cols = ['eviction_id', 'address', 'city', 'state', 'zip', 'file_date', 'non_payment', 'breach', 'nuisance', 'illegal_use', 'failure_to_sign_renewal', 'access_denial', 'unapproved_subtenant', 'owner_move_in', 'demolition', 'capital_improvement', 'substantial_rehab', 'ellis_act_withdrawal', 'condo_conversion', 'roommate_same_unit', 'other_cause', 'late_payments', 'lead_remediation', 'development', 'good_samaritan_ends', 'constraints_date', 'supervisor_district', 'neighborhood', 'client_location']\n"
   ]
  },
  {
   "cell_type": "code",
   "execution_count": 9,
   "id": "d12457ca",
   "metadata": {},
   "outputs": [
    {
     "name": "stdout",
     "output_type": "stream",
     "text": [
      "+-----------+--------------------+-------------+-----+-----+--------------------+-----------+------+--------+-----------+-----------------------+-------------+--------------------+-------------+----------+-------------------+-----------------+--------------------+----------------+------------------+-----------+-------------+----------------+-----------+-------------------+----------------+-------------------+--------------------+---------------+--------------------+\n",
      "|eviction_id|             address|         city|state|  zip|           file_date|non_payment|breach|nuisance|illegal_use|failure_to_sign_renewal|access_denial|unapproved_subtenant|owner_move_in|demolition|capital_improvement|substantial_rehab|ellis_act_withdrawal|condo_conversion|roommate_same_unit|other_cause|late_payments|lead_remediation|development|good_samaritan_ends|constraints_date|supervisor_district|        neighborhood|client_location|               shape|\n",
      "+-----------+--------------------+-------------+-----+-----+--------------------+-----------+------+--------+-----------+-----------------------+-------------+--------------------+-------------+----------+-------------------+-----------------+--------------------+----------------+------------------+-----------+-------------+----------------+-----------+-------------------+----------------+-------------------+--------------------+---------------+--------------------+\n",
      "|    M222138|400 Block Of Eddy...|San Francisco|   CA|94102|2022-12-12T00:00:...|      false| false|    true|      false|                  false|        false|               false|        false|     false|              false|            false|               false|           false|             false|      false|        false|           false|      false|              false|            null|                  5|          Tenderloin|           null|POINT (-122.41508...|\n",
      "|    M211838|900 Block Of Bush...|San Francisco|   CA|94109|2021-12-06T00:00:...|      false| false|    true|      false|                  false|        false|               false|        false|     false|              false|            false|               false|           false|             false|      false|        false|           false|      false|              false|            null|                  3|            Nob Hill|           null|POINT (-122.41292...|\n",
      "|    M222033|1000 Block Of Pin...|San Francisco|   CA|94109|2022-11-14T00:00:...|      false|  true|   false|      false|                  false|        false|               false|        false|     false|              false|            false|               false|           false|             false|      false|        false|           false|      false|              false|            null|                  3|            Nob Hill|           null|POINT (-122.4131 ...|\n",
      "|    M221840|100 Block Of Cain...|San Francisco|   CA|94117|2022-10-18T00:00:...|      false| false|   false|      false|                  false|        false|               false|        false|     false|               true|            false|               false|           false|             false|      false|        false|           false|      false|              false|            null|                 11|Oceanview/Merced/...|           null|POINT (-122.45181...|\n",
      "|    M120930|1900 Block Of Jef...|San Francisco|   CA|94133|2012-06-21T00:00:...|      false|  true|   false|      false|                  false|        false|               false|        false|     false|              false|            false|               false|           false|             false|      false|        false|           false|      false|              false|            null|                  2|              Marina|           null|POINT (-122.44464...|\n",
      "+-----------+--------------------+-------------+-----+-----+--------------------+-----------+------+--------+-----------+-----------------------+-------------+--------------------+-------------+----------+-------------------+-----------------+--------------------+----------------+------------------+-----------+-------------+----------------+-----------+-------------------+----------------+-------------------+--------------------+---------------+--------------------+\n",
      "only showing top 5 rows\n",
      "\n"
     ]
    }
   ],
   "source": [
    "# new df with only selected columns \n",
    "df_clean = df.select(imp_cols)\n",
    "df_clean.show(5)"
   ]
  },
  {
   "cell_type": "code",
   "execution_count": 10,
   "id": "21bfc036",
   "metadata": {},
   "outputs": [
    {
     "name": "stdout",
     "output_type": "stream",
     "text": [
      "root\n",
      " |-- eviction_id: string (nullable = true)\n",
      " |-- address: string (nullable = true)\n",
      " |-- city: string (nullable = true)\n",
      " |-- state: string (nullable = true)\n",
      " |-- zip: string (nullable = true)\n",
      " |-- file_date: string (nullable = true)\n",
      " |-- non_payment: string (nullable = true)\n",
      " |-- breach: string (nullable = true)\n",
      " |-- nuisance: string (nullable = true)\n",
      " |-- illegal_use: string (nullable = true)\n",
      " |-- failure_to_sign_renewal: string (nullable = true)\n",
      " |-- access_denial: string (nullable = true)\n",
      " |-- unapproved_subtenant: string (nullable = true)\n",
      " |-- owner_move_in: string (nullable = true)\n",
      " |-- demolition: string (nullable = true)\n",
      " |-- capital_improvement: string (nullable = true)\n",
      " |-- substantial_rehab: string (nullable = true)\n",
      " |-- ellis_act_withdrawal: string (nullable = true)\n",
      " |-- condo_conversion: string (nullable = true)\n",
      " |-- roommate_same_unit: string (nullable = true)\n",
      " |-- other_cause: string (nullable = true)\n",
      " |-- late_payments: string (nullable = true)\n",
      " |-- lead_remediation: string (nullable = true)\n",
      " |-- development: string (nullable = true)\n",
      " |-- good_samaritan_ends: string (nullable = true)\n",
      " |-- constraints_date: string (nullable = true)\n",
      " |-- supervisor_district: string (nullable = true)\n",
      " |-- neighborhood: string (nullable = true)\n",
      " |-- client_location: string (nullable = true)\n",
      " |-- shape: string (nullable = true)\n",
      "\n"
     ]
    }
   ],
   "source": [
    "df_clean.printSchema()"
   ]
  },
  {
   "cell_type": "markdown",
   "id": "1cf95696",
   "metadata": {},
   "source": [
    "## Convert few rows to pandas df and extract the schema"
   ]
  },
  {
   "cell_type": "code",
   "execution_count": 14,
   "id": "83b362cf",
   "metadata": {},
   "outputs": [],
   "source": [
    "import pandas as p\n",
    "pandas_df = p.read_csv(raw_data_filepath, nrows=1000, usecols=imp_cols)"
   ]
  },
  {
   "cell_type": "code",
   "execution_count": 15,
   "id": "6894d5b5",
   "metadata": {},
   "outputs": [
    {
     "data": {
      "text/plain": [
       "(77, 30)"
      ]
     },
     "execution_count": 15,
     "metadata": {},
     "output_type": "execute_result"
    }
   ],
   "source": [
    "# Removing rows with null data so we can avoid the error when convering to spark df for schema purpose\n",
    "\"\"\"The command pandas_df[pandas_df.notnull().all(1)] is used in Python's pandas library to filter rows from a pandas DataFrame based on whether they contain only non-null values in all columns.\n",
    "\n",
    "Here's how the command works:\n",
    "\n",
    "pandas_df refers to a pandas DataFrame.\n",
    "pandas_df.notnull() returns a DataFrame of the same shape as pandas_df but with boolean values indicating whether each element is null or not.\n",
    "pandas_df.notnull().all(1) returns a Series of boolean values indicating whether all the values in each row of the DataFrame are non-null. The 1 argument specifies that we want to check for non-null values across each row.\n",
    "Finally, pandas_df[pandas_df.notnull().all(1)] returns a new DataFrame that contains only the rows where all the values are non-null. This is achieved by using the boolean Series to select only the rows where all the values are True.\n",
    "In summary, this command can be used to filter out rows with missing values from a pandas DataFrame.\"\"\"\n",
    "pandas_df= pandas_df[pandas_df.notnull().all(1)]\n",
    "pandas_df.shape"
   ]
  },
  {
   "cell_type": "code",
   "execution_count": 16,
   "id": "b55641ef",
   "metadata": {},
   "outputs": [
    {
     "name": "stderr",
     "output_type": "stream",
     "text": [
      "/home/sanyashireen/spark/spark-3.3.2-bin-hadoop3/python/pyspark/sql/pandas/conversion.py:474: FutureWarning: iteritems is deprecated and will be removed in a future version. Use .items instead.\n",
      "  for column, series in pdf.iteritems():\n",
      "/home/sanyashireen/spark/spark-3.3.2-bin-hadoop3/python/pyspark/sql/pandas/conversion.py:486: FutureWarning: iteritems is deprecated and will be removed in a future version. Use .items instead.\n",
      "  for column, series in pdf.iteritems():\n"
     ]
    },
    {
     "data": {
      "text/plain": [
       "StructType([StructField('eviction_id', StringType(), True), StructField('address', StringType(), True), StructField('city', StringType(), True), StructField('state', StringType(), True), StructField('zip', DoubleType(), True), StructField('file_date', StringType(), True), StructField('non_payment', BooleanType(), True), StructField('breach', BooleanType(), True), StructField('nuisance', BooleanType(), True), StructField('illegal_use', BooleanType(), True), StructField('failure_to_sign_renewal', BooleanType(), True), StructField('access_denial', BooleanType(), True), StructField('unapproved_subtenant', BooleanType(), True), StructField('owner_move_in', BooleanType(), True), StructField('demolition', BooleanType(), True), StructField('capital_improvement', BooleanType(), True), StructField('substantial_rehab', BooleanType(), True), StructField('ellis_act_withdrawal', BooleanType(), True), StructField('condo_conversion', BooleanType(), True), StructField('roommate_same_unit', BooleanType(), True), StructField('other_cause', BooleanType(), True), StructField('late_payments', BooleanType(), True), StructField('lead_remediation', BooleanType(), True), StructField('development', BooleanType(), True), StructField('good_samaritan_ends', BooleanType(), True), StructField('constraints_date', StringType(), True), StructField('supervisor_district', DoubleType(), True), StructField('neighborhood', StringType(), True), StructField('client_location', StringType(), True), StructField('shape', StringType(), True)])"
      ]
     },
     "execution_count": 16,
     "metadata": {},
     "output_type": "execute_result"
    }
   ],
   "source": [
    "# Extract the schema of the pandas df by converting it to pyspark df\n",
    "spark.createDataFrame(pandas_df).schema\n",
    "# Modify and align the schema in VSCode"
   ]
  },
  {
   "cell_type": "markdown",
   "id": "6e848ff1",
   "metadata": {},
   "source": [
    "## Creating PySpark Dataframe by passing the schema\n",
    "* Refer to the dtypes [here](https://data.sfgov.org/Housing-and-Buildings/Eviction-Notices/5cei-gny5)"
   ]
  },
  {
   "cell_type": "code",
   "execution_count": 29,
   "id": "9fd48eb0",
   "metadata": {},
   "outputs": [],
   "source": [
    "from pyspark.sql import types\n",
    "schema = types.StructType([\n",
    "    types.StructField('eviction_id', types.StringType(), True), \n",
    "    types.StructField('address', types.StringType(), True), \n",
    "    types.StructField('city', types.StringType(), True), \n",
    "    types.StructField('state', types.StringType(), True), \n",
    "    types.StructField('zip', types.IntegerType(), True), \n",
    "    types.StructField('file_date', types.DateType(), True), \n",
    "    types.StructField('non_payment', types.BooleanType(), True), \n",
    "    types.StructField('breach', types.BooleanType(), True), \n",
    "    types.StructField('nuisance', types.BooleanType(), True), \n",
    "    types.StructField('illegal_use', types.BooleanType(), True), \n",
    "    types.StructField('failure_to_sign_renewal', types.BooleanType(), True), \n",
    "    types.StructField('access_denial', types.BooleanType(), True), \n",
    "    types.StructField('unapproved_subtenant', types.BooleanType(), True), \n",
    "    types.StructField('owner_move_in', types.BooleanType(), True), \n",
    "    types.StructField('demolition', types.BooleanType(), True), \n",
    "    types.StructField('capital_improvement', types.BooleanType(), True), \n",
    "    types.StructField('substantial_rehab', types.BooleanType(), True), \n",
    "    types.StructField('ellis_act_withdrawal', types.BooleanType(), True), \n",
    "    types.StructField('condo_conversion', types.BooleanType(), True), \n",
    "    types.StructField('roommate_same_unit', types.BooleanType(), True), \n",
    "    types.StructField('other_cause', types.BooleanType(), True), \n",
    "    types.StructField('late_payments', types.BooleanType(), True), \n",
    "    types.StructField('lead_remediation', types.BooleanType(), True), \n",
    "    types.StructField('development', types.BooleanType(), True), \n",
    "    types.StructField('good_samaritan_ends', types.BooleanType(), True), \n",
    "    types.StructField('constraints_date', types.StringType(), True), \n",
    "    types.StructField('supervisor_district', types.IntegerType(), True), \n",
    "    types.StructField('neighborhood', types.StringType(), True), \n",
    "    types.StructField('client_location', types.StringType(), True)])"
   ]
  },
  {
   "cell_type": "code",
   "execution_count": 31,
   "id": "db38e6d9",
   "metadata": {},
   "outputs": [],
   "source": [
    "raw_pyspark_df = spark.read \\\n",
    "                       .option(\"header\", \"true\") \\\n",
    "                       .schema(schema) \\\n",
    "                       .csv(raw_data_filepath)"
   ]
  },
  {
   "cell_type": "code",
   "execution_count": 32,
   "id": "8f951ba3",
   "metadata": {},
   "outputs": [],
   "source": [
    "pyspark_df = raw_pyspark_df.select(imp_cols)"
   ]
  },
  {
   "cell_type": "code",
   "execution_count": 33,
   "id": "f8356a77",
   "metadata": {},
   "outputs": [
    {
     "name": "stdout",
     "output_type": "stream",
     "text": [
      "root\n",
      " |-- eviction_id: string (nullable = true)\n",
      " |-- address: string (nullable = true)\n",
      " |-- city: string (nullable = true)\n",
      " |-- state: string (nullable = true)\n",
      " |-- zip: integer (nullable = true)\n",
      " |-- file_date: date (nullable = true)\n",
      " |-- non_payment: boolean (nullable = true)\n",
      " |-- breach: boolean (nullable = true)\n",
      " |-- nuisance: boolean (nullable = true)\n",
      " |-- illegal_use: boolean (nullable = true)\n",
      " |-- failure_to_sign_renewal: boolean (nullable = true)\n",
      " |-- access_denial: boolean (nullable = true)\n",
      " |-- unapproved_subtenant: boolean (nullable = true)\n",
      " |-- owner_move_in: boolean (nullable = true)\n",
      " |-- demolition: boolean (nullable = true)\n",
      " |-- capital_improvement: boolean (nullable = true)\n",
      " |-- substantial_rehab: boolean (nullable = true)\n",
      " |-- ellis_act_withdrawal: boolean (nullable = true)\n",
      " |-- condo_conversion: boolean (nullable = true)\n",
      " |-- roommate_same_unit: boolean (nullable = true)\n",
      " |-- other_cause: boolean (nullable = true)\n",
      " |-- late_payments: boolean (nullable = true)\n",
      " |-- lead_remediation: boolean (nullable = true)\n",
      " |-- development: boolean (nullable = true)\n",
      " |-- good_samaritan_ends: boolean (nullable = true)\n",
      " |-- constraints_date: string (nullable = true)\n",
      " |-- supervisor_district: integer (nullable = true)\n",
      " |-- neighborhood: string (nullable = true)\n",
      " |-- client_location: string (nullable = true)\n",
      "\n"
     ]
    }
   ],
   "source": [
    "pyspark_df.printSchema()"
   ]
  },
  {
   "cell_type": "code",
   "execution_count": 36,
   "id": "251ddd9c",
   "metadata": {},
   "outputs": [
    {
     "name": "stdout",
     "output_type": "stream",
     "text": [
      "23/03/23 18:48:08 WARN CSVHeaderChecker: Number of column in CSV header is not equal to number of fields in the schema:\n",
      " Header length: 45, schema size: 29\n",
      "CSV file: file:///home/sanyashireen/sf_eviction/data_eviction/2023/3/22/gcs_raw_eviction_2023-03-22.csv\n"
     ]
    },
    {
     "name": "stderr",
     "output_type": "stream",
     "text": [
      "                                                                                \r"
     ]
    }
   ],
   "source": [
    "# folder to write the partition into\n",
    "data_partition_dir = '/home/sanyashireen/sf_eviction/data_eviction/2023/3/22/clean_eviction_2023-03-22_partitioned'\n",
    "pyspark_df = pyspark_df.repartition(100)\n",
    "pyspark_df.write.parquet(data_partition_dir, mode='overwrite')"
   ]
  },
  {
   "cell_type": "code",
   "execution_count": null,
   "id": "085914b2",
   "metadata": {},
   "outputs": [],
   "source": [
    "spark.stop()"
   ]
  }
 ],
 "metadata": {
  "kernelspec": {
   "display_name": "conda-myenv-kernel",
   "language": "python",
   "name": "conda-myenv-kernel"
  },
  "language_info": {
   "codemirror_mode": {
    "name": "ipython",
    "version": 3
   },
   "file_extension": ".py",
   "mimetype": "text/x-python",
   "name": "python",
   "nbconvert_exporter": "python",
   "pygments_lexer": "ipython3",
   "version": "3.10.9"
  }
 },
 "nbformat": 4,
 "nbformat_minor": 5
}
