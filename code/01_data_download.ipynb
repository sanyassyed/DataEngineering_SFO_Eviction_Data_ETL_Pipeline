{
 "cells": [
  {
   "cell_type": "markdown",
   "id": "e39c2264",
   "metadata": {},
   "source": [
    "# First PYSpark DataFrame Creation"
   ]
  },
  {
   "cell_type": "markdown",
   "id": "b03998ad",
   "metadata": {},
   "source": [
    "In this file we \n",
    "* Create a SparkSession object\n",
    "* Download a csv file from the web\n",
    "* Read the csv as a PySpark DataFrame\n",
    "* View the top 20 rows of the PySpark DataFrame\n",
    "* Write the PySpark DF as a parquet file to a folder zones (with default partition 1)"
   ]
  },
  {
   "cell_type": "code",
   "execution_count": 1,
   "id": "e43ad1f6",
   "metadata": {},
   "outputs": [],
   "source": [
    "import pyspark"
   ]
  },
  {
   "cell_type": "code",
   "execution_count": 3,
   "id": "fe54d771",
   "metadata": {},
   "outputs": [],
   "source": [
    "from pyspark.sql import SparkSession"
   ]
  },
  {
   "cell_type": "code",
   "execution_count": 22,
   "id": "659570ef",
   "metadata": {},
   "outputs": [],
   "source": [
    "from decouple import config, AutoConfig\n",
    "import os\n",
    "import requests\n",
    "from datetime import datetime, timedelta"
   ]
  },
  {
   "cell_type": "code",
   "execution_count": 14,
   "id": "68854d50",
   "metadata": {},
   "outputs": [
    {
     "data": {
      "text/plain": [
       "'/home/sanyashireen/sf_eviction'"
      ]
     },
     "execution_count": 14,
     "metadata": {},
     "output_type": "execute_result"
    }
   ],
   "source": [
    "os.getcwd()"
   ]
  },
  {
   "cell_type": "code",
   "execution_count": 19,
   "id": "30c39362",
   "metadata": {},
   "outputs": [],
   "source": [
    "config = AutoConfig(search_path='.env') # <-- .env file located next to manage.py\n",
    "API_TOKEN = config(\"API_TOKEN\")\n",
    "API_KEY_ID = config(\"API_KEY_ID\")\n",
    "API_KEY_SECRET = config(\"API_KEY_SECRET\")"
   ]
  },
  {
   "cell_type": "code",
   "execution_count": 20,
   "id": "1c795ba7",
   "metadata": {},
   "outputs": [],
   "source": [
    "# download the json by supplying the api token in the header\n",
    "def get_json(endpoint, headers):\n",
    "    \"\"\"Calls API, requests all created & updated records >/= 180 days.\"\"\"\n",
    "    headers['Accept'] = 'application/json'\n",
    "    pull_date = (datetime.now() - timedelta(days=180)).strftime(\"%Y-%m-%dT%H:%M:%S\")\n",
    "    combined = []\n",
    "    offset, counter = 0, 1\n",
    "    error = False\n",
    "    while True:\n",
    "        params = f\"\"\"$query=SELECT:*,* WHERE :created_at >= '{pull_date}' OR :updated_at >= '{pull_date}' \n",
    "                 ORDER BY :id LIMIT 1500\"\"\"\n",
    "        response = requests.get(endpoint, headers=headers, params=params)\n",
    "        if response.status_code != 200:\n",
    "            error = f'api_request-endpoint|{endpoint}|params|{params}|'\n",
    "            break\n",
    "        captured = response.json()\n",
    "        if len(captured) == 0:\n",
    "            break\n",
    "        combined.extend(captured)\n",
    "        offset = 10000 * counter\n",
    "        counter += 1\n",
    "    if error:\n",
    "        log_exit(filename=error, api_error=response.status_code)\n",
    "        return -1, -1\n",
    "\n",
    "    # params = f\"\"\"$query=SELECT:*,* WHERE :created_at >= '{pull_date}' OR :updated_at >= '{pull_date}'\n",
    "    #                     ORDER BY :id LIMIT 1500\"\"\"\n",
    "    # response = requests.get(endpoint, headers=headers, params=params)\n",
    "    # captured = response.json()\n",
    "    # combined.extend(captured)\n",
    "\n",
    "    metadata = parse_metadata(response.headers)\n",
    "    print('get_json complete')\n",
    "    return metadata, combined"
   ]
  },
  {
   "cell_type": "code",
   "execution_count": null,
   "id": "9f4885bf",
   "metadata": {},
   "outputs": [],
   "source": [
    "SODA_url = 'https://data.sfgov.org/resource/5cei-gny5'\n",
    "SODA_headers = {\n",
    "    'keyId': API_KEY_ID,\n",
    "    'keySecret': API_KEY_SECRET\n",
    "}\n",
    "head, content = get_json(SODA_url, SODA_headers)"
   ]
  },
  {
   "cell_type": "code",
   "execution_count": 4,
   "id": "b0356fab",
   "metadata": {},
   "outputs": [
    {
     "name": "stderr",
     "output_type": "stream",
     "text": [
      "Setting default log level to \"WARN\".\n",
      "To adjust logging level use sc.setLogLevel(newLevel). For SparkR, use setLogLevel(newLevel).\n"
     ]
    },
    {
     "name": "stdout",
     "output_type": "stream",
     "text": [
      "23/03/08 01:58:55 WARN NativeCodeLoader: Unable to load native-hadoop library for your platform... using builtin-java classes where applicable\n"
     ]
    }
   ],
   "source": [
    "# How we connect to spark locally with all available resources\n",
    "# Create PySpark SparkSession\n",
    "spark = SparkSession.builder.master(\"local[*]\").appName('test').getOrCreate()"
   ]
  },
  {
   "cell_type": "code",
   "execution_count": 5,
   "id": "967aa97b",
   "metadata": {},
   "outputs": [],
   "source": [
    "data_filename = '5cei-gny5.json'"
   ]
  },
  {
   "cell_type": "code",
   "execution_count": 12,
   "id": "42c5bf37",
   "metadata": {},
   "outputs": [],
   "source": [
    "# Read the csv as a PySpark DF object\n",
    "df = spark.read.json(data_filename)"
   ]
  },
  {
   "cell_type": "code",
   "execution_count": 13,
   "id": "14222270",
   "metadata": {},
   "outputs": [
    {
     "name": "stdout",
     "output_type": "stream",
     "text": [
      "root\n",
      " |-- _corrupt_record: string (nullable = true)\n",
      "\n"
     ]
    }
   ],
   "source": [
    "df.printSchema()"
   ]
  },
  {
   "cell_type": "code",
   "execution_count": 7,
   "id": "90f6e8bb",
   "metadata": {},
   "outputs": [
    {
     "name": "stdout",
     "output_type": "stream",
     "text": [
      "+----------+-------------+--------------------+------------+\n",
      "|LocationID|      Borough|                Zone|service_zone|\n",
      "+----------+-------------+--------------------+------------+\n",
      "|         1|          EWR|      Newark Airport|         EWR|\n",
      "|         2|       Queens|         Jamaica Bay|   Boro Zone|\n",
      "|         3|        Bronx|Allerton/Pelham G...|   Boro Zone|\n",
      "|         4|    Manhattan|       Alphabet City| Yellow Zone|\n",
      "|         5|Staten Island|       Arden Heights|   Boro Zone|\n",
      "|         6|Staten Island|Arrochar/Fort Wad...|   Boro Zone|\n",
      "|         7|       Queens|             Astoria|   Boro Zone|\n",
      "|         8|       Queens|        Astoria Park|   Boro Zone|\n",
      "|         9|       Queens|          Auburndale|   Boro Zone|\n",
      "|        10|       Queens|        Baisley Park|   Boro Zone|\n",
      "|        11|     Brooklyn|          Bath Beach|   Boro Zone|\n",
      "|        12|    Manhattan|        Battery Park| Yellow Zone|\n",
      "|        13|    Manhattan|   Battery Park City| Yellow Zone|\n",
      "|        14|     Brooklyn|           Bay Ridge|   Boro Zone|\n",
      "|        15|       Queens|Bay Terrace/Fort ...|   Boro Zone|\n",
      "|        16|       Queens|             Bayside|   Boro Zone|\n",
      "|        17|     Brooklyn|             Bedford|   Boro Zone|\n",
      "|        18|        Bronx|        Bedford Park|   Boro Zone|\n",
      "|        19|       Queens|           Bellerose|   Boro Zone|\n",
      "|        20|        Bronx|             Belmont|   Boro Zone|\n",
      "+----------+-------------+--------------------+------------+\n",
      "only showing top 20 rows\n",
      "\n"
     ]
    }
   ],
   "source": [
    "# View the top 20 rows of the PySpark DF\n",
    "df.show()"
   ]
  },
  {
   "cell_type": "code",
   "execution_count": 8,
   "id": "95308cc3",
   "metadata": {},
   "outputs": [
    {
     "name": "stderr",
     "output_type": "stream",
     "text": [
      "                                                                                \r"
     ]
    }
   ],
   "source": [
    "# Use Spark and write the PySpark DF to the folder 'zones' as a parquet file where it will be written as partitons\n",
    "# if number of partitions is not defined the default paritions in 1\n",
    "df.write.parquet('zones')"
   ]
  },
  {
   "cell_type": "code",
   "execution_count": 11,
   "id": "ede283a2",
   "metadata": {},
   "outputs": [
    {
     "name": "stdout",
     "output_type": "stream",
     "text": [
      "total 28K\r\n",
      "-rw-rw-r-- 1 sanyashireen sanyashireen 6.8K Feb 22 01:52 Untitled.ipynb\r\n",
      "-rw-rw-r-- 1 sanyashireen sanyashireen  13K Aug 17  2016 taxi+_zone_lookup.csv\r\n",
      "drwxr-xr-x 2 sanyashireen sanyashireen 4.0K Feb 22 01:54 zones\r\n"
     ]
    }
   ],
   "source": [
    "# We can see the folder zones was created to write the parquet file into\n",
    "!ls -lh"
   ]
  }
 ],
 "metadata": {
  "kernelspec": {
   "display_name": "conda-myenv-kernel",
   "language": "python",
   "name": "conda-myenv-kernel"
  },
  "language_info": {
   "codemirror_mode": {
    "name": "ipython",
    "version": 3
   },
   "file_extension": ".py",
   "mimetype": "text/x-python",
   "name": "python",
   "nbconvert_exporter": "python",
   "pygments_lexer": "ipython3",
   "version": "3.10.9"
  }
 },
 "nbformat": 4,
 "nbformat_minor": 5
}
